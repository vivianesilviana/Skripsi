{
  "cells": [
    {
      "cell_type": "markdown",
      "metadata": {
        "id": "dyQYZ1BmQG8i"
      },
      "source": [
        "#Rough Set"
      ]
    },
    {
      "cell_type": "code",
      "execution_count": null,
      "metadata": {
        "id": "XKS5k0TYQDzT"
      },
      "outputs": [],
      "source": [
        "#Impor Library Rough Set\n",
        "import pandas as pd\n",
        "import matplotlib.pyplot as plt\n",
        "import numpy as np\n",
        "import math\n",
        "import seaborn as sns\n",
        "%matplotlib inline\n",
        "import warnings\n",
        "\n",
        "warnings.filterwarnings('ignore')"
      ]
    },
    {
      "cell_type": "code",
      "execution_count": null,
      "metadata": {
        "colab": {
          "base_uri": "https://localhost:8080/",
          "height": 423
        },
        "id": "rkX_dju6gJ4n",
        "outputId": "0c7a0f79-751e-448f-84be-01c283e367b1"
      },
      "outputs": [
        {
          "output_type": "execute_result",
          "data": {
            "text/html": [
              "\n",
              "  <div id=\"df-d2b5d82b-c8c7-4cff-8c95-3334a0d677f8\">\n",
              "    <div class=\"colab-df-container\">\n",
              "      <div>\n",
              "<style scoped>\n",
              "    .dataframe tbody tr th:only-of-type {\n",
              "        vertical-align: middle;\n",
              "    }\n",
              "\n",
              "    .dataframe tbody tr th {\n",
              "        vertical-align: top;\n",
              "    }\n",
              "\n",
              "    .dataframe thead th {\n",
              "        text-align: right;\n",
              "    }\n",
              "</style>\n",
              "<table border=\"1\" class=\"dataframe\">\n",
              "  <thead>\n",
              "    <tr style=\"text-align: right;\">\n",
              "      <th></th>\n",
              "      <th>Gender</th>\n",
              "      <th>Age</th>\n",
              "      <th>TP</th>\n",
              "      <th>DB</th>\n",
              "      <th>AGR</th>\n",
              "      <th>SGPT</th>\n",
              "      <th>SGOT</th>\n",
              "      <th>AAP</th>\n",
              "      <th>Albumin</th>\n",
              "      <th>TB</th>\n",
              "      <th>Liver_Disease</th>\n",
              "    </tr>\n",
              "  </thead>\n",
              "  <tbody>\n",
              "    <tr>\n",
              "      <th>0</th>\n",
              "      <td>1</td>\n",
              "      <td>65</td>\n",
              "      <td>6.8</td>\n",
              "      <td>0.1</td>\n",
              "      <td>0.90</td>\n",
              "      <td>16</td>\n",
              "      <td>18</td>\n",
              "      <td>187</td>\n",
              "      <td>3.3</td>\n",
              "      <td>0.7</td>\n",
              "      <td>2</td>\n",
              "    </tr>\n",
              "    <tr>\n",
              "      <th>1</th>\n",
              "      <td>2</td>\n",
              "      <td>62</td>\n",
              "      <td>7.5</td>\n",
              "      <td>5.5</td>\n",
              "      <td>0.74</td>\n",
              "      <td>64</td>\n",
              "      <td>100</td>\n",
              "      <td>699</td>\n",
              "      <td>3.2</td>\n",
              "      <td>10.9</td>\n",
              "      <td>2</td>\n",
              "    </tr>\n",
              "    <tr>\n",
              "      <th>2</th>\n",
              "      <td>2</td>\n",
              "      <td>62</td>\n",
              "      <td>7.0</td>\n",
              "      <td>4.1</td>\n",
              "      <td>0.89</td>\n",
              "      <td>60</td>\n",
              "      <td>68</td>\n",
              "      <td>490</td>\n",
              "      <td>3.3</td>\n",
              "      <td>7.3</td>\n",
              "      <td>2</td>\n",
              "    </tr>\n",
              "    <tr>\n",
              "      <th>3</th>\n",
              "      <td>2</td>\n",
              "      <td>58</td>\n",
              "      <td>6.8</td>\n",
              "      <td>0.4</td>\n",
              "      <td>1.00</td>\n",
              "      <td>14</td>\n",
              "      <td>20</td>\n",
              "      <td>182</td>\n",
              "      <td>3.4</td>\n",
              "      <td>1.0</td>\n",
              "      <td>2</td>\n",
              "    </tr>\n",
              "    <tr>\n",
              "      <th>4</th>\n",
              "      <td>2</td>\n",
              "      <td>72</td>\n",
              "      <td>7.3</td>\n",
              "      <td>2.0</td>\n",
              "      <td>0.40</td>\n",
              "      <td>27</td>\n",
              "      <td>59</td>\n",
              "      <td>195</td>\n",
              "      <td>2.4</td>\n",
              "      <td>3.9</td>\n",
              "      <td>2</td>\n",
              "    </tr>\n",
              "    <tr>\n",
              "      <th>...</th>\n",
              "      <td>...</td>\n",
              "      <td>...</td>\n",
              "      <td>...</td>\n",
              "      <td>...</td>\n",
              "      <td>...</td>\n",
              "      <td>...</td>\n",
              "      <td>...</td>\n",
              "      <td>...</td>\n",
              "      <td>...</td>\n",
              "      <td>...</td>\n",
              "      <td>...</td>\n",
              "    </tr>\n",
              "    <tr>\n",
              "      <th>475</th>\n",
              "      <td>2</td>\n",
              "      <td>60</td>\n",
              "      <td>5.9</td>\n",
              "      <td>0.1</td>\n",
              "      <td>0.37</td>\n",
              "      <td>20</td>\n",
              "      <td>34</td>\n",
              "      <td>500</td>\n",
              "      <td>1.6</td>\n",
              "      <td>0.5</td>\n",
              "      <td>1</td>\n",
              "    </tr>\n",
              "    <tr>\n",
              "      <th>476</th>\n",
              "      <td>2</td>\n",
              "      <td>40</td>\n",
              "      <td>6.0</td>\n",
              "      <td>0.1</td>\n",
              "      <td>1.10</td>\n",
              "      <td>35</td>\n",
              "      <td>31</td>\n",
              "      <td>98</td>\n",
              "      <td>3.2</td>\n",
              "      <td>0.6</td>\n",
              "      <td>2</td>\n",
              "    </tr>\n",
              "    <tr>\n",
              "      <th>477</th>\n",
              "      <td>2</td>\n",
              "      <td>52</td>\n",
              "      <td>6.4</td>\n",
              "      <td>0.2</td>\n",
              "      <td>1.00</td>\n",
              "      <td>48</td>\n",
              "      <td>49</td>\n",
              "      <td>245</td>\n",
              "      <td>3.2</td>\n",
              "      <td>0.8</td>\n",
              "      <td>2</td>\n",
              "    </tr>\n",
              "    <tr>\n",
              "      <th>478</th>\n",
              "      <td>2</td>\n",
              "      <td>31</td>\n",
              "      <td>6.8</td>\n",
              "      <td>0.5</td>\n",
              "      <td>1.00</td>\n",
              "      <td>29</td>\n",
              "      <td>32</td>\n",
              "      <td>184</td>\n",
              "      <td>3.4</td>\n",
              "      <td>1.3</td>\n",
              "      <td>2</td>\n",
              "    </tr>\n",
              "    <tr>\n",
              "      <th>479</th>\n",
              "      <td>2</td>\n",
              "      <td>38</td>\n",
              "      <td>7.3</td>\n",
              "      <td>0.3</td>\n",
              "      <td>1.50</td>\n",
              "      <td>21</td>\n",
              "      <td>24</td>\n",
              "      <td>216</td>\n",
              "      <td>4.4</td>\n",
              "      <td>1.0</td>\n",
              "      <td>1</td>\n",
              "    </tr>\n",
              "  </tbody>\n",
              "</table>\n",
              "<p>480 rows × 11 columns</p>\n",
              "</div>\n",
              "      <button class=\"colab-df-convert\" onclick=\"convertToInteractive('df-d2b5d82b-c8c7-4cff-8c95-3334a0d677f8')\"\n",
              "              title=\"Convert this dataframe to an interactive table.\"\n",
              "              style=\"display:none;\">\n",
              "        \n",
              "  <svg xmlns=\"http://www.w3.org/2000/svg\" height=\"24px\"viewBox=\"0 0 24 24\"\n",
              "       width=\"24px\">\n",
              "    <path d=\"M0 0h24v24H0V0z\" fill=\"none\"/>\n",
              "    <path d=\"M18.56 5.44l.94 2.06.94-2.06 2.06-.94-2.06-.94-.94-2.06-.94 2.06-2.06.94zm-11 1L8.5 8.5l.94-2.06 2.06-.94-2.06-.94L8.5 2.5l-.94 2.06-2.06.94zm10 10l.94 2.06.94-2.06 2.06-.94-2.06-.94-.94-2.06-.94 2.06-2.06.94z\"/><path d=\"M17.41 7.96l-1.37-1.37c-.4-.4-.92-.59-1.43-.59-.52 0-1.04.2-1.43.59L10.3 9.45l-7.72 7.72c-.78.78-.78 2.05 0 2.83L4 21.41c.39.39.9.59 1.41.59.51 0 1.02-.2 1.41-.59l7.78-7.78 2.81-2.81c.8-.78.8-2.07 0-2.86zM5.41 20L4 18.59l7.72-7.72 1.47 1.35L5.41 20z\"/>\n",
              "  </svg>\n",
              "      </button>\n",
              "      \n",
              "  <style>\n",
              "    .colab-df-container {\n",
              "      display:flex;\n",
              "      flex-wrap:wrap;\n",
              "      gap: 12px;\n",
              "    }\n",
              "\n",
              "    .colab-df-convert {\n",
              "      background-color: #E8F0FE;\n",
              "      border: none;\n",
              "      border-radius: 50%;\n",
              "      cursor: pointer;\n",
              "      display: none;\n",
              "      fill: #1967D2;\n",
              "      height: 32px;\n",
              "      padding: 0 0 0 0;\n",
              "      width: 32px;\n",
              "    }\n",
              "\n",
              "    .colab-df-convert:hover {\n",
              "      background-color: #E2EBFA;\n",
              "      box-shadow: 0px 1px 2px rgba(60, 64, 67, 0.3), 0px 1px 3px 1px rgba(60, 64, 67, 0.15);\n",
              "      fill: #174EA6;\n",
              "    }\n",
              "\n",
              "    [theme=dark] .colab-df-convert {\n",
              "      background-color: #3B4455;\n",
              "      fill: #D2E3FC;\n",
              "    }\n",
              "\n",
              "    [theme=dark] .colab-df-convert:hover {\n",
              "      background-color: #434B5C;\n",
              "      box-shadow: 0px 1px 3px 1px rgba(0, 0, 0, 0.15);\n",
              "      filter: drop-shadow(0px 1px 2px rgba(0, 0, 0, 0.3));\n",
              "      fill: #FFFFFF;\n",
              "    }\n",
              "  </style>\n",
              "\n",
              "      <script>\n",
              "        const buttonEl =\n",
              "          document.querySelector('#df-d2b5d82b-c8c7-4cff-8c95-3334a0d677f8 button.colab-df-convert');\n",
              "        buttonEl.style.display =\n",
              "          google.colab.kernel.accessAllowed ? 'block' : 'none';\n",
              "\n",
              "        async function convertToInteractive(key) {\n",
              "          const element = document.querySelector('#df-d2b5d82b-c8c7-4cff-8c95-3334a0d677f8');\n",
              "          const dataTable =\n",
              "            await google.colab.kernel.invokeFunction('convertToInteractive',\n",
              "                                                     [key], {});\n",
              "          if (!dataTable) return;\n",
              "\n",
              "          const docLinkHtml = 'Like what you see? Visit the ' +\n",
              "            '<a target=\"_blank\" href=https://colab.research.google.com/notebooks/data_table.ipynb>data table notebook</a>'\n",
              "            + ' to learn more about interactive tables.';\n",
              "          element.innerHTML = '';\n",
              "          dataTable['output_type'] = 'display_data';\n",
              "          await google.colab.output.renderOutput(dataTable, element);\n",
              "          const docLink = document.createElement('div');\n",
              "          docLink.innerHTML = docLinkHtml;\n",
              "          element.appendChild(docLink);\n",
              "        }\n",
              "      </script>\n",
              "    </div>\n",
              "  </div>\n",
              "  "
            ],
            "text/plain": [
              "     Gender  Age   TP   DB   AGR  SGPT  SGOT  AAP  Albumin    TB  \\\n",
              "0         1   65  6.8  0.1  0.90    16    18  187      3.3   0.7   \n",
              "1         2   62  7.5  5.5  0.74    64   100  699      3.2  10.9   \n",
              "2         2   62  7.0  4.1  0.89    60    68  490      3.3   7.3   \n",
              "3         2   58  6.8  0.4  1.00    14    20  182      3.4   1.0   \n",
              "4         2   72  7.3  2.0  0.40    27    59  195      2.4   3.9   \n",
              "..      ...  ...  ...  ...   ...   ...   ...  ...      ...   ...   \n",
              "475       2   60  5.9  0.1  0.37    20    34  500      1.6   0.5   \n",
              "476       2   40  6.0  0.1  1.10    35    31   98      3.2   0.6   \n",
              "477       2   52  6.4  0.2  1.00    48    49  245      3.2   0.8   \n",
              "478       2   31  6.8  0.5  1.00    29    32  184      3.4   1.3   \n",
              "479       2   38  7.3  0.3  1.50    21    24  216      4.4   1.0   \n",
              "\n",
              "     Liver_Disease  \n",
              "0                2  \n",
              "1                2  \n",
              "2                2  \n",
              "3                2  \n",
              "4                2  \n",
              "..             ...  \n",
              "475              1  \n",
              "476              2  \n",
              "477              2  \n",
              "478              2  \n",
              "479              1  \n",
              "\n",
              "[480 rows x 11 columns]"
            ]
          },
          "metadata": {},
          "execution_count": 2
        }
      ],
      "source": [
        "df=pd.read_csv(\"liver.csv\",sep=',')\n",
        "df"
      ]
    },
    {
      "cell_type": "code",
      "execution_count": null,
      "metadata": {
        "colab": {
          "base_uri": "https://localhost:8080/",
          "height": 423
        },
        "id": "onkDiqasQMlc",
        "outputId": "f509562d-f6cf-4279-f58a-5abf13685a24"
      },
      "outputs": [
        {
          "output_type": "execute_result",
          "data": {
            "text/html": [
              "\n",
              "  <div id=\"df-3039732a-d098-4e26-92f3-059718f28839\">\n",
              "    <div class=\"colab-df-container\">\n",
              "      <div>\n",
              "<style scoped>\n",
              "    .dataframe tbody tr th:only-of-type {\n",
              "        vertical-align: middle;\n",
              "    }\n",
              "\n",
              "    .dataframe tbody tr th {\n",
              "        vertical-align: top;\n",
              "    }\n",
              "\n",
              "    .dataframe thead th {\n",
              "        text-align: right;\n",
              "    }\n",
              "</style>\n",
              "<table border=\"1\" class=\"dataframe\">\n",
              "  <thead>\n",
              "    <tr style=\"text-align: right;\">\n",
              "      <th></th>\n",
              "      <th>Age</th>\n",
              "      <th>TP</th>\n",
              "      <th>DB</th>\n",
              "      <th>AGR</th>\n",
              "      <th>SGPT</th>\n",
              "      <th>SGOT</th>\n",
              "      <th>AAP</th>\n",
              "      <th>Albumin</th>\n",
              "      <th>TB</th>\n",
              "      <th>Liver_Disease</th>\n",
              "    </tr>\n",
              "  </thead>\n",
              "  <tbody>\n",
              "    <tr>\n",
              "      <th>0</th>\n",
              "      <td>65</td>\n",
              "      <td>6.8</td>\n",
              "      <td>0.1</td>\n",
              "      <td>0.90</td>\n",
              "      <td>16</td>\n",
              "      <td>18</td>\n",
              "      <td>187</td>\n",
              "      <td>3.3</td>\n",
              "      <td>0.7</td>\n",
              "      <td>2</td>\n",
              "    </tr>\n",
              "    <tr>\n",
              "      <th>1</th>\n",
              "      <td>62</td>\n",
              "      <td>7.5</td>\n",
              "      <td>5.5</td>\n",
              "      <td>0.74</td>\n",
              "      <td>64</td>\n",
              "      <td>100</td>\n",
              "      <td>699</td>\n",
              "      <td>3.2</td>\n",
              "      <td>10.9</td>\n",
              "      <td>2</td>\n",
              "    </tr>\n",
              "    <tr>\n",
              "      <th>2</th>\n",
              "      <td>62</td>\n",
              "      <td>7.0</td>\n",
              "      <td>4.1</td>\n",
              "      <td>0.89</td>\n",
              "      <td>60</td>\n",
              "      <td>68</td>\n",
              "      <td>490</td>\n",
              "      <td>3.3</td>\n",
              "      <td>7.3</td>\n",
              "      <td>2</td>\n",
              "    </tr>\n",
              "    <tr>\n",
              "      <th>3</th>\n",
              "      <td>58</td>\n",
              "      <td>6.8</td>\n",
              "      <td>0.4</td>\n",
              "      <td>1.00</td>\n",
              "      <td>14</td>\n",
              "      <td>20</td>\n",
              "      <td>182</td>\n",
              "      <td>3.4</td>\n",
              "      <td>1.0</td>\n",
              "      <td>2</td>\n",
              "    </tr>\n",
              "    <tr>\n",
              "      <th>4</th>\n",
              "      <td>72</td>\n",
              "      <td>7.3</td>\n",
              "      <td>2.0</td>\n",
              "      <td>0.40</td>\n",
              "      <td>27</td>\n",
              "      <td>59</td>\n",
              "      <td>195</td>\n",
              "      <td>2.4</td>\n",
              "      <td>3.9</td>\n",
              "      <td>2</td>\n",
              "    </tr>\n",
              "    <tr>\n",
              "      <th>...</th>\n",
              "      <td>...</td>\n",
              "      <td>...</td>\n",
              "      <td>...</td>\n",
              "      <td>...</td>\n",
              "      <td>...</td>\n",
              "      <td>...</td>\n",
              "      <td>...</td>\n",
              "      <td>...</td>\n",
              "      <td>...</td>\n",
              "      <td>...</td>\n",
              "    </tr>\n",
              "    <tr>\n",
              "      <th>475</th>\n",
              "      <td>60</td>\n",
              "      <td>5.9</td>\n",
              "      <td>0.1</td>\n",
              "      <td>0.37</td>\n",
              "      <td>20</td>\n",
              "      <td>34</td>\n",
              "      <td>500</td>\n",
              "      <td>1.6</td>\n",
              "      <td>0.5</td>\n",
              "      <td>1</td>\n",
              "    </tr>\n",
              "    <tr>\n",
              "      <th>476</th>\n",
              "      <td>40</td>\n",
              "      <td>6.0</td>\n",
              "      <td>0.1</td>\n",
              "      <td>1.10</td>\n",
              "      <td>35</td>\n",
              "      <td>31</td>\n",
              "      <td>98</td>\n",
              "      <td>3.2</td>\n",
              "      <td>0.6</td>\n",
              "      <td>2</td>\n",
              "    </tr>\n",
              "    <tr>\n",
              "      <th>477</th>\n",
              "      <td>52</td>\n",
              "      <td>6.4</td>\n",
              "      <td>0.2</td>\n",
              "      <td>1.00</td>\n",
              "      <td>48</td>\n",
              "      <td>49</td>\n",
              "      <td>245</td>\n",
              "      <td>3.2</td>\n",
              "      <td>0.8</td>\n",
              "      <td>2</td>\n",
              "    </tr>\n",
              "    <tr>\n",
              "      <th>478</th>\n",
              "      <td>31</td>\n",
              "      <td>6.8</td>\n",
              "      <td>0.5</td>\n",
              "      <td>1.00</td>\n",
              "      <td>29</td>\n",
              "      <td>32</td>\n",
              "      <td>184</td>\n",
              "      <td>3.4</td>\n",
              "      <td>1.3</td>\n",
              "      <td>2</td>\n",
              "    </tr>\n",
              "    <tr>\n",
              "      <th>479</th>\n",
              "      <td>38</td>\n",
              "      <td>7.3</td>\n",
              "      <td>0.3</td>\n",
              "      <td>1.50</td>\n",
              "      <td>21</td>\n",
              "      <td>24</td>\n",
              "      <td>216</td>\n",
              "      <td>4.4</td>\n",
              "      <td>1.0</td>\n",
              "      <td>1</td>\n",
              "    </tr>\n",
              "  </tbody>\n",
              "</table>\n",
              "<p>480 rows × 10 columns</p>\n",
              "</div>\n",
              "      <button class=\"colab-df-convert\" onclick=\"convertToInteractive('df-3039732a-d098-4e26-92f3-059718f28839')\"\n",
              "              title=\"Convert this dataframe to an interactive table.\"\n",
              "              style=\"display:none;\">\n",
              "        \n",
              "  <svg xmlns=\"http://www.w3.org/2000/svg\" height=\"24px\"viewBox=\"0 0 24 24\"\n",
              "       width=\"24px\">\n",
              "    <path d=\"M0 0h24v24H0V0z\" fill=\"none\"/>\n",
              "    <path d=\"M18.56 5.44l.94 2.06.94-2.06 2.06-.94-2.06-.94-.94-2.06-.94 2.06-2.06.94zm-11 1L8.5 8.5l.94-2.06 2.06-.94-2.06-.94L8.5 2.5l-.94 2.06-2.06.94zm10 10l.94 2.06.94-2.06 2.06-.94-2.06-.94-.94-2.06-.94 2.06-2.06.94z\"/><path d=\"M17.41 7.96l-1.37-1.37c-.4-.4-.92-.59-1.43-.59-.52 0-1.04.2-1.43.59L10.3 9.45l-7.72 7.72c-.78.78-.78 2.05 0 2.83L4 21.41c.39.39.9.59 1.41.59.51 0 1.02-.2 1.41-.59l7.78-7.78 2.81-2.81c.8-.78.8-2.07 0-2.86zM5.41 20L4 18.59l7.72-7.72 1.47 1.35L5.41 20z\"/>\n",
              "  </svg>\n",
              "      </button>\n",
              "      \n",
              "  <style>\n",
              "    .colab-df-container {\n",
              "      display:flex;\n",
              "      flex-wrap:wrap;\n",
              "      gap: 12px;\n",
              "    }\n",
              "\n",
              "    .colab-df-convert {\n",
              "      background-color: #E8F0FE;\n",
              "      border: none;\n",
              "      border-radius: 50%;\n",
              "      cursor: pointer;\n",
              "      display: none;\n",
              "      fill: #1967D2;\n",
              "      height: 32px;\n",
              "      padding: 0 0 0 0;\n",
              "      width: 32px;\n",
              "    }\n",
              "\n",
              "    .colab-df-convert:hover {\n",
              "      background-color: #E2EBFA;\n",
              "      box-shadow: 0px 1px 2px rgba(60, 64, 67, 0.3), 0px 1px 3px 1px rgba(60, 64, 67, 0.15);\n",
              "      fill: #174EA6;\n",
              "    }\n",
              "\n",
              "    [theme=dark] .colab-df-convert {\n",
              "      background-color: #3B4455;\n",
              "      fill: #D2E3FC;\n",
              "    }\n",
              "\n",
              "    [theme=dark] .colab-df-convert:hover {\n",
              "      background-color: #434B5C;\n",
              "      box-shadow: 0px 1px 3px 1px rgba(0, 0, 0, 0.15);\n",
              "      filter: drop-shadow(0px 1px 2px rgba(0, 0, 0, 0.3));\n",
              "      fill: #FFFFFF;\n",
              "    }\n",
              "  </style>\n",
              "\n",
              "      <script>\n",
              "        const buttonEl =\n",
              "          document.querySelector('#df-3039732a-d098-4e26-92f3-059718f28839 button.colab-df-convert');\n",
              "        buttonEl.style.display =\n",
              "          google.colab.kernel.accessAllowed ? 'block' : 'none';\n",
              "\n",
              "        async function convertToInteractive(key) {\n",
              "          const element = document.querySelector('#df-3039732a-d098-4e26-92f3-059718f28839');\n",
              "          const dataTable =\n",
              "            await google.colab.kernel.invokeFunction('convertToInteractive',\n",
              "                                                     [key], {});\n",
              "          if (!dataTable) return;\n",
              "\n",
              "          const docLinkHtml = 'Like what you see? Visit the ' +\n",
              "            '<a target=\"_blank\" href=https://colab.research.google.com/notebooks/data_table.ipynb>data table notebook</a>'\n",
              "            + ' to learn more about interactive tables.';\n",
              "          element.innerHTML = '';\n",
              "          dataTable['output_type'] = 'display_data';\n",
              "          await google.colab.output.renderOutput(dataTable, element);\n",
              "          const docLink = document.createElement('div');\n",
              "          docLink.innerHTML = docLinkHtml;\n",
              "          element.appendChild(docLink);\n",
              "        }\n",
              "      </script>\n",
              "    </div>\n",
              "  </div>\n",
              "  "
            ],
            "text/plain": [
              "     Age   TP   DB   AGR  SGPT  SGOT  AAP  Albumin    TB  Liver_Disease\n",
              "0     65  6.8  0.1  0.90    16    18  187      3.3   0.7              2\n",
              "1     62  7.5  5.5  0.74    64   100  699      3.2  10.9              2\n",
              "2     62  7.0  4.1  0.89    60    68  490      3.3   7.3              2\n",
              "3     58  6.8  0.4  1.00    14    20  182      3.4   1.0              2\n",
              "4     72  7.3  2.0  0.40    27    59  195      2.4   3.9              2\n",
              "..   ...  ...  ...   ...   ...   ...  ...      ...   ...            ...\n",
              "475   60  5.9  0.1  0.37    20    34  500      1.6   0.5              1\n",
              "476   40  6.0  0.1  1.10    35    31   98      3.2   0.6              2\n",
              "477   52  6.4  0.2  1.00    48    49  245      3.2   0.8              2\n",
              "478   31  6.8  0.5  1.00    29    32  184      3.4   1.3              2\n",
              "479   38  7.3  0.3  1.50    21    24  216      4.4   1.0              1\n",
              "\n",
              "[480 rows x 10 columns]"
            ]
          },
          "metadata": {},
          "execution_count": 3
        }
      ],
      "source": [
        "df=df.iloc[::,1:]         \n",
        "#df1=df.iloc[::,:-1] #memisahkan antara variabel x dan y\n",
        "df"
      ]
    },
    {
      "cell_type": "code",
      "execution_count": null,
      "metadata": {
        "id": "j1QwTCheQH7e"
      },
      "outputs": [],
      "source": [
        "#melakukan encoding (mengganti kategori menjadi angka)\n",
        "#df['quality'].value_counts()"
      ]
    },
    {
      "cell_type": "code",
      "execution_count": null,
      "metadata": {
        "id": "ScDdk8fZQIoI"
      },
      "outputs": [],
      "source": [
        "#Encoding dengan data sedikit\n",
        "#cleanup_nums = {\"quality\":     {\"good\": 2, \"bad\": 1}}\n",
        "#df = df.replace(cleanup_nums)\n",
        "#df"
      ]
    },
    {
      "cell_type": "markdown",
      "metadata": {
        "id": "QRSu4oPLS9QY"
      },
      "source": [
        "#Core and Reduct"
      ]
    },
    {
      "cell_type": "code",
      "execution_count": null,
      "metadata": {
        "id": "nRBwEwAxTC5l"
      },
      "outputs": [],
      "source": [
        "def indiscrenibility(faktor):\n",
        "    df_r = faktor.groupby(list(faktor)).apply(lambda x: tuple(x.index)).tolist()\n",
        "    df_baru=[]\n",
        "    for i in df_r:\n",
        "        dfb=list(i)\n",
        "        df_baru.append(dfb)\n",
        "    return df_baru"
      ]
    },
    {
      "cell_type": "code",
      "execution_count": null,
      "metadata": {
        "id": "OGNhrOg7THAl"
      },
      "outputs": [],
      "source": [
        "def Core_and_Reduct(faktor):\n",
        "    R=indiscrenibility(faktor)\n",
        "    kolom=list(faktor.columns)\n",
        "    indis_vector=[]\n",
        "    for k in kolom:\n",
        "        k=str(k) \n",
        "        df2=faktor.drop(columns=[k])\n",
        "        K=indiscrenibility(df2)\n",
        "        if (K==R):\n",
        "            indis=True\n",
        "            indis_vector.append(indis) \n",
        "        else:\n",
        "            indis=False\n",
        "            indis_vector.append(indis) \n",
        "    \n",
        "    indeks = []\n",
        "    for i in range(len(indis_vector)):\n",
        "        if indis_vector[i] == False:\n",
        "            indeks.append(i)\n",
        "    indis_var = [kolom[i] for i in indeks] \n",
        "    df_CR=faktor[indis_var]\n",
        "    # Mengembalikan Faktor Utama\n",
        "    df_CR['target']=faktor.iloc[::,-1]\n",
        "    return df_CR"
      ]
    },
    {
      "cell_type": "code",
      "execution_count": null,
      "metadata": {
        "colab": {
          "base_uri": "https://localhost:8080/",
          "height": 423
        },
        "id": "q7Gy2xiETKHk",
        "outputId": "3a68ba49-ee89-45ec-809d-8fbab29b551e"
      },
      "outputs": [
        {
          "output_type": "execute_result",
          "data": {
            "text/html": [
              "\n",
              "  <div id=\"df-f0bfda10-e734-444b-bf28-0d4f3dd632f9\">\n",
              "    <div class=\"colab-df-container\">\n",
              "      <div>\n",
              "<style scoped>\n",
              "    .dataframe tbody tr th:only-of-type {\n",
              "        vertical-align: middle;\n",
              "    }\n",
              "\n",
              "    .dataframe tbody tr th {\n",
              "        vertical-align: top;\n",
              "    }\n",
              "\n",
              "    .dataframe thead th {\n",
              "        text-align: right;\n",
              "    }\n",
              "</style>\n",
              "<table border=\"1\" class=\"dataframe\">\n",
              "  <thead>\n",
              "    <tr style=\"text-align: right;\">\n",
              "      <th></th>\n",
              "      <th>Age</th>\n",
              "      <th>TP</th>\n",
              "      <th>DB</th>\n",
              "      <th>AGR</th>\n",
              "      <th>target</th>\n",
              "    </tr>\n",
              "  </thead>\n",
              "  <tbody>\n",
              "    <tr>\n",
              "      <th>0</th>\n",
              "      <td>65</td>\n",
              "      <td>6.8</td>\n",
              "      <td>0.1</td>\n",
              "      <td>0.90</td>\n",
              "      <td>2</td>\n",
              "    </tr>\n",
              "    <tr>\n",
              "      <th>1</th>\n",
              "      <td>62</td>\n",
              "      <td>7.5</td>\n",
              "      <td>5.5</td>\n",
              "      <td>0.74</td>\n",
              "      <td>2</td>\n",
              "    </tr>\n",
              "    <tr>\n",
              "      <th>2</th>\n",
              "      <td>62</td>\n",
              "      <td>7.0</td>\n",
              "      <td>4.1</td>\n",
              "      <td>0.89</td>\n",
              "      <td>2</td>\n",
              "    </tr>\n",
              "    <tr>\n",
              "      <th>3</th>\n",
              "      <td>58</td>\n",
              "      <td>6.8</td>\n",
              "      <td>0.4</td>\n",
              "      <td>1.00</td>\n",
              "      <td>2</td>\n",
              "    </tr>\n",
              "    <tr>\n",
              "      <th>4</th>\n",
              "      <td>72</td>\n",
              "      <td>7.3</td>\n",
              "      <td>2.0</td>\n",
              "      <td>0.40</td>\n",
              "      <td>2</td>\n",
              "    </tr>\n",
              "    <tr>\n",
              "      <th>...</th>\n",
              "      <td>...</td>\n",
              "      <td>...</td>\n",
              "      <td>...</td>\n",
              "      <td>...</td>\n",
              "      <td>...</td>\n",
              "    </tr>\n",
              "    <tr>\n",
              "      <th>475</th>\n",
              "      <td>60</td>\n",
              "      <td>5.9</td>\n",
              "      <td>0.1</td>\n",
              "      <td>0.37</td>\n",
              "      <td>1</td>\n",
              "    </tr>\n",
              "    <tr>\n",
              "      <th>476</th>\n",
              "      <td>40</td>\n",
              "      <td>6.0</td>\n",
              "      <td>0.1</td>\n",
              "      <td>1.10</td>\n",
              "      <td>2</td>\n",
              "    </tr>\n",
              "    <tr>\n",
              "      <th>477</th>\n",
              "      <td>52</td>\n",
              "      <td>6.4</td>\n",
              "      <td>0.2</td>\n",
              "      <td>1.00</td>\n",
              "      <td>2</td>\n",
              "    </tr>\n",
              "    <tr>\n",
              "      <th>478</th>\n",
              "      <td>31</td>\n",
              "      <td>6.8</td>\n",
              "      <td>0.5</td>\n",
              "      <td>1.00</td>\n",
              "      <td>2</td>\n",
              "    </tr>\n",
              "    <tr>\n",
              "      <th>479</th>\n",
              "      <td>38</td>\n",
              "      <td>7.3</td>\n",
              "      <td>0.3</td>\n",
              "      <td>1.50</td>\n",
              "      <td>1</td>\n",
              "    </tr>\n",
              "  </tbody>\n",
              "</table>\n",
              "<p>480 rows × 5 columns</p>\n",
              "</div>\n",
              "      <button class=\"colab-df-convert\" onclick=\"convertToInteractive('df-f0bfda10-e734-444b-bf28-0d4f3dd632f9')\"\n",
              "              title=\"Convert this dataframe to an interactive table.\"\n",
              "              style=\"display:none;\">\n",
              "        \n",
              "  <svg xmlns=\"http://www.w3.org/2000/svg\" height=\"24px\"viewBox=\"0 0 24 24\"\n",
              "       width=\"24px\">\n",
              "    <path d=\"M0 0h24v24H0V0z\" fill=\"none\"/>\n",
              "    <path d=\"M18.56 5.44l.94 2.06.94-2.06 2.06-.94-2.06-.94-.94-2.06-.94 2.06-2.06.94zm-11 1L8.5 8.5l.94-2.06 2.06-.94-2.06-.94L8.5 2.5l-.94 2.06-2.06.94zm10 10l.94 2.06.94-2.06 2.06-.94-2.06-.94-.94-2.06-.94 2.06-2.06.94z\"/><path d=\"M17.41 7.96l-1.37-1.37c-.4-.4-.92-.59-1.43-.59-.52 0-1.04.2-1.43.59L10.3 9.45l-7.72 7.72c-.78.78-.78 2.05 0 2.83L4 21.41c.39.39.9.59 1.41.59.51 0 1.02-.2 1.41-.59l7.78-7.78 2.81-2.81c.8-.78.8-2.07 0-2.86zM5.41 20L4 18.59l7.72-7.72 1.47 1.35L5.41 20z\"/>\n",
              "  </svg>\n",
              "      </button>\n",
              "      \n",
              "  <style>\n",
              "    .colab-df-container {\n",
              "      display:flex;\n",
              "      flex-wrap:wrap;\n",
              "      gap: 12px;\n",
              "    }\n",
              "\n",
              "    .colab-df-convert {\n",
              "      background-color: #E8F0FE;\n",
              "      border: none;\n",
              "      border-radius: 50%;\n",
              "      cursor: pointer;\n",
              "      display: none;\n",
              "      fill: #1967D2;\n",
              "      height: 32px;\n",
              "      padding: 0 0 0 0;\n",
              "      width: 32px;\n",
              "    }\n",
              "\n",
              "    .colab-df-convert:hover {\n",
              "      background-color: #E2EBFA;\n",
              "      box-shadow: 0px 1px 2px rgba(60, 64, 67, 0.3), 0px 1px 3px 1px rgba(60, 64, 67, 0.15);\n",
              "      fill: #174EA6;\n",
              "    }\n",
              "\n",
              "    [theme=dark] .colab-df-convert {\n",
              "      background-color: #3B4455;\n",
              "      fill: #D2E3FC;\n",
              "    }\n",
              "\n",
              "    [theme=dark] .colab-df-convert:hover {\n",
              "      background-color: #434B5C;\n",
              "      box-shadow: 0px 1px 3px 1px rgba(0, 0, 0, 0.15);\n",
              "      filter: drop-shadow(0px 1px 2px rgba(0, 0, 0, 0.3));\n",
              "      fill: #FFFFFF;\n",
              "    }\n",
              "  </style>\n",
              "\n",
              "      <script>\n",
              "        const buttonEl =\n",
              "          document.querySelector('#df-f0bfda10-e734-444b-bf28-0d4f3dd632f9 button.colab-df-convert');\n",
              "        buttonEl.style.display =\n",
              "          google.colab.kernel.accessAllowed ? 'block' : 'none';\n",
              "\n",
              "        async function convertToInteractive(key) {\n",
              "          const element = document.querySelector('#df-f0bfda10-e734-444b-bf28-0d4f3dd632f9');\n",
              "          const dataTable =\n",
              "            await google.colab.kernel.invokeFunction('convertToInteractive',\n",
              "                                                     [key], {});\n",
              "          if (!dataTable) return;\n",
              "\n",
              "          const docLinkHtml = 'Like what you see? Visit the ' +\n",
              "            '<a target=\"_blank\" href=https://colab.research.google.com/notebooks/data_table.ipynb>data table notebook</a>'\n",
              "            + ' to learn more about interactive tables.';\n",
              "          element.innerHTML = '';\n",
              "          dataTable['output_type'] = 'display_data';\n",
              "          await google.colab.output.renderOutput(dataTable, element);\n",
              "          const docLink = document.createElement('div');\n",
              "          docLink.innerHTML = docLinkHtml;\n",
              "          element.appendChild(docLink);\n",
              "        }\n",
              "      </script>\n",
              "    </div>\n",
              "  </div>\n",
              "  "
            ],
            "text/plain": [
              "     Age   TP   DB   AGR  target\n",
              "0     65  6.8  0.1  0.90       2\n",
              "1     62  7.5  5.5  0.74       2\n",
              "2     62  7.0  4.1  0.89       2\n",
              "3     58  6.8  0.4  1.00       2\n",
              "4     72  7.3  2.0  0.40       2\n",
              "..   ...  ...  ...   ...     ...\n",
              "475   60  5.9  0.1  0.37       1\n",
              "476   40  6.0  0.1  1.10       2\n",
              "477   52  6.4  0.2  1.00       2\n",
              "478   31  6.8  0.5  1.00       2\n",
              "479   38  7.3  0.3  1.50       1\n",
              "\n",
              "[480 rows x 5 columns]"
            ]
          },
          "metadata": {},
          "execution_count": 8
        }
      ],
      "source": [
        "df_CR=Core_and_Reduct(df)\n",
        "df_CR"
      ]
    },
    {
      "cell_type": "code",
      "execution_count": null,
      "metadata": {
        "id": "XfRS0E_wTNdh"
      },
      "outputs": [],
      "source": [
        "df_CR.to_csv('hasilroughset.csv') "
      ]
    },
    {
      "cell_type": "markdown",
      "metadata": {
        "id": "rKztH3BVTq2F"
      },
      "source": [
        "#Fuzzy"
      ]
    },
    {
      "cell_type": "code",
      "execution_count": null,
      "metadata": {
        "id": "6nrGsxPx-6y0"
      },
      "outputs": [],
      "source": [
        "#Impor Library SK - Fuzzy\n",
        "import numpy as np\n",
        "import matplotlib.pyplot as plt\n",
        "import warnings\n",
        "import pandas as pd\n",
        "from sklearn.preprocessing import PolynomialFeatures\n",
        "import sys\n",
        "np.set_printoptions(threshold=sys.maxsize)\n",
        "import seaborn as sns\n",
        "%matplotlib inline\n",
        "\n",
        "warnings.filterwarnings('ignore')"
      ]
    },
    {
      "cell_type": "code",
      "execution_count": null,
      "metadata": {
        "colab": {
          "base_uri": "https://localhost:8080/",
          "height": 423
        },
        "id": "VuWAxEJl-6y7",
        "outputId": "4f2e3481-46e1-4ac1-a77d-7a94658d4e18"
      },
      "outputs": [
        {
          "output_type": "execute_result",
          "data": {
            "text/html": [
              "\n",
              "  <div id=\"df-c465c4d8-9278-4457-9862-0ca33d05dbaf\">\n",
              "    <div class=\"colab-df-container\">\n",
              "      <div>\n",
              "<style scoped>\n",
              "    .dataframe tbody tr th:only-of-type {\n",
              "        vertical-align: middle;\n",
              "    }\n",
              "\n",
              "    .dataframe tbody tr th {\n",
              "        vertical-align: top;\n",
              "    }\n",
              "\n",
              "    .dataframe thead th {\n",
              "        text-align: right;\n",
              "    }\n",
              "</style>\n",
              "<table border=\"1\" class=\"dataframe\">\n",
              "  <thead>\n",
              "    <tr style=\"text-align: right;\">\n",
              "      <th></th>\n",
              "      <th>Unnamed: 0</th>\n",
              "      <th>Age</th>\n",
              "      <th>TP</th>\n",
              "      <th>DB</th>\n",
              "      <th>AGR</th>\n",
              "      <th>target</th>\n",
              "    </tr>\n",
              "  </thead>\n",
              "  <tbody>\n",
              "    <tr>\n",
              "      <th>0</th>\n",
              "      <td>0</td>\n",
              "      <td>65</td>\n",
              "      <td>6.8</td>\n",
              "      <td>0.1</td>\n",
              "      <td>0.90</td>\n",
              "      <td>2</td>\n",
              "    </tr>\n",
              "    <tr>\n",
              "      <th>1</th>\n",
              "      <td>1</td>\n",
              "      <td>62</td>\n",
              "      <td>7.5</td>\n",
              "      <td>5.5</td>\n",
              "      <td>0.74</td>\n",
              "      <td>2</td>\n",
              "    </tr>\n",
              "    <tr>\n",
              "      <th>2</th>\n",
              "      <td>2</td>\n",
              "      <td>62</td>\n",
              "      <td>7.0</td>\n",
              "      <td>4.1</td>\n",
              "      <td>0.89</td>\n",
              "      <td>2</td>\n",
              "    </tr>\n",
              "    <tr>\n",
              "      <th>3</th>\n",
              "      <td>3</td>\n",
              "      <td>58</td>\n",
              "      <td>6.8</td>\n",
              "      <td>0.4</td>\n",
              "      <td>1.00</td>\n",
              "      <td>2</td>\n",
              "    </tr>\n",
              "    <tr>\n",
              "      <th>4</th>\n",
              "      <td>4</td>\n",
              "      <td>72</td>\n",
              "      <td>7.3</td>\n",
              "      <td>2.0</td>\n",
              "      <td>0.40</td>\n",
              "      <td>2</td>\n",
              "    </tr>\n",
              "    <tr>\n",
              "      <th>...</th>\n",
              "      <td>...</td>\n",
              "      <td>...</td>\n",
              "      <td>...</td>\n",
              "      <td>...</td>\n",
              "      <td>...</td>\n",
              "      <td>...</td>\n",
              "    </tr>\n",
              "    <tr>\n",
              "      <th>475</th>\n",
              "      <td>475</td>\n",
              "      <td>60</td>\n",
              "      <td>5.9</td>\n",
              "      <td>0.1</td>\n",
              "      <td>0.37</td>\n",
              "      <td>1</td>\n",
              "    </tr>\n",
              "    <tr>\n",
              "      <th>476</th>\n",
              "      <td>476</td>\n",
              "      <td>40</td>\n",
              "      <td>6.0</td>\n",
              "      <td>0.1</td>\n",
              "      <td>1.10</td>\n",
              "      <td>2</td>\n",
              "    </tr>\n",
              "    <tr>\n",
              "      <th>477</th>\n",
              "      <td>477</td>\n",
              "      <td>52</td>\n",
              "      <td>6.4</td>\n",
              "      <td>0.2</td>\n",
              "      <td>1.00</td>\n",
              "      <td>2</td>\n",
              "    </tr>\n",
              "    <tr>\n",
              "      <th>478</th>\n",
              "      <td>478</td>\n",
              "      <td>31</td>\n",
              "      <td>6.8</td>\n",
              "      <td>0.5</td>\n",
              "      <td>1.00</td>\n",
              "      <td>2</td>\n",
              "    </tr>\n",
              "    <tr>\n",
              "      <th>479</th>\n",
              "      <td>479</td>\n",
              "      <td>38</td>\n",
              "      <td>7.3</td>\n",
              "      <td>0.3</td>\n",
              "      <td>1.50</td>\n",
              "      <td>1</td>\n",
              "    </tr>\n",
              "  </tbody>\n",
              "</table>\n",
              "<p>480 rows × 6 columns</p>\n",
              "</div>\n",
              "      <button class=\"colab-df-convert\" onclick=\"convertToInteractive('df-c465c4d8-9278-4457-9862-0ca33d05dbaf')\"\n",
              "              title=\"Convert this dataframe to an interactive table.\"\n",
              "              style=\"display:none;\">\n",
              "        \n",
              "  <svg xmlns=\"http://www.w3.org/2000/svg\" height=\"24px\"viewBox=\"0 0 24 24\"\n",
              "       width=\"24px\">\n",
              "    <path d=\"M0 0h24v24H0V0z\" fill=\"none\"/>\n",
              "    <path d=\"M18.56 5.44l.94 2.06.94-2.06 2.06-.94-2.06-.94-.94-2.06-.94 2.06-2.06.94zm-11 1L8.5 8.5l.94-2.06 2.06-.94-2.06-.94L8.5 2.5l-.94 2.06-2.06.94zm10 10l.94 2.06.94-2.06 2.06-.94-2.06-.94-.94-2.06-.94 2.06-2.06.94z\"/><path d=\"M17.41 7.96l-1.37-1.37c-.4-.4-.92-.59-1.43-.59-.52 0-1.04.2-1.43.59L10.3 9.45l-7.72 7.72c-.78.78-.78 2.05 0 2.83L4 21.41c.39.39.9.59 1.41.59.51 0 1.02-.2 1.41-.59l7.78-7.78 2.81-2.81c.8-.78.8-2.07 0-2.86zM5.41 20L4 18.59l7.72-7.72 1.47 1.35L5.41 20z\"/>\n",
              "  </svg>\n",
              "      </button>\n",
              "      \n",
              "  <style>\n",
              "    .colab-df-container {\n",
              "      display:flex;\n",
              "      flex-wrap:wrap;\n",
              "      gap: 12px;\n",
              "    }\n",
              "\n",
              "    .colab-df-convert {\n",
              "      background-color: #E8F0FE;\n",
              "      border: none;\n",
              "      border-radius: 50%;\n",
              "      cursor: pointer;\n",
              "      display: none;\n",
              "      fill: #1967D2;\n",
              "      height: 32px;\n",
              "      padding: 0 0 0 0;\n",
              "      width: 32px;\n",
              "    }\n",
              "\n",
              "    .colab-df-convert:hover {\n",
              "      background-color: #E2EBFA;\n",
              "      box-shadow: 0px 1px 2px rgba(60, 64, 67, 0.3), 0px 1px 3px 1px rgba(60, 64, 67, 0.15);\n",
              "      fill: #174EA6;\n",
              "    }\n",
              "\n",
              "    [theme=dark] .colab-df-convert {\n",
              "      background-color: #3B4455;\n",
              "      fill: #D2E3FC;\n",
              "    }\n",
              "\n",
              "    [theme=dark] .colab-df-convert:hover {\n",
              "      background-color: #434B5C;\n",
              "      box-shadow: 0px 1px 3px 1px rgba(0, 0, 0, 0.15);\n",
              "      filter: drop-shadow(0px 1px 2px rgba(0, 0, 0, 0.3));\n",
              "      fill: #FFFFFF;\n",
              "    }\n",
              "  </style>\n",
              "\n",
              "      <script>\n",
              "        const buttonEl =\n",
              "          document.querySelector('#df-c465c4d8-9278-4457-9862-0ca33d05dbaf button.colab-df-convert');\n",
              "        buttonEl.style.display =\n",
              "          google.colab.kernel.accessAllowed ? 'block' : 'none';\n",
              "\n",
              "        async function convertToInteractive(key) {\n",
              "          const element = document.querySelector('#df-c465c4d8-9278-4457-9862-0ca33d05dbaf');\n",
              "          const dataTable =\n",
              "            await google.colab.kernel.invokeFunction('convertToInteractive',\n",
              "                                                     [key], {});\n",
              "          if (!dataTable) return;\n",
              "\n",
              "          const docLinkHtml = 'Like what you see? Visit the ' +\n",
              "            '<a target=\"_blank\" href=https://colab.research.google.com/notebooks/data_table.ipynb>data table notebook</a>'\n",
              "            + ' to learn more about interactive tables.';\n",
              "          element.innerHTML = '';\n",
              "          dataTable['output_type'] = 'display_data';\n",
              "          await google.colab.output.renderOutput(dataTable, element);\n",
              "          const docLink = document.createElement('div');\n",
              "          docLink.innerHTML = docLinkHtml;\n",
              "          element.appendChild(docLink);\n",
              "        }\n",
              "      </script>\n",
              "    </div>\n",
              "  </div>\n",
              "  "
            ],
            "text/plain": [
              "     Unnamed: 0  Age   TP   DB   AGR  target\n",
              "0             0   65  6.8  0.1  0.90       2\n",
              "1             1   62  7.5  5.5  0.74       2\n",
              "2             2   62  7.0  4.1  0.89       2\n",
              "3             3   58  6.8  0.4  1.00       2\n",
              "4             4   72  7.3  2.0  0.40       2\n",
              "..          ...  ...  ...  ...   ...     ...\n",
              "475         475   60  5.9  0.1  0.37       1\n",
              "476         476   40  6.0  0.1  1.10       2\n",
              "477         477   52  6.4  0.2  1.00       2\n",
              "478         478   31  6.8  0.5  1.00       2\n",
              "479         479   38  7.3  0.3  1.50       1\n",
              "\n",
              "[480 rows x 6 columns]"
            ]
          },
          "metadata": {},
          "execution_count": 11
        }
      ],
      "source": [
        "df_tsk=pd.read_csv('hasilroughset.csv',sep=',')\n",
        "df_tsk"
      ]
    },
    {
      "cell_type": "code",
      "execution_count": null,
      "metadata": {
        "colab": {
          "base_uri": "https://localhost:8080/",
          "height": 423
        },
        "id": "03oSGfJdqIeu",
        "outputId": "23f81985-7bc0-4fcc-ce54-888904e2c917"
      },
      "outputs": [
        {
          "output_type": "execute_result",
          "data": {
            "text/html": [
              "\n",
              "  <div id=\"df-d19997c6-6ecd-4ad3-a3b3-e865f165330c\">\n",
              "    <div class=\"colab-df-container\">\n",
              "      <div>\n",
              "<style scoped>\n",
              "    .dataframe tbody tr th:only-of-type {\n",
              "        vertical-align: middle;\n",
              "    }\n",
              "\n",
              "    .dataframe tbody tr th {\n",
              "        vertical-align: top;\n",
              "    }\n",
              "\n",
              "    .dataframe thead th {\n",
              "        text-align: right;\n",
              "    }\n",
              "</style>\n",
              "<table border=\"1\" class=\"dataframe\">\n",
              "  <thead>\n",
              "    <tr style=\"text-align: right;\">\n",
              "      <th></th>\n",
              "      <th>Age</th>\n",
              "      <th>TP</th>\n",
              "      <th>DB</th>\n",
              "      <th>AGR</th>\n",
              "      <th>target</th>\n",
              "    </tr>\n",
              "  </thead>\n",
              "  <tbody>\n",
              "    <tr>\n",
              "      <th>0</th>\n",
              "      <td>65</td>\n",
              "      <td>6.8</td>\n",
              "      <td>0.1</td>\n",
              "      <td>0.90</td>\n",
              "      <td>2</td>\n",
              "    </tr>\n",
              "    <tr>\n",
              "      <th>1</th>\n",
              "      <td>62</td>\n",
              "      <td>7.5</td>\n",
              "      <td>5.5</td>\n",
              "      <td>0.74</td>\n",
              "      <td>2</td>\n",
              "    </tr>\n",
              "    <tr>\n",
              "      <th>2</th>\n",
              "      <td>62</td>\n",
              "      <td>7.0</td>\n",
              "      <td>4.1</td>\n",
              "      <td>0.89</td>\n",
              "      <td>2</td>\n",
              "    </tr>\n",
              "    <tr>\n",
              "      <th>3</th>\n",
              "      <td>58</td>\n",
              "      <td>6.8</td>\n",
              "      <td>0.4</td>\n",
              "      <td>1.00</td>\n",
              "      <td>2</td>\n",
              "    </tr>\n",
              "    <tr>\n",
              "      <th>4</th>\n",
              "      <td>72</td>\n",
              "      <td>7.3</td>\n",
              "      <td>2.0</td>\n",
              "      <td>0.40</td>\n",
              "      <td>2</td>\n",
              "    </tr>\n",
              "    <tr>\n",
              "      <th>...</th>\n",
              "      <td>...</td>\n",
              "      <td>...</td>\n",
              "      <td>...</td>\n",
              "      <td>...</td>\n",
              "      <td>...</td>\n",
              "    </tr>\n",
              "    <tr>\n",
              "      <th>475</th>\n",
              "      <td>60</td>\n",
              "      <td>5.9</td>\n",
              "      <td>0.1</td>\n",
              "      <td>0.37</td>\n",
              "      <td>1</td>\n",
              "    </tr>\n",
              "    <tr>\n",
              "      <th>476</th>\n",
              "      <td>40</td>\n",
              "      <td>6.0</td>\n",
              "      <td>0.1</td>\n",
              "      <td>1.10</td>\n",
              "      <td>2</td>\n",
              "    </tr>\n",
              "    <tr>\n",
              "      <th>477</th>\n",
              "      <td>52</td>\n",
              "      <td>6.4</td>\n",
              "      <td>0.2</td>\n",
              "      <td>1.00</td>\n",
              "      <td>2</td>\n",
              "    </tr>\n",
              "    <tr>\n",
              "      <th>478</th>\n",
              "      <td>31</td>\n",
              "      <td>6.8</td>\n",
              "      <td>0.5</td>\n",
              "      <td>1.00</td>\n",
              "      <td>2</td>\n",
              "    </tr>\n",
              "    <tr>\n",
              "      <th>479</th>\n",
              "      <td>38</td>\n",
              "      <td>7.3</td>\n",
              "      <td>0.3</td>\n",
              "      <td>1.50</td>\n",
              "      <td>1</td>\n",
              "    </tr>\n",
              "  </tbody>\n",
              "</table>\n",
              "<p>480 rows × 5 columns</p>\n",
              "</div>\n",
              "      <button class=\"colab-df-convert\" onclick=\"convertToInteractive('df-d19997c6-6ecd-4ad3-a3b3-e865f165330c')\"\n",
              "              title=\"Convert this dataframe to an interactive table.\"\n",
              "              style=\"display:none;\">\n",
              "        \n",
              "  <svg xmlns=\"http://www.w3.org/2000/svg\" height=\"24px\"viewBox=\"0 0 24 24\"\n",
              "       width=\"24px\">\n",
              "    <path d=\"M0 0h24v24H0V0z\" fill=\"none\"/>\n",
              "    <path d=\"M18.56 5.44l.94 2.06.94-2.06 2.06-.94-2.06-.94-.94-2.06-.94 2.06-2.06.94zm-11 1L8.5 8.5l.94-2.06 2.06-.94-2.06-.94L8.5 2.5l-.94 2.06-2.06.94zm10 10l.94 2.06.94-2.06 2.06-.94-2.06-.94-.94-2.06-.94 2.06-2.06.94z\"/><path d=\"M17.41 7.96l-1.37-1.37c-.4-.4-.92-.59-1.43-.59-.52 0-1.04.2-1.43.59L10.3 9.45l-7.72 7.72c-.78.78-.78 2.05 0 2.83L4 21.41c.39.39.9.59 1.41.59.51 0 1.02-.2 1.41-.59l7.78-7.78 2.81-2.81c.8-.78.8-2.07 0-2.86zM5.41 20L4 18.59l7.72-7.72 1.47 1.35L5.41 20z\"/>\n",
              "  </svg>\n",
              "      </button>\n",
              "      \n",
              "  <style>\n",
              "    .colab-df-container {\n",
              "      display:flex;\n",
              "      flex-wrap:wrap;\n",
              "      gap: 12px;\n",
              "    }\n",
              "\n",
              "    .colab-df-convert {\n",
              "      background-color: #E8F0FE;\n",
              "      border: none;\n",
              "      border-radius: 50%;\n",
              "      cursor: pointer;\n",
              "      display: none;\n",
              "      fill: #1967D2;\n",
              "      height: 32px;\n",
              "      padding: 0 0 0 0;\n",
              "      width: 32px;\n",
              "    }\n",
              "\n",
              "    .colab-df-convert:hover {\n",
              "      background-color: #E2EBFA;\n",
              "      box-shadow: 0px 1px 2px rgba(60, 64, 67, 0.3), 0px 1px 3px 1px rgba(60, 64, 67, 0.15);\n",
              "      fill: #174EA6;\n",
              "    }\n",
              "\n",
              "    [theme=dark] .colab-df-convert {\n",
              "      background-color: #3B4455;\n",
              "      fill: #D2E3FC;\n",
              "    }\n",
              "\n",
              "    [theme=dark] .colab-df-convert:hover {\n",
              "      background-color: #434B5C;\n",
              "      box-shadow: 0px 1px 3px 1px rgba(0, 0, 0, 0.15);\n",
              "      filter: drop-shadow(0px 1px 2px rgba(0, 0, 0, 0.3));\n",
              "      fill: #FFFFFF;\n",
              "    }\n",
              "  </style>\n",
              "\n",
              "      <script>\n",
              "        const buttonEl =\n",
              "          document.querySelector('#df-d19997c6-6ecd-4ad3-a3b3-e865f165330c button.colab-df-convert');\n",
              "        buttonEl.style.display =\n",
              "          google.colab.kernel.accessAllowed ? 'block' : 'none';\n",
              "\n",
              "        async function convertToInteractive(key) {\n",
              "          const element = document.querySelector('#df-d19997c6-6ecd-4ad3-a3b3-e865f165330c');\n",
              "          const dataTable =\n",
              "            await google.colab.kernel.invokeFunction('convertToInteractive',\n",
              "                                                     [key], {});\n",
              "          if (!dataTable) return;\n",
              "\n",
              "          const docLinkHtml = 'Like what you see? Visit the ' +\n",
              "            '<a target=\"_blank\" href=https://colab.research.google.com/notebooks/data_table.ipynb>data table notebook</a>'\n",
              "            + ' to learn more about interactive tables.';\n",
              "          element.innerHTML = '';\n",
              "          dataTable['output_type'] = 'display_data';\n",
              "          await google.colab.output.renderOutput(dataTable, element);\n",
              "          const docLink = document.createElement('div');\n",
              "          docLink.innerHTML = docLinkHtml;\n",
              "          element.appendChild(docLink);\n",
              "        }\n",
              "      </script>\n",
              "    </div>\n",
              "  </div>\n",
              "  "
            ],
            "text/plain": [
              "     Age   TP   DB   AGR  target\n",
              "0     65  6.8  0.1  0.90       2\n",
              "1     62  7.5  5.5  0.74       2\n",
              "2     62  7.0  4.1  0.89       2\n",
              "3     58  6.8  0.4  1.00       2\n",
              "4     72  7.3  2.0  0.40       2\n",
              "..   ...  ...  ...   ...     ...\n",
              "475   60  5.9  0.1  0.37       1\n",
              "476   40  6.0  0.1  1.10       2\n",
              "477   52  6.4  0.2  1.00       2\n",
              "478   31  6.8  0.5  1.00       2\n",
              "479   38  7.3  0.3  1.50       1\n",
              "\n",
              "[480 rows x 5 columns]"
            ]
          },
          "metadata": {},
          "execution_count": 12
        }
      ],
      "source": [
        "df_tsk=df_tsk.drop(columns=['Unnamed: 0'])      #diilangin kolom\n",
        "df_tsk"
      ]
    },
    {
      "cell_type": "code",
      "execution_count": null,
      "metadata": {
        "colab": {
          "base_uri": "https://localhost:8080/",
          "height": 300
        },
        "id": "0DpRb_e7RXQL",
        "outputId": "6b9ee17f-7cfb-4998-d738-ecc3c7968e39"
      },
      "outputs": [
        {
          "output_type": "execute_result",
          "data": {
            "text/html": [
              "\n",
              "  <div id=\"df-da6b5c33-4e9e-4c9c-abf8-5b6ba23839a2\">\n",
              "    <div class=\"colab-df-container\">\n",
              "      <div>\n",
              "<style scoped>\n",
              "    .dataframe tbody tr th:only-of-type {\n",
              "        vertical-align: middle;\n",
              "    }\n",
              "\n",
              "    .dataframe tbody tr th {\n",
              "        vertical-align: top;\n",
              "    }\n",
              "\n",
              "    .dataframe thead th {\n",
              "        text-align: right;\n",
              "    }\n",
              "</style>\n",
              "<table border=\"1\" class=\"dataframe\">\n",
              "  <thead>\n",
              "    <tr style=\"text-align: right;\">\n",
              "      <th></th>\n",
              "      <th>Age</th>\n",
              "      <th>TP</th>\n",
              "      <th>DB</th>\n",
              "      <th>AGR</th>\n",
              "      <th>target</th>\n",
              "    </tr>\n",
              "  </thead>\n",
              "  <tbody>\n",
              "    <tr>\n",
              "      <th>count</th>\n",
              "      <td>480.000000</td>\n",
              "      <td>480.000000</td>\n",
              "      <td>480.000000</td>\n",
              "      <td>480.000000</td>\n",
              "      <td>480.000000</td>\n",
              "    </tr>\n",
              "    <tr>\n",
              "      <th>mean</th>\n",
              "      <td>44.904167</td>\n",
              "      <td>6.474375</td>\n",
              "      <td>1.473125</td>\n",
              "      <td>0.953583</td>\n",
              "      <td>1.720833</td>\n",
              "    </tr>\n",
              "    <tr>\n",
              "      <th>std</th>\n",
              "      <td>16.025918</td>\n",
              "      <td>1.089286</td>\n",
              "      <td>2.790673</td>\n",
              "      <td>0.327034</td>\n",
              "      <td>0.449058</td>\n",
              "    </tr>\n",
              "    <tr>\n",
              "      <th>min</th>\n",
              "      <td>11.000000</td>\n",
              "      <td>2.700000</td>\n",
              "      <td>0.100000</td>\n",
              "      <td>0.300000</td>\n",
              "      <td>1.000000</td>\n",
              "    </tr>\n",
              "    <tr>\n",
              "      <th>25%</th>\n",
              "      <td>33.000000</td>\n",
              "      <td>5.775000</td>\n",
              "      <td>0.200000</td>\n",
              "      <td>0.700000</td>\n",
              "      <td>1.000000</td>\n",
              "    </tr>\n",
              "    <tr>\n",
              "      <th>50%</th>\n",
              "      <td>45.000000</td>\n",
              "      <td>6.500000</td>\n",
              "      <td>0.300000</td>\n",
              "      <td>0.965000</td>\n",
              "      <td>2.000000</td>\n",
              "    </tr>\n",
              "    <tr>\n",
              "      <th>75%</th>\n",
              "      <td>57.250000</td>\n",
              "      <td>7.200000</td>\n",
              "      <td>1.300000</td>\n",
              "      <td>1.100000</td>\n",
              "      <td>2.000000</td>\n",
              "    </tr>\n",
              "    <tr>\n",
              "      <th>max</th>\n",
              "      <td>90.000000</td>\n",
              "      <td>9.600000</td>\n",
              "      <td>19.700000</td>\n",
              "      <td>2.800000</td>\n",
              "      <td>2.000000</td>\n",
              "    </tr>\n",
              "  </tbody>\n",
              "</table>\n",
              "</div>\n",
              "      <button class=\"colab-df-convert\" onclick=\"convertToInteractive('df-da6b5c33-4e9e-4c9c-abf8-5b6ba23839a2')\"\n",
              "              title=\"Convert this dataframe to an interactive table.\"\n",
              "              style=\"display:none;\">\n",
              "        \n",
              "  <svg xmlns=\"http://www.w3.org/2000/svg\" height=\"24px\"viewBox=\"0 0 24 24\"\n",
              "       width=\"24px\">\n",
              "    <path d=\"M0 0h24v24H0V0z\" fill=\"none\"/>\n",
              "    <path d=\"M18.56 5.44l.94 2.06.94-2.06 2.06-.94-2.06-.94-.94-2.06-.94 2.06-2.06.94zm-11 1L8.5 8.5l.94-2.06 2.06-.94-2.06-.94L8.5 2.5l-.94 2.06-2.06.94zm10 10l.94 2.06.94-2.06 2.06-.94-2.06-.94-.94-2.06-.94 2.06-2.06.94z\"/><path d=\"M17.41 7.96l-1.37-1.37c-.4-.4-.92-.59-1.43-.59-.52 0-1.04.2-1.43.59L10.3 9.45l-7.72 7.72c-.78.78-.78 2.05 0 2.83L4 21.41c.39.39.9.59 1.41.59.51 0 1.02-.2 1.41-.59l7.78-7.78 2.81-2.81c.8-.78.8-2.07 0-2.86zM5.41 20L4 18.59l7.72-7.72 1.47 1.35L5.41 20z\"/>\n",
              "  </svg>\n",
              "      </button>\n",
              "      \n",
              "  <style>\n",
              "    .colab-df-container {\n",
              "      display:flex;\n",
              "      flex-wrap:wrap;\n",
              "      gap: 12px;\n",
              "    }\n",
              "\n",
              "    .colab-df-convert {\n",
              "      background-color: #E8F0FE;\n",
              "      border: none;\n",
              "      border-radius: 50%;\n",
              "      cursor: pointer;\n",
              "      display: none;\n",
              "      fill: #1967D2;\n",
              "      height: 32px;\n",
              "      padding: 0 0 0 0;\n",
              "      width: 32px;\n",
              "    }\n",
              "\n",
              "    .colab-df-convert:hover {\n",
              "      background-color: #E2EBFA;\n",
              "      box-shadow: 0px 1px 2px rgba(60, 64, 67, 0.3), 0px 1px 3px 1px rgba(60, 64, 67, 0.15);\n",
              "      fill: #174EA6;\n",
              "    }\n",
              "\n",
              "    [theme=dark] .colab-df-convert {\n",
              "      background-color: #3B4455;\n",
              "      fill: #D2E3FC;\n",
              "    }\n",
              "\n",
              "    [theme=dark] .colab-df-convert:hover {\n",
              "      background-color: #434B5C;\n",
              "      box-shadow: 0px 1px 3px 1px rgba(0, 0, 0, 0.15);\n",
              "      filter: drop-shadow(0px 1px 2px rgba(0, 0, 0, 0.3));\n",
              "      fill: #FFFFFF;\n",
              "    }\n",
              "  </style>\n",
              "\n",
              "      <script>\n",
              "        const buttonEl =\n",
              "          document.querySelector('#df-da6b5c33-4e9e-4c9c-abf8-5b6ba23839a2 button.colab-df-convert');\n",
              "        buttonEl.style.display =\n",
              "          google.colab.kernel.accessAllowed ? 'block' : 'none';\n",
              "\n",
              "        async function convertToInteractive(key) {\n",
              "          const element = document.querySelector('#df-da6b5c33-4e9e-4c9c-abf8-5b6ba23839a2');\n",
              "          const dataTable =\n",
              "            await google.colab.kernel.invokeFunction('convertToInteractive',\n",
              "                                                     [key], {});\n",
              "          if (!dataTable) return;\n",
              "\n",
              "          const docLinkHtml = 'Like what you see? Visit the ' +\n",
              "            '<a target=\"_blank\" href=https://colab.research.google.com/notebooks/data_table.ipynb>data table notebook</a>'\n",
              "            + ' to learn more about interactive tables.';\n",
              "          element.innerHTML = '';\n",
              "          dataTable['output_type'] = 'display_data';\n",
              "          await google.colab.output.renderOutput(dataTable, element);\n",
              "          const docLink = document.createElement('div');\n",
              "          docLink.innerHTML = docLinkHtml;\n",
              "          element.appendChild(docLink);\n",
              "        }\n",
              "      </script>\n",
              "    </div>\n",
              "  </div>\n",
              "  "
            ],
            "text/plain": [
              "              Age          TP          DB         AGR      target\n",
              "count  480.000000  480.000000  480.000000  480.000000  480.000000\n",
              "mean    44.904167    6.474375    1.473125    0.953583    1.720833\n",
              "std     16.025918    1.089286    2.790673    0.327034    0.449058\n",
              "min     11.000000    2.700000    0.100000    0.300000    1.000000\n",
              "25%     33.000000    5.775000    0.200000    0.700000    1.000000\n",
              "50%     45.000000    6.500000    0.300000    0.965000    2.000000\n",
              "75%     57.250000    7.200000    1.300000    1.100000    2.000000\n",
              "max     90.000000    9.600000   19.700000    2.800000    2.000000"
            ]
          },
          "metadata": {},
          "execution_count": 13
        }
      ],
      "source": [
        "df_tsk.describe()"
      ]
    },
    {
      "cell_type": "code",
      "execution_count": null,
      "metadata": {
        "colab": {
          "base_uri": "https://localhost:8080/"
        },
        "id": "4yQNdV_UUlm-",
        "outputId": "31f57f64-d059-4def-c536-eeb543766bf6"
      },
      "outputs": [
        {
          "output_type": "execute_result",
          "data": {
            "text/plain": [
              "Age       0\n",
              "TP        0\n",
              "DB        0\n",
              "AGR       0\n",
              "target    0\n",
              "dtype: int64"
            ]
          },
          "metadata": {},
          "execution_count": 14
        }
      ],
      "source": [
        "df_tsk.isnull().sum()    #untuk mengecek nilai yang hilang"
      ]
    },
    {
      "cell_type": "code",
      "execution_count": null,
      "metadata": {
        "colab": {
          "base_uri": "https://localhost:8080/"
        },
        "id": "twi9LCNQ0G-H",
        "outputId": "7bfdc0c4-3f1b-432c-cdc0-f69a1a289a79"
      },
      "outputs": [
        {
          "output_type": "stream",
          "name": "stdout",
          "text": [
            "<class 'pandas.core.frame.DataFrame'>\n",
            "RangeIndex: 480 entries, 0 to 479\n",
            "Data columns (total 5 columns):\n",
            " #   Column  Non-Null Count  Dtype  \n",
            "---  ------  --------------  -----  \n",
            " 0   Age     480 non-null    int64  \n",
            " 1   TP      480 non-null    float64\n",
            " 2   DB      480 non-null    float64\n",
            " 3   AGR     480 non-null    float64\n",
            " 4   target  480 non-null    int64  \n",
            "dtypes: float64(3), int64(2)\n",
            "memory usage: 18.9 KB\n"
          ]
        }
      ],
      "source": [
        "df_tsk.info()"
      ]
    },
    {
      "cell_type": "markdown",
      "metadata": {
        "id": "vC10JpB3pks4"
      },
      "source": [
        "#Info Atribute\n",
        "1. Age (Umur)\n",
        "2. Sex (Kelamin)\n",
        "3. Chest Pain type (Jenis Nyeri Dada) (Cp)\n",
        "4. Resting Blood Preasure (Tekanan darah Istirahat) (Tresbps)\n",
        "5. Serum Cholesterol (Kolesterol Serum) (Chol)\n",
        "6. Fasting Blood Sugar (Gula Darah Puasa) (Fbs)\n",
        "7. Resting Electrocar Dingraphic Results (Hasil Electrokardiografi istirahat) (Resterg)\n",
        "8. Maximum Heart Rate Achieved (detak jantung maximum tercapai) (Thalac)\n",
        "9. Exercise Induced Angina (Angina yang diinduksi oleh olahraga) (Exang)\n",
        "10. Oldpeak\n",
        "11. Number of Major (Ca)\n",
        "12. Slope (Kemiringan)\n",
        "13. Thal\n",
        "14. Target\n",
        "\n"
      ]
    },
    {
      "cell_type": "code",
      "execution_count": null,
      "metadata": {
        "colab": {
          "base_uri": "https://localhost:8080/",
          "height": 395
        },
        "id": "2WXhlq2RUmZT",
        "outputId": "9e52338f-e638-4071-812b-b2945923c3a5"
      },
      "outputs": [
        {
          "output_type": "execute_result",
          "data": {
            "text/plain": [
              "<matplotlib.axes._subplots.AxesSubplot at 0x7fd90b3966d0>"
            ]
          },
          "metadata": {},
          "execution_count": 16
        },
        {
          "output_type": "display_data",
          "data": {
            "image/png": "[encoded data removed]",
            "text/plain": [
              "<Figure size 720x432 with 2 Axes>"
            ]
          },
          "metadata": {
            "needs_background": "light"
          }
        }
      ],
      "source": [
        "#untuk melihat korelasi data\n",
        "k=len(df_tsk.columns)\n",
        "cm=df_tsk.corr()\n",
        "plt.figure(figsize=(10,6))\n",
        "sns.heatmap(cm, annot=True, cmap='viridis')"
      ]
    },
    {
      "cell_type": "markdown",
      "metadata": {
        "id": "sHw4C2JD-6y-"
      },
      "source": [
        "# Fuzzyfikasi"
      ]
    },
    {
      "cell_type": "markdown",
      "metadata": {
        "id": "ijDPtieO5NHW"
      },
      "source": [
        "##Fuzzy A"
      ]
    },
    {
      "cell_type": "code",
      "execution_count": null,
      "metadata": {
        "id": "YCE6tYhl-6zC"
      },
      "outputs": [],
      "source": [
        "def fungsi_segitiga(x, amb):\n",
        "    \"\"\"\n",
        "    Fungsi Keanggotaan Segitiga.\n",
        "    Parameter:\n",
        "    ----------\n",
        "    x   : Array 1 dimensi, semesta himpunan x  \n",
        "    amb : Array 1 dimensi, terdiri dari 3 elemen a, m, b, yang mana a<=m<=b\n",
        "    \n",
        "    Hasil\n",
        "    -------\n",
        "    miu   : Array 1 dimensi fungsi keanggotaan segitiga \n",
        "    \n",
        "    Fungsi keanggotaan segitiga:\n",
        "    \"\"\"\n",
        "    assert len(amb) == 3, 'parameter amb harus tepat tiga elemen'\n",
        "    a, m, b = np.r_[amb]    # Zero-indexing di Python\n",
        "    assert a <= m and m <= b, 'paremeter harus memenuhi syarat berikut: a <= m <= b.'\n",
        "\n",
        "    miu = np.zeros(len(x))\n",
        "\n",
        "    # Sisi Kiri\n",
        "    if a != m:\n",
        "        idx = np.nonzero(np.logical_and(a < x, x < m))[0]\n",
        "        miu[idx] = (x[idx] - a) / float(m - a)\n",
        "\n",
        "    # Sisi Kanan\n",
        "    if m != b:\n",
        "        idx = np.nonzero(np.logical_and(m < x, x < b))[0]\n",
        "        miu[idx] = (b - x[idx]) / float(b - m)\n",
        "\n",
        "    idx = np.nonzero(x == m)\n",
        "    miu[idx] = 1\n",
        "    \n",
        "    return miu"
      ]
    },
    {
      "cell_type": "code",
      "execution_count": null,
      "metadata": {
        "id": "N5TwlaQg-6zD"
      },
      "outputs": [],
      "source": [
        "def miu_fungsi_segitiga(array_x, amb, x_i):\n",
        "    \"\"\"\n",
        "    Fungsi Keanggotaan Segitiga.\n",
        "    Parameter:\n",
        "    ----------\n",
        "    x   : Array 1 dimensi, semesta himpunan x  \n",
        "    amb : Array 1 dimensi, terdiri dari 3 elemen a, m, b, yang mana a<=m<=b\n",
        "    \n",
        "    Hasil\n",
        "    -------\n",
        "    miu   : Array 1 dimensi fungsi keanggotaan segitiga \n",
        "    \n",
        "    Fungsi keanggotaan segitiga:\n",
        "    \"\"\"\n",
        "    assert len(amb) == 3, 'parameter amb harus tepat tiga elemen'\n",
        "    a, m, b = np.r_[amb]    # Zero-indexing di Python\n",
        "    assert a <= m and m <= b, 'paremeter harus memenuhi syarat berikut: a <= m <= b.'\n",
        "\n",
        "    miu = np.zeros(len(array_x))\n",
        "\n",
        "    # Sisi Kiri\n",
        "    if a != m:\n",
        "        idx = np.nonzero(np.logical_and(a < array_x, array_x < m))[0]\n",
        "        miu[idx] = (array_x[idx] - a) / float(m - a)\n",
        "\n",
        "    # Sisi Kanan\n",
        "    if m != b:\n",
        "        idx = np.nonzero(np.logical_and(m < array_x, array_x < b))[0]\n",
        "        miu[idx] = (b - array_x[idx]) / float(b - m)\n",
        "\n",
        "    idx = np.nonzero(array_x == m)\n",
        "    miu[idx] = 1\n",
        "\n",
        "    dict_fuzzy=res = {round(array_x[i],2): miu[i] for i in range(len(array_x))}\n",
        "    print(dict_fuzzy)\n",
        "    hasil = dict_fuzzy[int(x_i)]\n",
        "\n",
        "    return hasil"
      ]
    },
    {
      "cell_type": "markdown",
      "metadata": {
        "id": "9fZ254aHuG69"
      },
      "source": [
        "##Pembentukan Himpunan Fuzzy\n",
        "\n"
      ]
    },
    {
      "cell_type": "code",
      "execution_count": null,
      "metadata": {
        "colab": {
          "base_uri": "https://localhost:8080/",
          "height": 295
        },
        "id": "Dc6rxrkf-6zF",
        "outputId": "e0f81664-c64d-40ac-a757-05a8c9cee450"
      },
      "outputs": [
        {
          "output_type": "display_data",
          "data": {
            "image/png": "[encoded data removed]",
            "text/plain": [
              "<Figure size 432x288 with 1 Axes>"
            ]
          },
          "metadata": {
            "needs_background": "light"
          }
        }
      ],
      "source": [
        "# Pembentukan Himpunan Fuzzy Age [fungsi buat sendiri]\n",
        "x_Age = np.arange(10, 91, 0.1) # Semesta Pembicaraan\n",
        "amb_muda = [10, 22, 35]\n",
        "amb_paruhbaya = [35, 45, 55]\n",
        "amb_tua = [55, 73, 91]\n",
        "\n",
        "miu_Age_muda = fungsi_segitiga(x_Age, amb_muda)\n",
        "miu_Age_paruhbaya = fungsi_segitiga(x_Age, amb_paruhbaya)\n",
        "miu_Age_tua = fungsi_segitiga(x_Age, amb_tua)\n",
        "\n",
        "import matplotlib.pyplot as plt\n",
        "plt.plot(x_Age, miu_Age_muda, label = \"Muda\", color='green')\n",
        "plt.plot(x_Age, miu_Age_paruhbaya, label = \"Paruh baya\", color='red')\n",
        "plt.plot(x_Age, miu_Age_tua, label = \"Tua\", color='blue')\n",
        "plt.xlabel('x1')\n",
        "plt.ylabel('miu x1')\n",
        "plt.title('Kurva Nilai Keanggotaan Usia')\n",
        "plt.legend()\n",
        "plt.show()"
      ]
    },
    {
      "cell_type": "code",
      "execution_count": null,
      "metadata": {
        "colab": {
          "base_uri": "https://localhost:8080/",
          "height": 295
        },
        "id": "9iQ9FhZJ-6zI",
        "outputId": "a3d60325-1419-4f24-f4d0-e5aecdaaa372"
      },
      "outputs": [
        {
          "output_type": "display_data",
          "data": {
            "image/png": "[encoded data removed]",
            "text/plain": [
              "<Figure size 432x288 with 1 Axes>"
            ]
          },
          "metadata": {
            "needs_background": "light"
          }
        }
      ],
      "source": [
        "# Pembentukan Himpunan Fuzzy Total Protein [fungsi buat sendiri]\n",
        "x_TP = np.arange(2, 9.6, 0.1) # Semesta Pembicaraan\n",
        "amb_rendah  = [2.6, 4.3, 6]\n",
        "amb_normal  = [6, 7.2, 8.3]\n",
        "amb_tinggi = [8.3, 9, 9.6]\n",
        "\n",
        "miu_TP_rendah  = fungsi_segitiga(x_TP, amb_rendah)\n",
        "miu_TP_normal  = fungsi_segitiga(x_TP, amb_normal)\n",
        "miu_TP_tinggi  = fungsi_segitiga(x_TP, amb_tinggi)\n",
        "\n",
        "import matplotlib.pyplot as plt\n",
        "plt.plot(x_TP, miu_TP_rendah, label = \"Rendah\", color='orange')\n",
        "plt.plot(x_TP, miu_TP_normal, label = \"Normal\", color='yellow')\n",
        "plt.plot(x_TP, miu_TP_tinggi, label = \"Tinggi\", color='black')\n",
        "plt.xlabel('x2')\n",
        "plt.ylabel('miu x2')\n",
        "plt.title('Kurva Nilai Keanggotaan Total Protein')\n",
        "plt.legend()\n",
        "plt.show()"
      ]
    },
    {
      "cell_type": "code",
      "execution_count": null,
      "metadata": {
        "colab": {
          "base_uri": "https://localhost:8080/",
          "height": 295
        },
        "id": "siWCobrbNXkZ",
        "outputId": "14683f94-e2f3-4bd8-89fa-4b397d4b385e"
      },
      "outputs": [
        {
          "output_type": "display_data",
          "data": {
            "image/png": "[encoded data removed]",
            "text/plain": [
              "<Figure size 432x288 with 1 Axes>"
            ]
          },
          "metadata": {
            "needs_background": "light"
          }
        }
      ],
      "source": [
        "# Pembentukan Himpunan Fuzzy Direct Bilirubin [fungsi buat sendiri]\n",
        "x_DB = np.arange(0, 19.8, 0.1) # Semesta Pembicaraan\n",
        "amb_menurun = [0, 0.2, 0.3]\n",
        "amb_normal = [0.3, 0.8, 1.2]\n",
        "amb_meningkat = [1.2, 10.5, 19.8]\n",
        "\n",
        "miu_DB_menurun  = fungsi_segitiga(x_DB, amb_menurun)\n",
        "miu_DB_normal  = fungsi_segitiga(x_DB, amb_normal)\n",
        "miu_DB_meningkat  = fungsi_segitiga(x_DB, amb_tinggi)\n",
        "\n",
        "import matplotlib.pyplot as plt\n",
        "plt.plot(x_DB, miu_DB_menurun, label = \"Menurun\", color='green')\n",
        "plt.plot(x_DB, miu_DB_normal, label = \"Normal\", color='blue')\n",
        "plt.plot(x_DB, miu_DB_meningkat, label = \"Meningkat\", color='brown')\n",
        "plt.xlabel('x3')\n",
        "plt.ylabel('miu x3')\n",
        "plt.title('Kurva Nilai Keanggotaan Direct Bilirubin')\n",
        "plt.legend()\n",
        "plt.show()"
      ]
    },
    {
      "cell_type": "code",
      "execution_count": null,
      "metadata": {
        "colab": {
          "base_uri": "https://localhost:8080/",
          "height": 295
        },
        "id": "17m1dbS83SDU",
        "outputId": "bf3fa758-16c0-4254-ff35-10bf313b6fbc"
      },
      "outputs": [
        {
          "output_type": "display_data",
          "data": {
            "image/png": "[encoded data removed]",
            "text/plain": [
              "<Figure size 432x288 with 1 Axes>"
            ]
          },
          "metadata": {
            "needs_background": "light"
          }
        }
      ],
      "source": [
        "# Pembentukan Himpunan Fuzzy Albumin Globulin Ratio\t[fungsi buat sendiri]\n",
        "x_AGR = np.arange(0, 3, 0.1) # Semesta Pembicaraan\n",
        "amb_rendah  = [0.3, 0.9, 1.5]\n",
        "amb_normal = [1.5, 2, 2.5]\n",
        "amb_tinggi = [2.5, 2.7, 3]\n",
        "\n",
        "miu_AGR_rendah  = fungsi_segitiga(x_AGR, amb_rendah)\n",
        "miu_AGR_normal  = fungsi_segitiga(x_AGR, amb_normal)\n",
        "miu_AGR_tinggi  = fungsi_segitiga(x_AGR, amb_tinggi)\n",
        "\n",
        "import matplotlib.pyplot as plt\n",
        "plt.plot(x_AGR, miu_AGR_rendah, label = \"rendah\", color='brown')\n",
        "plt.plot(x_AGR, miu_AGR_normal, label = \"Normal\", color='orange')\n",
        "plt.plot(x_AGR, miu_AGR_tinggi, label = \"tinggi\", color='black')\n",
        "\n",
        "plt.xlabel('x4')\n",
        "plt.ylabel('miu x4')\n",
        "plt.title('Kurva Nilai Keanggotaan Albumin Globulin Ratio')\n",
        "plt.legend()\n",
        "plt.show()"
      ]
    },
    {
      "cell_type": "code",
      "execution_count": null,
      "metadata": {
        "colab": {
          "base_uri": "https://localhost:8080/",
          "height": 381
        },
        "id": "trDChAPXz6x1",
        "outputId": "6046bf84-637f-475e-c24d-f05823120498"
      },
      "outputs": [
        {
          "output_type": "error",
          "ename": "AssertionError",
          "evalue": "ignored",
          "traceback": [
            "\u001b[0;31m---------------------------------------------------------------------------\u001b[0m",
            "\u001b[0;31mAssertionError\u001b[0m                            Traceback (most recent call last)",
            "\u001b[0;32m<ipython-input-23-bf826cf4fc4c>\u001b[0m in \u001b[0;36m<module>\u001b[0;34m()\u001b[0m\n\u001b[1;32m      4\u001b[0m \u001b[0mamb_nonliver\u001b[0m \u001b[0;34m=\u001b[0m \u001b[0;34m[\u001b[0m\u001b[0;36m2\u001b[0m\u001b[0;34m,\u001b[0m \u001b[0;36m2\u001b[0m\u001b[0;34m,\u001b[0m \u001b[0;36m1\u001b[0m\u001b[0;34m]\u001b[0m\u001b[0;34m\u001b[0m\u001b[0;34m\u001b[0m\u001b[0m\n\u001b[1;32m      5\u001b[0m \u001b[0;34m\u001b[0m\u001b[0m\n\u001b[0;32m----> 6\u001b[0;31m \u001b[0mmiu_Liver_Disease_liver\u001b[0m  \u001b[0;34m=\u001b[0m \u001b[0mfungsi_segitiga\u001b[0m\u001b[0;34m(\u001b[0m\u001b[0mx_Liver_Disease\u001b[0m\u001b[0;34m,\u001b[0m \u001b[0mamb_liver\u001b[0m\u001b[0;34m)\u001b[0m\u001b[0;34m\u001b[0m\u001b[0;34m\u001b[0m\u001b[0m\n\u001b[0m\u001b[1;32m      7\u001b[0m \u001b[0mmiu_Liver_Disease_nonliver\u001b[0m   \u001b[0;34m=\u001b[0m \u001b[0mfungsi_segitiga\u001b[0m\u001b[0;34m(\u001b[0m\u001b[0mx_Liver_Disease\u001b[0m\u001b[0;34m,\u001b[0m \u001b[0mamb_nonliver\u001b[0m\u001b[0;34m)\u001b[0m\u001b[0;34m\u001b[0m\u001b[0;34m\u001b[0m\u001b[0m\n\u001b[1;32m      8\u001b[0m \u001b[0;34m\u001b[0m\u001b[0m\n",
            "\u001b[0;32m<ipython-input-17-a859687db983>\u001b[0m in \u001b[0;36mfungsi_segitiga\u001b[0;34m(x, amb)\u001b[0m\n\u001b[1;32m     15\u001b[0m     \u001b[0;32massert\u001b[0m \u001b[0mlen\u001b[0m\u001b[0;34m(\u001b[0m\u001b[0mamb\u001b[0m\u001b[0;34m)\u001b[0m \u001b[0;34m==\u001b[0m \u001b[0;36m3\u001b[0m\u001b[0;34m,\u001b[0m \u001b[0;34m'parameter amb harus tepat tiga elemen'\u001b[0m\u001b[0;34m\u001b[0m\u001b[0;34m\u001b[0m\u001b[0m\n\u001b[1;32m     16\u001b[0m     \u001b[0ma\u001b[0m\u001b[0;34m,\u001b[0m \u001b[0mm\u001b[0m\u001b[0;34m,\u001b[0m \u001b[0mb\u001b[0m \u001b[0;34m=\u001b[0m \u001b[0mnp\u001b[0m\u001b[0;34m.\u001b[0m\u001b[0mr_\u001b[0m\u001b[0;34m[\u001b[0m\u001b[0mamb\u001b[0m\u001b[0;34m]\u001b[0m    \u001b[0;31m# Zero-indexing di Python\u001b[0m\u001b[0;34m\u001b[0m\u001b[0;34m\u001b[0m\u001b[0m\n\u001b[0;32m---> 17\u001b[0;31m     \u001b[0;32massert\u001b[0m \u001b[0ma\u001b[0m \u001b[0;34m<=\u001b[0m \u001b[0mm\u001b[0m \u001b[0;32mand\u001b[0m \u001b[0mm\u001b[0m \u001b[0;34m<=\u001b[0m \u001b[0mb\u001b[0m\u001b[0;34m,\u001b[0m \u001b[0;34m'paremeter harus memenuhi syarat berikut: a <= m <= b.'\u001b[0m\u001b[0;34m\u001b[0m\u001b[0;34m\u001b[0m\u001b[0m\n\u001b[0m\u001b[1;32m     18\u001b[0m \u001b[0;34m\u001b[0m\u001b[0m\n\u001b[1;32m     19\u001b[0m     \u001b[0mmiu\u001b[0m \u001b[0;34m=\u001b[0m \u001b[0mnp\u001b[0m\u001b[0;34m.\u001b[0m\u001b[0mzeros\u001b[0m\u001b[0;34m(\u001b[0m\u001b[0mlen\u001b[0m\u001b[0;34m(\u001b[0m\u001b[0mx\u001b[0m\u001b[0;34m)\u001b[0m\u001b[0;34m)\u001b[0m\u001b[0;34m\u001b[0m\u001b[0;34m\u001b[0m\u001b[0m\n",
            "\u001b[0;31mAssertionError\u001b[0m: paremeter harus memenuhi syarat berikut: a <= m <= b."
          ]
        }
      ],
      "source": [
        "# Pembentukan Himpunan Fuzzy Liver Disease [fungsi buat sendiri]\n",
        "x_Liver_Disease= np.arange(1, 2, 0.1) # Semesta Pembicaraan\n",
        "amb_nonliver  = [1, 2, 2]\n",
        "amb_liver = [1, 1, 2]\n",
        "\n",
        "miu_Liver_Disease_nonliver  = fungsi_segitiga(x_Liver_Disease, amb_nonliver)\n",
        "miu_Liver_Disease_liver   = fungsi_segitiga(x_Liver_Disease, amb_liver)\n",
        "\n",
        "import matplotlib.pyplot as plt\n",
        "plt.plot(x_Liver_Disease, miu_Liver_Disease_nonliver, label = \"Non liver\", color='orange')\n",
        "plt.plot(x_Liver_Disease, miu_Liver_Disease_liver, label = \"liver\",  color='brown')\n",
        "plt.xlabel('y')\n",
        "plt.ylabel('miu y')\n",
        "plt.title('Kurva Nilai Keanggotaan Liver Disease')\n",
        "plt.legend()\n",
        "plt.show()"
      ]
    },
    {
      "cell_type": "markdown",
      "metadata": {
        "id": "yfdu6iGHRThB"
      },
      "source": [
        "#Perhitungan Nilai Miu"
      ]
    },
    {
      "cell_type": "code",
      "execution_count": null,
      "metadata": {
        "id": "pq3SjoEfS_qI"
      },
      "outputs": [],
      "source": [
        "#miu x1 (Age)\n",
        "def fuzzyfikasi(x_array, amd_1, amd_2, amd_3, x, label_1, label_2, label_3):\n",
        "    batas = (max(x_array)+min(x_array))\n",
        "    awal = batas-66\n",
        "    tengah = awal+20\n",
        "    print(batas)\n",
        "    print(awal)\n",
        "    print(tengah)\n",
        "    hasil=0\n",
        "    if x <= awal:\n",
        "        hasil=miu_fungsi_segitiga(x_array, amd_1, x)\n",
        "        label_hasil = label_1\n",
        "    elif awal <= x <= tengah: \n",
        "        hasil=miu_fungsi_segitiga(x_array, amd_2, x)\n",
        "        label_hasil = label_2\n",
        "    else:\n",
        "        hasil=miu_fungsi_segitiga(x_array, amd_3, x)\n",
        "        label_hasil = label_3\n",
        "    return hasil, label_hasil"
      ]
    },
    {
      "cell_type": "code",
      "execution_count": null,
      "metadata": {
        "id": "JaL7JloKpVs0"
      },
      "outputs": [],
      "source": [
        "#miu x2 (Total Protein)\n",
        "def fuzzyfikasi2(x_array, amd_1, amd_2, amd_3, x, label_1, label_2, label_3):\n",
        "    batas = (max(x_array)+min(x_array))\n",
        "    awal = batas-6.3\n",
        "    tengah = batas+2.3\n",
        "    print(batas)\n",
        "    print(awal)\n",
        "    print(tengah)\n",
        "    hasil=0\n",
        "    if x <= awal:\n",
        "        hasil=miu_fungsi_segitiga(x_array, amd_1, x)\n",
        "        label_hasil = label_1\n",
        "    elif awal <= x <= tengah: \n",
        "        hasil=miu_fungsi_segitiga(x_array, amd_2, x)\n",
        "        label_hasil = label_2\n",
        "    else:\n",
        "        hasil=miu_fungsi_segitiga(x_array, amd_3, x)\n",
        "        label_hasil = label_3\n",
        "    return hasil, label_hasil"
      ]
    },
    {
      "cell_type": "code",
      "execution_count": null,
      "metadata": {
        "id": "Cu8QI7_p84wl"
      },
      "outputs": [],
      "source": [
        "#miu x3 (Direct Bilirubin)\n",
        "def fuzzyfikasi3(x_array, amd_1, amd_2, amd_3, x, label_1, label_2, label_3):\n",
        "    batas = ((max(x_array)+min(x_array))/6)\n",
        "    awal = batas-3\n",
        "    tengah = batas+0.9\n",
        "    print(batas)\n",
        "    print(awal)\n",
        "    print(tengah)\n",
        "    hasil=0\n",
        "    if x <= awal:\n",
        "        hasil=miu_fungsi_segitiga(x_array, amd_1, x)\n",
        "        label_hasil = label_1\n",
        "    elif awal <= x <= tengah: \n",
        "        hasil=miu_fungsi_segitiga(x_array, amd_2, x)\n",
        "        label_hasil = label_2\n",
        "    else:\n",
        "        hasil=miu_fungsi_segitiga(x_array, amd_3, x)\n",
        "        label_hasil = label_3\n",
        "    return hasil, label_hasil"
      ]
    },
    {
      "cell_type": "code",
      "execution_count": null,
      "metadata": {
        "id": "hbPbQpKk56r6"
      },
      "outputs": [],
      "source": [
        "#miu x4 (Albumin dan Globulin Ratio)\n",
        "def fuzzyfikasi4(x_array, amd_1, amd_2, amd_3, x, label_1, label_2, label_3):\n",
        "    batas = (max(x_array)+min(x_array))\n",
        "    awal = batas-1.6\n",
        "    tengah = batas+1\n",
        "    print(batas)\n",
        "    print(awal)\n",
        "    print(tengah)\n",
        "    hasil=0\n",
        "    if x <= awal:\n",
        "        hasil=miu_fungsi_segitiga(x_array, amd_1, x)\n",
        "        label_hasil = label_1\n",
        "    elif awal <= x <= tengah: \n",
        "        hasil=miu_fungsi_segitiga(x_array, amd_2, x)\n",
        "        label_hasil = label_2\n",
        "    else:\n",
        "        hasil=miu_fungsi_segitiga(x_array, amd_3, x)\n",
        "        label_hasil = label_3\n",
        "    return hasil, label_hasil"
      ]
    },
    {
      "cell_type": "code",
      "execution_count": null,
      "metadata": {
        "id": "prJvxGMCzOW3"
      },
      "outputs": [],
      "source": [
        "#miu y\n",
        "def fuzzyfikasi5(x_array, amd_1, amd_2, x, label_1, label_2):\n",
        "    batas = (max(x_array)+min(x_array))\n",
        "    awal = batas-2\n",
        "    print(batas)\n",
        "    print(awal)\n",
        "    hasil1=0\n",
        "    if x < awal:\n",
        "        hasil1=miu_fungsi_segitiga(x_array, amd_1, x)\n",
        "        label_hasil1 = label_1\n",
        "    else:\n",
        "        hasil1=miu_fungsi_segitiga(x_array, amd_2, x)\n",
        "        label_hasil1 = label_2\n",
        "    return hasil1, label_hasil1"
      ]
    },
    {
      "cell_type": "code",
      "execution_count": null,
      "metadata": {
        "id": "MRwM7NAp-6zL"
      },
      "outputs": [],
      "source": [
        "#miu x1\n",
        "x_Age= np.arange(10, 91, 0.1) # Semesta Pembicaraan\n",
        "amb_muda = [10, 22, 35]\n",
        "amb_paruhbaya = [35, 45, 55]\n",
        "amb_tua = [55, 73, 91]\n",
        "\n",
        "fuzzifikasi_Age=[]\n",
        "miu_Age=[]\n",
        "for i in df.Age:\n",
        "    hasil=fuzzyfikasi(x_Age, amb_muda, amb_paruhbaya, amb_tua, i, \"Muda\", \"Paruh baya\", \"Tua\")\n",
        "    fuzz = hasil[1]\n",
        "    m = hasil[0]\n",
        "    fuzzifikasi_Age.append(fuzz)\n",
        "    miu_Age.append(m)\n",
        "    \n",
        "len(fuzzifikasi_Age)"
      ]
    },
    {
      "cell_type": "code",
      "execution_count": null,
      "metadata": {
        "id": "g36Cs36f-6zN"
      },
      "outputs": [],
      "source": [
        "#miu x2\n",
        "x_TP = np.arange(2, 9.6, 0.1) # Semesta Pembicaraan\n",
        "amb_rendah  = [2.6, 4.3, 6]\n",
        "amb_normal  = [6, 7.2, 8.3]\n",
        "amb_tinggi = [8.3, 9, 9.6]\n",
        "\n",
        "fuzzifikasi_TP=[]\n",
        "miu_TP=[]\n",
        "for i in df.TP:\n",
        "    hasil=fuzzyfikasi2(x_TP, amb_rendah, amb_normal, amb_tinggi, i, \"Rendah\", \"Normal\", \"Tinggi\")\n",
        "    fuzz = hasil[1]\n",
        "    m = hasil[0]\n",
        "    fuzzifikasi_TP.append(fuzz)\n",
        "    miu_TP.append(m)\n",
        "\n",
        "len(fuzzifikasi_TP)"
      ]
    },
    {
      "cell_type": "code",
      "execution_count": null,
      "metadata": {
        "id": "YHbGJReZVVeK"
      },
      "outputs": [],
      "source": [
        "#miu x3\n",
        "x_DB = np.arange(0, 19.8, 0.1) # Semesta Pembicaraan\n",
        "amb_menurun = [0, 0.2, 0.3]\n",
        "amb_normal = [0.3, 0.8, 1.2]\n",
        "amb_meningkat = [1.2, 10.5, 19.8]\n",
        "\n",
        "fuzzifikasi_DB=[]\n",
        "miu_DB=[]\n",
        "for i in df.DB:\n",
        "    hasil=fuzzyfikasi3(x_DB, amb_menurun, amb_normal, amb_meningkat, i, \"Menurun\", \"Normal\", \"Meningkat\")\n",
        "    fuzz = hasil[1]\n",
        "    m = hasil[0]\n",
        "    fuzzifikasi_DB.append(fuzz)\n",
        "    miu_DB.append(m)\n",
        "len(fuzzifikasi_DB)"
      ]
    },
    {
      "cell_type": "code",
      "execution_count": null,
      "metadata": {
        "id": "ErzTaow29CVI"
      },
      "outputs": [],
      "source": [
        "#miu x4\n",
        "x_AGR = np.arange(0, 3, 0.1) # Semesta Pembicaraan\n",
        "amb_rendah  = [0.3, 0.9, 1.5]\n",
        "amb_normal = [1.5, 2, 2.5]\n",
        "amb_tinggi = [2.5, 2.7, 3]\n",
        "\n",
        "fuzzifikasi_AGR=[]\n",
        "miu_AGR=[]\n",
        "for i in df.AGR:\n",
        "    hasil=fuzzyfikasi4(x_AGR, amb_rendah, amb_normal, amb_tinggi, i, \"Rendah\", \"Normal\", \"Tinggi\")\n",
        "    fuzz = hasil[1]\n",
        "    m = hasil[0]\n",
        "    fuzzifikasi_AGR.append(fuzz)\n",
        "    miu_AGR.append(m)\n",
        "len(fuzzifikasi_AGR)"
      ]
    },
    {
      "cell_type": "code",
      "execution_count": null,
      "metadata": {
        "id": "R3ULfGAGzfnE"
      },
      "outputs": [],
      "source": [
        "#Miu y\n",
        "x_Liver_Disease= np.arange(1, 2, 0.1) # Semesta Pembicaraan\n",
        "amb_liver  = [2, 1, 1]\n",
        "amb_nonliver = [2, 2, 1]\n",
        "\n",
        "fuzzifikasi_Liver_Disease=[]\n",
        "miu_Liver_Disease=[]\n",
        "for i in df.Liver_Disease:\n",
        "    hasil=fuzzyfikasi5(x_Liver_Disease, amb_liver, amb_nonliver, i, \"Liver\", \"Nonliver\")\n",
        "    fuzz = hasil[1]\n",
        "    m = hasil[0]\n",
        "    fuzzifikasi_Liver_Disease.append(fuzz)\n",
        "    miu_Liver_Disease.append(m)\n",
        "len(fuzzifikasi_Liver_Disease)"
      ]
    },
    {
      "cell_type": "code",
      "execution_count": null,
      "metadata": {
        "id": "7rrhL4pE-6zO"
      },
      "outputs": [],
      "source": [
        "df_fuzz = pd.DataFrame({\"Age\":df.Age,\n",
        "                        \"TP\":df.TP,\n",
        "                        \"DB\":df.DB,\n",
        "                        \"AGR\":df.AGR,\n",
        "                        \"Liver_Disease\":df.Liver_Disease,\n",
        "                        \"Age_fuzz\": fuzzifikasi_Age,\n",
        "                        \"TP_fuzz\": fuzzifikasi_TP,\n",
        "                        \"DB_fuzz\": fuzzifikasi_DB,\n",
        "                        \"AGR_fuzz\": fuzzifikasi_AGR,\n",
        "                        \"Liver_Disease_fuzz\":fuzzifikasi_Liver_Disease,\n",
        "                        \"miu_Age\":miu_Age,\n",
        "                        \"miu_TP\":miu_TP,\n",
        "                        \"miu_DB\":miu_DB,\n",
        "                        \"miu_AGR\":miu_AGR,\n",
        "                        \"miu_Liver_Disease\": miu_Liver_Disease})\n",
        "df_fuzz"
      ]
    },
    {
      "cell_type": "markdown",
      "metadata": {
        "id": "FudTDKgx-6zP"
      },
      "source": [
        "# Rule Generation"
      ]
    },
    {
      "cell_type": "code",
      "execution_count": null,
      "metadata": {
        "id": "7Gu90fkX-6zQ"
      },
      "outputs": [],
      "source": [
        "df_fuzz['Rule'] = \" Jika X1 \" + df_fuzz['Age_fuzz'] + \" dan X2 \" + df_fuzz['TP_fuzz'] + \" dan X3 \" + df_fuzz['DB_fuzz'] +\" dan X4 \" + df_fuzz['AGR_fuzz'] + \" maka Y \" + df_fuzz['Liver_Disease_fuzz']\n",
        "df_fuzz"
      ]
    },
    {
      "cell_type": "code",
      "execution_count": null,
      "metadata": {
        "id": "6j5_hG9-XKpP"
      },
      "outputs": [],
      "source": [
        "df_fuzz.to_excel('hasilRuleMBGD.xlsx') "
      ]
    },
    {
      "cell_type": "code",
      "execution_count": null,
      "metadata": {
        "id": "Be7yy_5x-6zR"
      },
      "outputs": [],
      "source": [
        "df_fuzz['Rule'].value_counts()"
      ]
    },
    {
      "cell_type": "markdown",
      "metadata": {
        "id": "ZfRPpS5F-6zS"
      },
      "source": [
        "# TSK Prediction"
      ]
    },
    {
      "cell_type": "code",
      "execution_count": null,
      "metadata": {
        "id": "JgVuFuvo-6zS"
      },
      "outputs": [],
      "source": [
        "import pandas as pd  \n",
        "import numpy as np  \n",
        "import matplotlib.pyplot as plt  \n",
        "from sklearn.linear_model import LinearRegression\n",
        "from sklearn.metrics import mean_squared_error\n",
        "%matplotlib inline\n",
        "\n",
        "import warnings\n",
        "warnings.filterwarnings('ignore')"
      ]
    },
    {
      "cell_type": "markdown",
      "metadata": {
        "id": "LDh8RIFWC0-6"
      },
      "source": [
        "##Rule 1"
      ]
    },
    {
      "cell_type": "code",
      "execution_count": null,
      "metadata": {
        "id": "epMFw-4nQGga"
      },
      "outputs": [],
      "source": [
        "rule_1 = df_fuzz[df_fuzz['Rule']==\" Jika X1 Paruh baya dan X2 Normal dan X3 Normal dan X4 Rendah maka Y Nonliver\"]\n",
        "index=rule_1.index\n",
        "data_rule_1=df_fuzz.iloc[index,:5]\n",
        "X1=np.array(data_rule_1.iloc[::,:-1])\n",
        "#Y=np.array(data_rule_1.iloc[::,:1])\n",
        "Y1=np.array(data_rule_1.iloc[:,2])\n",
        "data_rule_1.head()"
      ]
    },
    {
      "cell_type": "code",
      "execution_count": null,
      "metadata": {
        "id": "qfDpkOpmCK21"
      },
      "outputs": [],
      "source": [
        "data_rule_1.to_csv('hasilrule1.csv') "
      ]
    },
    {
      "cell_type": "markdown",
      "metadata": {
        "id": "QM6QfvljWSt1"
      },
      "source": [
        "###Mini Batch Gradient Descent"
      ]
    },
    {
      "cell_type": "code",
      "execution_count": null,
      "metadata": {
        "id": "TsZjpCMjWN0Q"
      },
      "outputs": [],
      "source": [
        "import numpy as np\n",
        "import pandas as pd\n",
        "import matplotlib.pyplot as plt\n",
        "from sklearn.model_selection import train_test_split \n",
        "%matplotlib inline"
      ]
    },
    {
      "cell_type": "code",
      "execution_count": null,
      "metadata": {
        "id": "halQ6QbaPFl5"
      },
      "outputs": [],
      "source": [
        "df_rule1=pd.read_csv('hasilrule1.csv',sep=',')\n",
        "df_rule1"
      ]
    },
    {
      "cell_type": "code",
      "execution_count": null,
      "metadata": {
        "id": "S9HXaKZWS3ob"
      },
      "outputs": [],
      "source": [
        "df_rule1=df_rule1.drop(columns=['Unnamed: 0'])      #diilangin kolom\n",
        "df_rule1"
      ]
    },
    {
      "cell_type": "code",
      "execution_count": null,
      "metadata": {
        "id": "djAeAstDbG6T"
      },
      "outputs": [],
      "source": [
        "from sklearn import preprocessing\n",
        "sx1 = preprocessing.MinMaxScaler()\n",
        "sy1 = preprocessing.MinMaxScaler()\n",
        "\n",
        "scaled_X1 = sx1.fit_transform(data_rule_1.drop('Liver_Disease',axis='columns'))\n",
        "scaled_y1 = sy1.fit_transform(data_rule_1['Liver_Disease'].values.reshape(rule_1.shape[0],1))\n",
        "\n",
        "scaled_X1"
      ]
    },
    {
      "cell_type": "code",
      "execution_count": null,
      "metadata": {
        "id": "SzbHe8eST-2o"
      },
      "outputs": [],
      "source": [
        "scaled_y1_reshape=scaled_y1.reshape(scaled_y1.shape[0],)\n",
        "scaled_y1_reshape"
      ]
    },
    {
      "cell_type": "code",
      "execution_count": null,
      "metadata": {
        "id": "RBEalU9UWymr"
      },
      "outputs": [],
      "source": [
        "def mini_batch_gradient_descent_rule1(X1, y1, iterasi, batch_size = 3, learning_rate = 0.0001):\n",
        "\n",
        "    jumlah_variabel_rule1 = X1.shape[1]                   # array numpy dengan 1 baris dan sejumlah kolom variabel\n",
        "                                                   # Contoh: X_array([[1,2], [3,4], [5,5], [6,6], [7,2], [8,1]])\n",
        "    \n",
        "    bpoly_rule1 = np.ones(shape=(jumlah_variabel_rule1))       # b1, b2, ... b(jumlah variabel)\n",
        "    b0_rule1 = 0                                         # b0 atau bias\n",
        "    n = X1.shape[0]                                 # jumlah baris data X\n",
        "    \n",
        "    if batch_size > n: \n",
        "        batch_size = n                             # Jika batch size > n maka akan menjadi bacth gradient descent biasa\n",
        "        \n",
        "    cost_rule1_list = []                                 # list untuk menampung nilai cost setiap iterasi\n",
        "    iterasi_rule1_list = []                              # list untuk menampung nilai n iterasi(1, 2, 3, ..., n)\n",
        "    b_rule1_list=[]                                      # list untuk menampung nilai parameter regresi b0, b1, .. b(jumlah_variabel) \n",
        "                                                   # setiap iterasi\n",
        "    \n",
        "    jumlah_batch_rule1 = int(n/batch_size)\n",
        "    \n",
        "    # Program akan berjalan hingga sejumlah iterasi=n dicapai\n",
        "    for i in range(iterasi):  \n",
        "        \n",
        "        random_indices = np.random.RandomState(seed=42).permutation(n)      # Memilih indeks data random untuk update parameter\n",
        "        X1_smntr = X1[random_indices]\n",
        "        y1_smntr = y1[random_indices]\n",
        "        \n",
        "        for j in range(0, n, batch_size):\n",
        "            Xj_rule1 = X1_smntr[j:j+batch_size]\n",
        "            yj_rule1 = y1_smntr[j:j+batch_size]\n",
        "            \n",
        "            y1_pred = np.dot(bpoly_rule1, Xj_rule1.T) + b0_rule1           # Menghitung y_pred pada setiap iterasi\n",
        "        \n",
        "            bpoly_rule1_grad = -(2/len(Xj_rule1))*(Xj_rule1.T.dot(yj_rule1-y1_pred))   # Menghitung perubahan/gradien bpoly setiap iterasi\n",
        "            b0_rule1_grad = -(2/len(Xj_rule1))*np.sum(yj_rule1-y1_pred)          # Menghitung perubahan/gradien b0 setiap iterasi\n",
        "            bpoly_rule1 = bpoly_rule1 - learning_rate * bpoly_rule1_grad        # Memperbaharui bpoly(bobot) setiap iterasi\n",
        "            b0_rule1 = b0_rule1 - learning_rate * b0_rule1_grad                 # Memperbaharui bpoly(bobot) setiap iterasi\n",
        "        \n",
        "            # Menyimpan parameter b dalam list tunggal\n",
        "            bp=[]\n",
        "            for jv_rule1 in range(jumlah_variabel_rule1):\n",
        "                bp_rule1=bpoly_rule1[jv_rule1]\n",
        "                bp.append(bp_rule1)\n",
        "            b_rule1=[b0_rule1]+bp\n",
        "        \n",
        "            cost_rule1 = np.mean(np.square(yj_rule1-y1_pred))       # MSE (Mean Squared Error)\n",
        "        \n",
        "        if i%100==0: # Hanya mengambil hasil pada iterasi kelipatan 10\n",
        "            cost_rule1_list.append(cost_rule1)                     # Menyimpan nilai cost setiap iterasi\n",
        "            iterasi_rule1_list.append(i)                     # Menyimpan nilai iterasi setiap iterasi\n",
        "            b_rule1_list.append(b_rule1)                           # Menyimpan nilai parameter b setiap iterasi\n",
        "        \n",
        "    return bpoly_rule1, b0_rule1, cost_rule1, b_rule1_list, cost_rule1_list, iterasi_rule1_list  # Output"
      ]
    },
    {
      "cell_type": "code",
      "execution_count": null,
      "metadata": {
        "id": "nmhAri2Fcfan"
      },
      "outputs": [],
      "source": [
        "import time\n",
        "mulai_rule1 = time.time()\n",
        "mb_bpoly_rule1, mb_b0_rule1, mb_cost_rule1, mb_b_rule1_list, mb_cost_rule1_list, mb_iterasi_rule1_list=mini_batch_gradient_descent_rule1 (scaled_X1, \n",
        "                                                                                                                                        scaled_y1_reshape,\n",
        "                                                                                                                                        iterasi=10000, \n",
        "                                                                                                                                        batch_size = 5, \n",
        "                                                                                                                                        learning_rate = 0.0001)\n",
        "selesai_rule1 = time.time()\n",
        "waktu_komputasi_rule1 = (selesai_rule1 - mulai_rule1)\n",
        "print(\"Waktu Komputasi Rule 1: \",waktu_komputasi_rule1)"
      ]
    },
    {
      "cell_type": "code",
      "execution_count": null,
      "metadata": {
        "id": "CtOyIsW_ciky"
      },
      "outputs": [],
      "source": [
        "plt.xlabel(\"Iterasi Rule 1\")\n",
        "plt.ylabel(\"cost Rule 1\")\n",
        "plt.title(\"Mini Batch Gradient Descent Rule 1\")\n",
        "plt.plot(mb_iterasi_rule1_list,mb_cost_rule1_list, color='red', label='Eror')\n",
        "plt.show()"
      ]
    },
    {
      "cell_type": "code",
      "execution_count": null,
      "metadata": {
        "id": "chl03hDXcwHo"
      },
      "outputs": [],
      "source": [
        "mb_cost_rule1"
      ]
    },
    {
      "cell_type": "code",
      "execution_count": null,
      "metadata": {
        "id": "jdi7-WB0ev01"
      },
      "outputs": [],
      "source": [
        "mb_b0_rule1"
      ]
    },
    {
      "cell_type": "code",
      "execution_count": null,
      "metadata": {
        "id": "TKhWOgQNVN4w"
      },
      "outputs": [],
      "source": [
        "mb_bpoly_rule1 #hasil untuk x1 dan x2"
      ]
    },
    {
      "cell_type": "code",
      "execution_count": null,
      "metadata": {
        "id": "XHytsqFd8BSF"
      },
      "outputs": [],
      "source": [
        "data_rule_1"
      ]
    },
    {
      "cell_type": "code",
      "execution_count": null,
      "metadata": {
        "id": "6jlgxO0T8Iw8"
      },
      "outputs": [],
      "source": [
        "X1=np.array(data_rule_1.iloc[::,:-1])\n",
        "X1"
      ]
    },
    {
      "cell_type": "code",
      "execution_count": null,
      "metadata": {
        "id": "dUF3ApxA8OSt"
      },
      "outputs": [],
      "source": [
        "Y1=np.array(data_rule_1.iloc[:,3])  #mengambil angka dari kolom\n",
        "Y1"
      ]
    },
    {
      "cell_type": "code",
      "execution_count": null,
      "metadata": {
        "id": "dK0OZs498f1p"
      },
      "outputs": [],
      "source": [
        "# Membuat model regressi dengan library Scikit Learn\n",
        "from sklearn.preprocessing import PolynomialFeatures\n",
        "poly_reg = PolynomialFeatures(degree = 2)  ## nantinya degree diganti menjadi 4\n",
        "X1_poly = poly_reg.fit_transform(X1)\n",
        "lin_reg_2 = LinearRegression()\n",
        "lin_reg_2.fit(X1_poly, Y1) \n",
        "# Proses Training Model\n",
        "poly_reg.fit(X1, Y1) \n",
        "\n",
        "# Memprediksi hasil dengan regresi polynomial\n",
        "# Memprediksi hasil dengan regresi polynomial\n",
        "y1_pred=lin_reg_2.predict(poly_reg.fit_transform(X1))\n",
        "y1_pred\n",
        "\n",
        "data_rule_1['pred'] = y1_pred\n",
        "data_rule_1"
      ]
    },
    {
      "cell_type": "markdown",
      "metadata": {
        "id": "3U5DhopGC8RY"
      },
      "source": [
        "##Rule 2\n"
      ]
    },
    {
      "cell_type": "code",
      "execution_count": null,
      "metadata": {
        "id": "D4whyQi5OtBl"
      },
      "outputs": [],
      "source": [
        "rule_2 = df_fuzz[df_fuzz['Rule']==\" Jika X1 Tua dan X2 Normal dan X3 Normal dan X4 Rendah maka Y Nonliver\"]\n",
        "index=rule_2.index\n",
        "data_rule_2=df_fuzz.iloc[index,:5]\n",
        "data_rule_2"
      ]
    },
    {
      "cell_type": "code",
      "execution_count": null,
      "metadata": {
        "id": "rGh1XG0xDowE"
      },
      "outputs": [],
      "source": [
        "data_rule_2.to_csv('hasilrule2.csv') "
      ]
    },
    {
      "cell_type": "markdown",
      "metadata": {
        "id": "qm6NjtDXlFav"
      },
      "source": [
        "###Mini Batch Gradient Descent"
      ]
    },
    {
      "cell_type": "code",
      "execution_count": null,
      "metadata": {
        "id": "pa50iFSFlJ8D"
      },
      "outputs": [],
      "source": [
        "import numpy as np\n",
        "import pandas as pd\n",
        "import matplotlib.pyplot as plt\n",
        "from sklearn.model_selection import train_test_split \n",
        "%matplotlib inline"
      ]
    },
    {
      "cell_type": "code",
      "execution_count": null,
      "metadata": {
        "id": "4oqUeX5SlQl_"
      },
      "outputs": [],
      "source": [
        "df_rule2=pd.read_csv('hasilrule2.csv',sep=',')\n",
        "df_rule2"
      ]
    },
    {
      "cell_type": "code",
      "execution_count": null,
      "metadata": {
        "id": "uOTh8xVXlVLV"
      },
      "outputs": [],
      "source": [
        "df_rule2=df_rule2.drop(columns=['Unnamed: 0'])\n",
        "df_rule2"
      ]
    },
    {
      "cell_type": "code",
      "execution_count": null,
      "metadata": {
        "id": "vPIjZZzJlrpw"
      },
      "outputs": [],
      "source": [
        "from sklearn import preprocessing\n",
        "sx2 = preprocessing.MinMaxScaler()\n",
        "sy2 = preprocessing.MinMaxScaler()\n",
        "\n",
        "scaled_X2 = sx2.fit_transform(data_rule_2.drop('Liver_Disease',axis='columns'))\n",
        "scaled_y2 = sy2.fit_transform(data_rule_2['Liver_Disease'].values.reshape(rule_2.shape[0],1))\n",
        "\n",
        "scaled_X2"
      ]
    },
    {
      "cell_type": "code",
      "execution_count": null,
      "metadata": {
        "id": "i5iVfjFCl6_F"
      },
      "outputs": [],
      "source": [
        "scaled_y2_reshape=scaled_y2.reshape(scaled_y2.shape[0],)\n",
        "scaled_y2_reshape"
      ]
    },
    {
      "cell_type": "code",
      "execution_count": null,
      "metadata": {
        "id": "hyjbDcrpmIN9"
      },
      "outputs": [],
      "source": [
        "def mini_batch_gradient_descent_rule2(X2, y2, iterasi, batch_size = 5, learning_rate = 0.0001):\n",
        "\n",
        "    jumlah_variabel_rule2 = X2.shape[1]                   # array numpy dengan 1 baris dan sejumlah kolom variabel\n",
        "                                                   # Contoh: X_array([[1,2], [3,4], [5,5], [6,6], [7,2], [8,1]])\n",
        "    \n",
        "    bpoly_rule2 = np.ones(shape=(jumlah_variabel_rule2))       # b1, b2, ... b(jumlah variabel)\n",
        "    b0_rule2 = 0                                         # b0 atau bias\n",
        "    n = X2.shape[0]                                 # jumlah baris data X\n",
        "    \n",
        "    if batch_size > n: \n",
        "        batch_size = n                             # Jika batch size > n maka akan menjadi bacth gradient descent biasa\n",
        "        \n",
        "    cost_rule2_list = []                                 # list untuk menampung nilai cost setiap iterasi\n",
        "    iterasi_rule2_list = []                              # list untuk menampung nilai n iterasi(1, 2, 3, ..., n)\n",
        "    b_rule2_list=[]                                      # list untuk menampung nilai parameter regresi b0, b1, .. b(jumlah_variabel) \n",
        "                                                   # setiap iterasi\n",
        "    \n",
        "    jumlah_batch_rule2 = int(n/batch_size)\n",
        "    \n",
        "    # Program akan berjalan hingga sejumlah iterasi=n dicapai\n",
        "    for i in range(iterasi):  \n",
        "        \n",
        "        random_indices = np.random.RandomState(seed=42).permutation(n)      # Memilih indeks data random untuk update parameter\n",
        "        X2_smntr = X2[random_indices]\n",
        "        y2_smntr = y2[random_indices]\n",
        "        \n",
        "        for j in range(0, n, batch_size):\n",
        "            Xj_rule2 = X2_smntr[j:j+batch_size]\n",
        "            yj_rule2 = y2_smntr[j:j+batch_size]\n",
        "            \n",
        "            y2_pred = np.dot(bpoly_rule2, Xj_rule2.T) + b0_rule2           # Menghitung y_pred pada setiap iterasi\n",
        "        \n",
        "            bpoly_rule2_grad = -(2/len(Xj_rule2))*(Xj_rule2.T.dot(yj_rule2-y2_pred))   # Menghitung perubahan/gradien bpoly setiap iterasi\n",
        "            b0_rule2_grad = -(2/len(Xj_rule2))*np.sum(yj_rule2-y2_pred)          # Menghitung perubahan/gradien b0 setiap iterasi\n",
        "            bpoly_rule2 = bpoly_rule2 - learning_rate * bpoly_rule2_grad        # Memperbaharui bpoly setiap iterasi\n",
        "            b0_rule2 = b0_rule2 - learning_rate * b0_rule2_grad                 # Memperbaharui bpoly setiap iterasi\n",
        "        \n",
        "            # Menyimpan parameter b dalam list tunggal\n",
        "            bp=[]\n",
        "            for jv_rule2 in range(jumlah_variabel_rule2):\n",
        "                bp_rule2=bpoly_rule2[jv_rule2]\n",
        "                bp.append(bp_rule2)\n",
        "            b_rule2=[b0_rule2]+bp\n",
        "        \n",
        "            cost_rule2 = np.mean(np.square(yj_rule2-y2_pred))       # MSE (Mean Squared Error)\n",
        "        \n",
        "        if i%100==0: # Hanya mengambil hasil pada iterasi kelipatan 10\n",
        "            cost_rule2_list.append(cost_rule2)                     # Menyimpan nilai cost setiap iterasi\n",
        "            iterasi_rule2_list.append(i)                     # Menyimpan nilai iterasi setiap iterasi\n",
        "            b_rule2_list.append(b_rule2)                           # Menyimpan nilai parameter b setiap iterasi\n",
        "        \n",
        "    return bpoly_rule2, b0_rule2, cost_rule2, b_rule2_list, cost_rule2_list, iterasi_rule2_list  # Output"
      ]
    },
    {
      "cell_type": "code",
      "execution_count": null,
      "metadata": {
        "id": "Wx29msQcxNRz"
      },
      "outputs": [],
      "source": [
        "import time\n",
        "mulai_rule2 = time.time()\n",
        "mb_bpoly_rule2, mb_b0_rule2, mb_cost_rule2, mb_b_rule2_list, mb_cost_rule2_list, mb_iterasi_rule2_list=mini_batch_gradient_descent_rule2 (scaled_X2, \n",
        "                                                                                                                                        scaled_y2_reshape,\n",
        "                                                                                                                                        iterasi=10000, \n",
        "                                                                                                                                        batch_size = 5, \n",
        "                                                                                                                                        learning_rate = 0.0001)\n",
        "selesai_rule2 = time.time()\n",
        "waktu_komputasi_rule2 = (selesai_rule2 - mulai_rule2)\n",
        "print(\"Waktu Komputasi Rule 2: \",waktu_komputasi_rule2)"
      ]
    },
    {
      "cell_type": "code",
      "execution_count": null,
      "metadata": {
        "id": "zrfwdnxVxRHD"
      },
      "outputs": [],
      "source": [
        "plt.xlabel(\"Iterasi Rule 2\")\n",
        "plt.ylabel(\"cost Rule 2\")\n",
        "plt.title(\"Mini Batch Gradient Descent Rule 2\")\n",
        "plt.plot(mb_iterasi_rule2_list,mb_cost_rule2_list, color='red', label='Eror')\n",
        "plt.show()"
      ]
    },
    {
      "cell_type": "code",
      "execution_count": null,
      "metadata": {
        "id": "nKWgY_OSypj5"
      },
      "outputs": [],
      "source": [
        "mb_cost_rule2"
      ]
    },
    {
      "cell_type": "code",
      "execution_count": null,
      "metadata": {
        "id": "XtU08e_tyqdT"
      },
      "outputs": [],
      "source": [
        "mb_b0_rule2"
      ]
    },
    {
      "cell_type": "code",
      "execution_count": null,
      "metadata": {
        "id": "bomqBgXJy-Ju"
      },
      "outputs": [],
      "source": [
        "mb_bpoly_rule2 #hasil untuk x1 dan x2"
      ]
    },
    {
      "cell_type": "code",
      "execution_count": null,
      "metadata": {
        "id": "xxEFx-1VzEaz"
      },
      "outputs": [],
      "source": [
        "data_rule_2"
      ]
    },
    {
      "cell_type": "code",
      "execution_count": null,
      "metadata": {
        "id": "ZF0GhpjCQ0ob"
      },
      "outputs": [],
      "source": [
        "X2=np.array(data_rule_2.iloc[::,:-1])\n",
        "X2"
      ]
    },
    {
      "cell_type": "code",
      "execution_count": null,
      "metadata": {
        "id": "ZbmsdXcN-Rzi"
      },
      "outputs": [],
      "source": [
        "Y2=np.array(data_rule_2.iloc[:,3])\n",
        "Y2"
      ]
    },
    {
      "cell_type": "code",
      "execution_count": null,
      "metadata": {
        "id": "4PJGqiSOP0j9"
      },
      "outputs": [],
      "source": [
        "# Membuat model regressi dengan library Scikit Learn\n",
        "from sklearn.preprocessing import PolynomialFeatures\n",
        "poly_reg = PolynomialFeatures(degree = 2)  ## nantinya degree diganti menjadi 4\n",
        "X2_poly = poly_reg.fit_transform(X2)\n",
        "lin_reg_2 = LinearRegression()\n",
        "lin_reg_2.fit(X2_poly, Y2) \n",
        "# Proses Training Model\n",
        "poly_reg.fit(X2, Y2) \n",
        "\n",
        "# Memprediksi hasil dengan regresi polynomial\n",
        "# Memprediksi hasil dengan regresi polynomial\n",
        "y2_pred=lin_reg_2.predict(poly_reg.fit_transform(X2))\n",
        "y2_pred\n",
        "\n",
        "data_rule_2['pred'] = y2_pred\n",
        "data_rule_2"
      ]
    },
    {
      "cell_type": "markdown",
      "metadata": {
        "id": "tkeVIk_HD6AC"
      },
      "source": [
        "##Rule 3"
      ]
    },
    {
      "cell_type": "code",
      "execution_count": null,
      "metadata": {
        "id": "N7Z_8XTZO2_m"
      },
      "outputs": [],
      "source": [
        "rule_3 = df_fuzz[df_fuzz['Rule']==\" Jika X1 Paruh baya dan X2 Normal dan X3 Menurun dan X4 Rendah maka Y Nonliver\"]\n",
        "index=rule_3.index\n",
        "data_rule_3=df_fuzz.iloc[index,:5]\n",
        "data_rule_3"
      ]
    },
    {
      "cell_type": "code",
      "execution_count": null,
      "metadata": {
        "id": "62iwrAEEEF1V"
      },
      "outputs": [],
      "source": [
        "data_rule_3.to_csv('hasilrule3.csv') "
      ]
    },
    {
      "cell_type": "markdown",
      "metadata": {
        "id": "jfZE_Cxy0mp7"
      },
      "source": [
        "###Mini Batch Gradient Descent"
      ]
    },
    {
      "cell_type": "code",
      "execution_count": null,
      "metadata": {
        "id": "vh0iBv5C0r4N"
      },
      "outputs": [],
      "source": [
        "import numpy as np\n",
        "import pandas as pd\n",
        "import matplotlib.pyplot as plt\n",
        "from sklearn.model_selection import train_test_split \n",
        "%matplotlib inline"
      ]
    },
    {
      "cell_type": "code",
      "execution_count": null,
      "metadata": {
        "id": "qK9hJwNn0u48"
      },
      "outputs": [],
      "source": [
        "df_rule3=pd.read_csv('hasilrule3.csv',sep=',')\n",
        "df_rule3"
      ]
    },
    {
      "cell_type": "code",
      "execution_count": null,
      "metadata": {
        "id": "Q854cbew00Q1"
      },
      "outputs": [],
      "source": [
        "#df_rule3=df_rule3.drop(columns=['Unnamed: 0'])\n",
        "#df_rule3"
      ]
    },
    {
      "cell_type": "code",
      "execution_count": null,
      "metadata": {
        "id": "WKkeDEkc04G-"
      },
      "outputs": [],
      "source": [
        "from sklearn import preprocessing\n",
        "sx3 = preprocessing.MinMaxScaler()\n",
        "sy3 = preprocessing.MinMaxScaler()\n",
        "\n",
        "scaled_X3 = sx3.fit_transform(data_rule_3.drop('Liver_Disease',axis='columns'))\n",
        "scaled_y3 = sy3.fit_transform(data_rule_3['Liver_Disease'].values.reshape(rule_3.shape[0],1))\n",
        "\n",
        "scaled_X3"
      ]
    },
    {
      "cell_type": "code",
      "execution_count": null,
      "metadata": {
        "id": "A2JZ0ZAE1B9t"
      },
      "outputs": [],
      "source": [
        "scaled_y3_reshape=scaled_y3.reshape(scaled_y3.shape[0],)\n",
        "scaled_y3_reshape"
      ]
    },
    {
      "cell_type": "code",
      "execution_count": null,
      "metadata": {
        "id": "Oyp98DTE1bGT"
      },
      "outputs": [],
      "source": [
        "def mini_batch_gradient_descent_rule3(X3, y3, iterasi, batch_size = 3, learning_rate = 0.0001):\n",
        "\n",
        "    jumlah_variabel_rule3 = X3.shape[1]                   # array numpy dengan 1 baris dan sejumlah kolom variabel\n",
        "                                                   # Contoh: X_array([[1,2], [3,4], [5,5], [6,6], [7,2], [8,1]])\n",
        "    \n",
        "    bpoly_rule3 = np.ones(shape=(jumlah_variabel_rule3))       # b1, b2, ... b(jumlah variabel)\n",
        "    b0_rule3 = 0                                         # b0 atau bias\n",
        "    n = X3.shape[0]                                 # jumlah baris data X\n",
        "    \n",
        "    if batch_size > n: \n",
        "        batch_size = n                             # Jika batch size > n maka akan menjadi bacth gradient descent biasa\n",
        "        \n",
        "    cost_rule3_list = []                                 # list untuk menampung nilai cost setiap iterasi\n",
        "    iterasi_rule3_list = []                              # list untuk menampung nilai n iterasi(1, 2, 3, ..., n)\n",
        "    b_rule3_list=[]                                      # list untuk menampung nilai parameter regresi b0, b1, .. b(jumlah_variabel) \n",
        "                                                   # setiap iterasi\n",
        "    \n",
        "    jumlah_batch_rule3 = int(n/batch_size)\n",
        "    \n",
        "    # Program akan berjalan hingga sejumlah iterasi=n dicapai\n",
        "    for i in range(iterasi):  \n",
        "        \n",
        "        random_indices = np.random.RandomState(seed=42).permutation(n)      # Memilih indeks data random untuk update parameter\n",
        "        X3_smntr = X3[random_indices]\n",
        "        y3_smntr = y3[random_indices]\n",
        "        \n",
        "        for j in range(0, n, batch_size):\n",
        "            Xj_rule3 = X3_smntr[j:j+batch_size]\n",
        "            yj_rule3 = y3_smntr[j:j+batch_size]\n",
        "            \n",
        "            y3_pred = np.dot(bpoly_rule3, Xj_rule3.T) + b0_rule3           # Menghitung y_pred pada setiap iterasi\n",
        "        \n",
        "            bpoly_rule3_grad = -(2/len(Xj_rule3))*(Xj_rule3.T.dot(yj_rule3-y3_pred))   # Menghitung perubahan/gradien bpoly setiap iterasi\n",
        "            b0_rule3_grad = -(2/len(Xj_rule3))*np.sum(yj_rule3-y3_pred)          # Menghitung perubahan/gradien b0 setiap iterasi\n",
        "            bpoly_rule3 = bpoly_rule3 - learning_rate * bpoly_rule3_grad        # Memperbaharui bpoly setiap iterasi\n",
        "            b0_rule3 = b0_rule3 - learning_rate * b0_rule3_grad                 # Memperbaharui bpoly setiap iterasi\n",
        "        \n",
        "            # Menyimpan parameter b dalam list tunggal\n",
        "            bp=[]\n",
        "            for jv_rule3 in range(jumlah_variabel_rule3):\n",
        "                bp_rule3=bpoly_rule3[jv_rule3]\n",
        "                bp.append(bp_rule3)\n",
        "            b_rule3=[b0_rule3]+bp\n",
        "        \n",
        "            cost_rule3 = np.mean(np.square(yj_rule3-y3_pred))       # MSE (Mean Squared Error)\n",
        "        \n",
        "        if i%100==0: # Hanya mengambil hasil pada iterasi kelipatan 10\n",
        "            cost_rule3_list.append(cost_rule3)                     # Menyimpan nilai cost setiap iterasi\n",
        "            iterasi_rule3_list.append(i)                     # Menyimpan nilai iterasi setiap iterasi\n",
        "            b_rule3_list.append(b_rule3)                           # Menyimpan nilai parameter b setiap iterasi\n",
        "        \n",
        "    return bpoly_rule3, b0_rule3, cost_rule3, b_rule3_list, cost_rule3_list, iterasi_rule3_list  # Output"
      ]
    },
    {
      "cell_type": "code",
      "execution_count": null,
      "metadata": {
        "id": "xmXnkx8R3yne"
      },
      "outputs": [],
      "source": [
        "import time\n",
        "mulai_rule3 = time.time()\n",
        "mb_bpoly_rule3, mb_b0_rule3, mb_cost_rule3, mb_b_rule3_list, mb_cost_rule3_list, mb_iterasi_rule3_list=mini_batch_gradient_descent_rule3 (scaled_X3, \n",
        "                                                                                                                                        scaled_y3_reshape,\n",
        "                                                                                                                                        iterasi=10000, \n",
        "                                                                                                                                        batch_size = 3, \n",
        "                                                                                                                                        learning_rate = 0.0001)\n",
        "selesai_rule3 = time.time()\n",
        "waktu_komputasi_rule3 = (selesai_rule3 - mulai_rule3)\n",
        "print(\"Waktu Komputasi Rule 3: \",waktu_komputasi_rule3)"
      ]
    },
    {
      "cell_type": "code",
      "execution_count": null,
      "metadata": {
        "id": "Z0-rm0gq3zRs"
      },
      "outputs": [],
      "source": [
        "plt.xlabel(\"Iterasi Rule 3\")\n",
        "plt.ylabel(\"cost Rule 3\")\n",
        "plt.title(\"Mini Batch Gradient Descent Rule 3\")\n",
        "plt.plot(mb_iterasi_rule3_list,mb_cost_rule3_list, color='red', label='Eror')\n",
        "plt.show()"
      ]
    },
    {
      "cell_type": "code",
      "execution_count": null,
      "metadata": {
        "id": "ZGkInRE74Y0C"
      },
      "outputs": [],
      "source": [
        "mb_cost_rule3"
      ]
    },
    {
      "cell_type": "code",
      "execution_count": null,
      "metadata": {
        "id": "etAaNPsu4ZuZ"
      },
      "outputs": [],
      "source": [
        "mb_b0_rule3"
      ]
    },
    {
      "cell_type": "code",
      "execution_count": null,
      "metadata": {
        "id": "KiAQXTLL4cv3"
      },
      "outputs": [],
      "source": [
        "mb_bpoly_rule3 #hasil untuk x1 dan x2"
      ]
    },
    {
      "cell_type": "code",
      "execution_count": null,
      "metadata": {
        "id": "_BNro_sP4g7a"
      },
      "outputs": [],
      "source": [
        "data_rule_3"
      ]
    },
    {
      "cell_type": "code",
      "execution_count": null,
      "metadata": {
        "id": "W2Eo55vEENbi"
      },
      "outputs": [],
      "source": [
        "X3=np.array(data_rule_3.iloc[::,:-1])\n",
        "X3"
      ]
    },
    {
      "cell_type": "code",
      "execution_count": null,
      "metadata": {
        "id": "34a10c6EEcLh"
      },
      "outputs": [],
      "source": [
        "Y3=np.array(data_rule_3.iloc[:,3])\n",
        "Y3"
      ]
    },
    {
      "cell_type": "code",
      "execution_count": null,
      "metadata": {
        "id": "1ExHOByeEoJp"
      },
      "outputs": [],
      "source": [
        "# Membuat model regressi dengan library Scikit Learn\n",
        "from sklearn.preprocessing import PolynomialFeatures\n",
        "poly_reg = PolynomialFeatures(degree = 2)  ## nantinya degree diganti menjadi 4\n",
        "X3_poly = poly_reg.fit_transform(X3)\n",
        "lin_reg_2 = LinearRegression()\n",
        "lin_reg_2.fit(X3_poly, Y3) \n",
        "# Proses Training Model\n",
        "poly_reg.fit(X3, Y3) \n",
        "\n",
        "# Memprediksi hasil dengan regresi polynomial\n",
        "y3_pred=lin_reg_2.predict(poly_reg.fit_transform(X3))\n",
        "y3_pred\n",
        "\n",
        "data_rule_3['pred'] = y3_pred\n",
        "data_rule_3"
      ]
    },
    {
      "cell_type": "markdown",
      "metadata": {
        "id": "jhi6_l8txR8H"
      },
      "source": [
        "##Rule 4"
      ]
    },
    {
      "cell_type": "code",
      "execution_count": null,
      "metadata": {
        "id": "uM6ZIjvgPEqX"
      },
      "outputs": [],
      "source": [
        "rule_4 = df_fuzz[df_fuzz['Rule']==\" Jika X1 Muda dan X2 Normal dan X3 Normal dan X4 Rendah maka Y Nonliver\"]\n",
        "index=rule_4.index\n",
        "data_rule_4=df_fuzz.iloc[index,:5]\n",
        "data_rule_4"
      ]
    },
    {
      "cell_type": "code",
      "execution_count": null,
      "metadata": {
        "id": "9XVLpv8DHZ10"
      },
      "outputs": [],
      "source": [
        "data_rule_4.to_csv('hasilrule4.csv') "
      ]
    },
    {
      "cell_type": "markdown",
      "metadata": {
        "id": "XUJPEBDhxle_"
      },
      "source": [
        "###Mini Batch Gradient Descent"
      ]
    },
    {
      "cell_type": "code",
      "execution_count": null,
      "metadata": {
        "id": "Mw4iS2QDxok0"
      },
      "outputs": [],
      "source": [
        "import numpy as np\n",
        "import pandas as pd\n",
        "import matplotlib.pyplot as plt\n",
        "from sklearn.model_selection import train_test_split \n",
        "%matplotlib inline"
      ]
    },
    {
      "cell_type": "code",
      "execution_count": null,
      "metadata": {
        "id": "DrXc50YYxkUt"
      },
      "outputs": [],
      "source": [
        "df_rule4=pd.read_csv('hasilrule4.csv',sep=',')\n",
        "df_rule4"
      ]
    },
    {
      "cell_type": "code",
      "execution_count": null,
      "metadata": {
        "id": "fhfurkByxuGA"
      },
      "outputs": [],
      "source": [
        "#df_rule4=df_rule4.drop(columns=['Unnamed: 0'])\n",
        "#df_rule4"
      ]
    },
    {
      "cell_type": "code",
      "execution_count": null,
      "metadata": {
        "id": "5iyS1IChyDnq"
      },
      "outputs": [],
      "source": [
        "from sklearn import preprocessing\n",
        "sx4 = preprocessing.MinMaxScaler()\n",
        "sy4 = preprocessing.MinMaxScaler()\n",
        "\n",
        "scaled_X4 = sx4.fit_transform(data_rule_4.drop('Liver_Disease',axis='columns'))\n",
        "scaled_y4 = sy4.fit_transform(data_rule_4['Liver_Disease'].values.reshape(rule_4.shape[0],1))\n",
        "\n",
        "scaled_X4"
      ]
    },
    {
      "cell_type": "code",
      "execution_count": null,
      "metadata": {
        "id": "QhpqNIJ8NvHh"
      },
      "outputs": [],
      "source": [
        "scaled_y4_reshape=scaled_y4.reshape(scaled_y4.shape[0],)\n",
        "scaled_y4_reshape"
      ]
    },
    {
      "cell_type": "code",
      "execution_count": null,
      "metadata": {
        "id": "0OArvwOdyPbV"
      },
      "outputs": [],
      "source": [
        "def mini_batch_gradient_descent_rule4(X4, y4, iterasi, batch_size = 4, learning_rate = 0.0001):\n",
        "\n",
        "    jumlah_variabel_rule4 = X4.shape[1]                   # array numpy dengan 1 baris dan sejumlah kolom variabel\n",
        "                                                   # Contoh: X_array([[1,2], [3,4], [5,5], [6,6], [7,2], [8,1]])\n",
        "    \n",
        "    bpoly_rule4 = np.ones(shape=(jumlah_variabel_rule4))       # b1, b2, ... b(jumlah variabel)\n",
        "    b0_rule4 = 0                                         # b0 atau bias\n",
        "    n = X4.shape[0]                                 # jumlah baris data X\n",
        "    \n",
        "    if batch_size > n: \n",
        "        batch_size = n                             # Jika batch size > n maka akan menjadi bacth gradient descent biasa\n",
        "        \n",
        "    cost_rule4_list = []                                 # list untuk menampung nilai cost setiap iterasi\n",
        "    iterasi_rule4_list = []                              # list untuk menampung nilai n iterasi(1, 2, 3, ..., n)\n",
        "    b_rule4_list=[]                                      # list untuk menampung nilai parameter regresi b0, b1, .. b(jumlah_variabel) \n",
        "                                                   # setiap iterasi\n",
        "    \n",
        "    jumlah_batch_rule4 = int(n/batch_size)\n",
        "    \n",
        "    # Program akan berjalan hingga sejumlah iterasi=n dicapai\n",
        "    for i in range(iterasi):  \n",
        "        \n",
        "        random_indices = np.random.RandomState(seed=42).permutation(n)      # Memilih indeks data random untuk update parameter\n",
        "        X4_smntr = X4[random_indices]\n",
        "        y4_smntr = y4[random_indices]\n",
        "        \n",
        "        for j in range(0, n, batch_size):\n",
        "            Xj_rule4 = X4_smntr[j:j+batch_size]\n",
        "            yj_rule4 = y4_smntr[j:j+batch_size]\n",
        "            \n",
        "            y4_pred = np.dot(bpoly_rule4, Xj_rule4.T) + b0_rule4           # Menghitung y_pred pada setiap iterasi\n",
        "        \n",
        "            bpoly_rule4_grad = -(2/len(Xj_rule4))*(Xj_rule4.T.dot(yj_rule4-y4_pred))   # Menghitung perubahan/gradien bpoly setiap iterasi\n",
        "            b0_rule4_grad = -(2/len(Xj_rule4))*np.sum(yj_rule4-y4_pred)          # Menghitung perubahan/gradien b0 setiap iterasi\n",
        "            bpoly_rule4 = bpoly_rule4 - learning_rate * bpoly_rule4_grad        # Memperbaharui bpoly setiap iterasi\n",
        "            b0_rule4 = b0_rule4 - learning_rate * b0_rule4_grad                 # Memperbaharui bpoly setiap iterasi\n",
        "        \n",
        "            # Menyimpan parameter b dalam list tunggal\n",
        "            bp=[]\n",
        "            for jv_rule4 in range(jumlah_variabel_rule4):\n",
        "                bp_rule4=bpoly_rule4[jv_rule4]\n",
        "                bp.append(bp_rule4)\n",
        "            b_rule4=[b0_rule4]+bp\n",
        "        \n",
        "            cost_rule4 = np.mean(np.square(yj_rule4-y4_pred))       # MSE (Mean Squared Error)\n",
        "        \n",
        "        if i%100==0: # Hanya mengambil hasil pada iterasi kelipatan 10\n",
        "            cost_rule4_list.append(cost_rule4)                     # Menyimpan nilai cost setiap iterasi\n",
        "            iterasi_rule4_list.append(i)                     # Menyimpan nilai iterasi setiap iterasi\n",
        "            b_rule4_list.append(b_rule4)                           # Menyimpan nilai parameter b setiap iterasi\n",
        "        \n",
        "    return bpoly_rule4, b0_rule4, cost_rule4, b_rule4_list, cost_rule4_list, iterasi_rule4_list  # Output"
      ]
    },
    {
      "cell_type": "code",
      "execution_count": null,
      "metadata": {
        "id": "1jn9XG4SzksU"
      },
      "outputs": [],
      "source": [
        "import time\n",
        "mulai_rule4 = time.time()\n",
        "mb_bpoly_rule4, mb_b0_rule4, mb_cost_rule4, mb_b_rule4_list, mb_cost_rule4_list, mb_iterasi_rule4_list=mini_batch_gradient_descent_rule4 (scaled_X4, \n",
        "                                                                                                                                        scaled_y4_reshape,\n",
        "                                                                                                                                        iterasi=10000, \n",
        "                                                                                                                                        batch_size = 4, \n",
        "                                                                                                                                        learning_rate = 0.0001)\n",
        "selesai_rule4 = time.time()\n",
        "waktu_komputasi_rule4 = (selesai_rule4 - mulai_rule4)\n",
        "print(\"Waktu Komputasi Rule 4: \",waktu_komputasi_rule4)"
      ]
    },
    {
      "cell_type": "code",
      "execution_count": null,
      "metadata": {
        "id": "_MEyw7IB0-FY"
      },
      "outputs": [],
      "source": [
        "plt.xlabel(\"Iterasi Rule 4\")\n",
        "plt.ylabel(\"cost Rule 4\")\n",
        "plt.title(\"Mini Batch Gradient Descent Rule 4\")\n",
        "plt.plot(mb_iterasi_rule4_list,mb_cost_rule4_list, color='red', label='Eror')\n",
        "plt.show()"
      ]
    },
    {
      "cell_type": "code",
      "execution_count": null,
      "metadata": {
        "id": "879SOY3n1Fg9"
      },
      "outputs": [],
      "source": [
        "mb_cost_rule4"
      ]
    },
    {
      "cell_type": "code",
      "execution_count": null,
      "metadata": {
        "id": "JlEPsOov1KD1"
      },
      "outputs": [],
      "source": [
        "mb_b0_rule4"
      ]
    },
    {
      "cell_type": "code",
      "execution_count": null,
      "metadata": {
        "id": "z6KthONO1PC3"
      },
      "outputs": [],
      "source": [
        "mb_bpoly_rule4 #hasil untuk x1 dan x2"
      ]
    },
    {
      "cell_type": "code",
      "execution_count": null,
      "metadata": {
        "id": "2vyCGf2k1URU"
      },
      "outputs": [],
      "source": [
        "data_rule_4"
      ]
    },
    {
      "cell_type": "code",
      "execution_count": null,
      "metadata": {
        "id": "AJGQp0nA1bno"
      },
      "outputs": [],
      "source": [
        "X4=np.array(data_rule_4.iloc[::,:-1])\n",
        "X4"
      ]
    },
    {
      "cell_type": "code",
      "execution_count": null,
      "metadata": {
        "id": "WfrPi_KZ1lTv"
      },
      "outputs": [],
      "source": [
        "Y4=np.array(data_rule_4.iloc[:,3])\n",
        "Y4"
      ]
    },
    {
      "cell_type": "code",
      "execution_count": null,
      "metadata": {
        "id": "pzHeyNxu2APm"
      },
      "outputs": [],
      "source": [
        "# Membuat model regressi dengan library Scikit Learn\n",
        "from sklearn.preprocessing import PolynomialFeatures\n",
        "poly_reg = PolynomialFeatures(degree = 2)  ## nantinya degree diganti menjadi 4\n",
        "X4_poly = poly_reg.fit_transform(X4)\n",
        "lin_reg_2 = LinearRegression()\n",
        "lin_reg_2.fit(X4_poly, Y4) \n",
        "# Proses Training Model\n",
        "poly_reg.fit(X4, Y4) \n",
        "\n",
        "# Memprediksi hasil dengan regresi polynomial\n",
        "y4_pred=lin_reg_2.predict(poly_reg.fit_transform(X4))\n",
        "y4_pred\n",
        "\n",
        "data_rule_4['pred'] = y4_pred\n",
        "data_rule_4"
      ]
    },
    {
      "cell_type": "markdown",
      "metadata": {
        "id": "6xBWAaLA4NvC"
      },
      "source": [
        "##Rule 5"
      ]
    },
    {
      "cell_type": "code",
      "execution_count": null,
      "metadata": {
        "id": "e9rjOgk2RdBL"
      },
      "outputs": [],
      "source": [
        "rule_5 = df_fuzz[df_fuzz['Rule']==\" Jika X1 Muda dan X2 Normal dan X3 Menurun dan X4 Rendah maka Y Nonliver\"]\n",
        "index=rule_5.index\n",
        "data_rule_5=df_fuzz.iloc[index,:5]\n",
        "data_rule_5"
      ]
    },
    {
      "cell_type": "code",
      "execution_count": null,
      "metadata": {
        "id": "urOw3lTHIUHf"
      },
      "outputs": [],
      "source": [
        "data_rule_5.to_csv('hasilrule5.csv') "
      ]
    },
    {
      "cell_type": "markdown",
      "metadata": {
        "id": "mxhQY3eh4oRf"
      },
      "source": [
        "###Mini Batch Gradient Descent"
      ]
    },
    {
      "cell_type": "code",
      "execution_count": null,
      "metadata": {
        "id": "tHM0WivF4nQa"
      },
      "outputs": [],
      "source": [
        "import numpy as np\n",
        "import pandas as pd\n",
        "import matplotlib.pyplot as plt\n",
        "from sklearn.model_selection import train_test_split \n",
        "%matplotlib inline"
      ]
    },
    {
      "cell_type": "code",
      "execution_count": null,
      "metadata": {
        "id": "dgc20LnU4uns"
      },
      "outputs": [],
      "source": [
        "df_rule5=pd.read_csv('hasilrule5.csv',sep=',')\n",
        "df_rule5"
      ]
    },
    {
      "cell_type": "code",
      "execution_count": null,
      "metadata": {
        "id": "KxG-v7_d4xVR"
      },
      "outputs": [],
      "source": [
        "df_rule5=df_rule5.drop(columns=['Unnamed: 0'])\n",
        "df_rule5"
      ]
    },
    {
      "cell_type": "code",
      "execution_count": null,
      "metadata": {
        "id": "z2yTf23f43x3"
      },
      "outputs": [],
      "source": [
        "from sklearn import preprocessing\n",
        "sx5 = preprocessing.MinMaxScaler()\n",
        "sy5 = preprocessing.MinMaxScaler()\n",
        "\n",
        "scaled_X5 = sx5.fit_transform(data_rule_5.drop('Liver_Disease',axis='columns'))\n",
        "scaled_y5 = sy5.fit_transform(data_rule_5['Liver_Disease'].values.reshape(rule_5.shape[0],1))\n",
        "\n",
        "scaled_X5"
      ]
    },
    {
      "cell_type": "code",
      "execution_count": null,
      "metadata": {
        "id": "jkwgOuwrN8li"
      },
      "outputs": [],
      "source": [
        "scaled_y5_reshape=scaled_y5.reshape(scaled_y5.shape[0],)\n",
        "scaled_y5_reshape"
      ]
    },
    {
      "cell_type": "code",
      "execution_count": null,
      "metadata": {
        "id": "Ve3g660B5AWP"
      },
      "outputs": [],
      "source": [
        "def mini_batch_gradient_descent_rule5(X5, y5, iterasi, batch_size = 3, learning_rate = 0.0001):\n",
        "\n",
        "    jumlah_variabel_rule5 = X5.shape[1]                   # array numpy dengan 1 baris dan sejumlah kolom variabel\n",
        "                                                   # Contoh: X_array([[1,2], [3,4], [5,5], [6,6], [7,2], [8,1]])\n",
        "    \n",
        "    bpoly_rule5 = np.ones(shape=(jumlah_variabel_rule5))       # b1, b2, ... b(jumlah variabel)\n",
        "    b0_rule5 = 0                                         # b0 atau bias\n",
        "    n = X5.shape[0]                                 # jumlah baris data X\n",
        "    \n",
        "    if batch_size > n: \n",
        "        batch_size = n                             # Jika batch size > n maka akan menjadi bacth gradient descent biasa\n",
        "        \n",
        "    cost_rule5_list = []                                 # list untuk menampung nilai cost setiap iterasi\n",
        "    iterasi_rule5_list = []                              # list untuk menampung nilai n iterasi(1, 2, 3, ..., n)\n",
        "    b_rule5_list=[]                                      # list untuk menampung nilai parameter regresi b0, b1, .. b(jumlah_variabel) \n",
        "                                                   # setiap iterasi\n",
        "    \n",
        "    jumlah_batch_rule5 = int(n/batch_size)\n",
        "    \n",
        "    # Program akan berjalan hingga sejumlah iterasi=n dicapai\n",
        "    for i in range(iterasi):  \n",
        "        \n",
        "        random_indices = np.random.RandomState(seed=42).permutation(n)      # Memilih indeks data random untuk update parameter\n",
        "        X5_smntr = X5[random_indices]\n",
        "        y5_smntr = y5[random_indices]\n",
        "        \n",
        "        for j in range(0, n, batch_size):\n",
        "            Xj_rule5 = X5_smntr[j:j+batch_size]\n",
        "            yj_rule5 = y5_smntr[j:j+batch_size]\n",
        "            \n",
        "            y5_pred = np.dot(bpoly_rule5, Xj_rule5.T) + b0_rule5          # Menghitung y_pred pada setiap iterasi\n",
        "        \n",
        "            bpoly_rule5_grad = -(2/len(Xj_rule5))*(Xj_rule5.T.dot(yj_rule5-y5_pred))   # Menghitung perubahan/gradien bpoly setiap iterasi\n",
        "            b0_rule5_grad = -(2/len(Xj_rule5))*np.sum(yj_rule5-y5_pred)          # Menghitung perubahan/gradien b0 setiap iterasi\n",
        "            bpoly_rule5 = bpoly_rule5 - learning_rate * bpoly_rule5_grad        # Memperbaharui bpoly setiap iterasi\n",
        "            b0_rule5 = b0_rule5 - learning_rate * b0_rule5_grad                 # Memperbaharui bpoly setiap iterasi\n",
        "        \n",
        "            # Menyimpan parameter b dalam list tunggal\n",
        "            bp=[]\n",
        "            for jv_rule5 in range(jumlah_variabel_rule5):\n",
        "                bp_rule5=bpoly_rule5[jv_rule5]\n",
        "                bp.append(bp_rule5)\n",
        "            b_rule5=[b0_rule5]+bp\n",
        "        \n",
        "            cost_rule5 = np.mean(np.square(yj_rule5-y5_pred))       # MSE (Mean Squared Error)\n",
        "        \n",
        "        if i%100==0: # Hanya mengambil hasil pada iterasi kelipatan 10\n",
        "            cost_rule5_list.append(cost_rule5)                     # Menyimpan nilai cost setiap iterasi\n",
        "            iterasi_rule5_list.append(i)                     # Menyimpan nilai iterasi setiap iterasi\n",
        "            b_rule5_list.append(b_rule5)                           # Menyimpan nilai parameter b setiap iterasi\n",
        "        \n",
        "    return bpoly_rule5, b0_rule5, cost_rule5, b_rule5_list, cost_rule5_list, iterasi_rule5_list  # Output"
      ]
    },
    {
      "cell_type": "code",
      "execution_count": null,
      "metadata": {
        "id": "Riz5gBCQ55mE"
      },
      "outputs": [],
      "source": [
        "import time\n",
        "mulai_rule5 = time.time()\n",
        "mb_bpoly_rule5, mb_b0_rule5, mb_cost_rule5, mb_b_rule5_list, mb_cost_rule5_list, mb_iterasi_rule5_list=mini_batch_gradient_descent_rule5 (scaled_X5, \n",
        "                                                                                                                                        scaled_y5_reshape,\n",
        "                                                                                                                                        iterasi=1000, \n",
        "                                                                                                                                        batch_size = 3, \n",
        "                                                                                                                                        learning_rate = 0.0001)\n",
        "selesai_rule5 = time.time()\n",
        "waktu_komputasi_rule5 = (selesai_rule5 - mulai_rule5)\n",
        "print(\"Waktu Komputasi Rule 5: \",waktu_komputasi_rule5)"
      ]
    },
    {
      "cell_type": "code",
      "execution_count": null,
      "metadata": {
        "id": "KaHq7IPlSFFP"
      },
      "outputs": [],
      "source": [
        "plt.xlabel(\"Iterasi Rule 5\")\n",
        "plt.ylabel(\"cost Rule 5\")\n",
        "plt.title(\"Mini Batch Gradient Descent Rule 5\")\n",
        "plt.plot(mb_iterasi_rule5_list,mb_cost_rule5_list, color='red', label='Eror')\n",
        "plt.show()"
      ]
    },
    {
      "cell_type": "code",
      "execution_count": null,
      "metadata": {
        "id": "yC6qG2n26ab5"
      },
      "outputs": [],
      "source": [
        "mb_cost_rule5"
      ]
    },
    {
      "cell_type": "code",
      "execution_count": null,
      "metadata": {
        "id": "hgPbTJJR759U"
      },
      "outputs": [],
      "source": [
        "mb_b0_rule5"
      ]
    },
    {
      "cell_type": "code",
      "execution_count": null,
      "metadata": {
        "id": "QqftFd7r7_ar"
      },
      "outputs": [],
      "source": [
        "mb_bpoly_rule5 #hasil untuk x1 dan x2"
      ]
    },
    {
      "cell_type": "code",
      "execution_count": null,
      "metadata": {
        "id": "wJuh6ko88Fqw"
      },
      "outputs": [],
      "source": [
        "data_rule_5"
      ]
    },
    {
      "cell_type": "code",
      "execution_count": null,
      "metadata": {
        "id": "pKytE_NR8NKQ"
      },
      "outputs": [],
      "source": [
        "X5=np.array(data_rule_5.iloc[::,:-1])\n",
        "X5"
      ]
    },
    {
      "cell_type": "code",
      "execution_count": null,
      "metadata": {
        "id": "5YiLC2uX-cuJ"
      },
      "outputs": [],
      "source": [
        "Y5=np.array(data_rule_5.iloc[:,3])\n",
        "Y5"
      ]
    },
    {
      "cell_type": "code",
      "execution_count": null,
      "metadata": {
        "id": "7TQvQlok-hHq"
      },
      "outputs": [],
      "source": [
        "# Membuat model regressi dengan library Scikit Learn\n",
        "from sklearn.preprocessing import PolynomialFeatures\n",
        "poly_reg = PolynomialFeatures(degree = 2)  ## nantinya degree diganti menjadi 4\n",
        "X5_poly = poly_reg.fit_transform(X5)\n",
        "lin_reg_2 = LinearRegression()\n",
        "lin_reg_2.fit(X5_poly, Y5) \n",
        "# Proses Training Model\n",
        "poly_reg.fit(X5, Y5) \n",
        "\n",
        "# Memprediksi hasil dengan regresi polynomial\n",
        "y5_pred=lin_reg_2.predict(poly_reg.fit_transform(X5))\n",
        "y5_pred\n",
        "\n",
        "data_rule_5['pred'] = y5_pred\n",
        "data_rule_5"
      ]
    },
    {
      "cell_type": "markdown",
      "metadata": {
        "id": "fTc6-s-I_MID"
      },
      "source": [
        "##Rule 6"
      ]
    },
    {
      "cell_type": "code",
      "execution_count": null,
      "metadata": {
        "id": "eQLxxWQkRrkU"
      },
      "outputs": [],
      "source": [
        "rule_6 = df_fuzz[df_fuzz['Rule']==\" Jika X1 Paruh baya dan X2 Normal dan X3 Menurun dan X4 Rendah maka Y Liver\"]\n",
        "index=rule_6.index\n",
        "data_rule_6=df_fuzz.iloc[index,:5]\n",
        "data_rule_6"
      ]
    },
    {
      "cell_type": "code",
      "execution_count": null,
      "metadata": {
        "id": "IyxM5EsyJo7L"
      },
      "outputs": [],
      "source": [
        "data_rule_6.to_csv('hasilrule6.csv')"
      ]
    },
    {
      "cell_type": "markdown",
      "metadata": {
        "id": "6Kab85DzBH4h"
      },
      "source": [
        "###Mini Batch Gradient Descent"
      ]
    },
    {
      "cell_type": "code",
      "execution_count": null,
      "metadata": {
        "id": "M4eINmx3_mVD"
      },
      "outputs": [],
      "source": [
        "import numpy as np\n",
        "import pandas as pd\n",
        "import matplotlib.pyplot as plt\n",
        "from sklearn.model_selection import train_test_split \n",
        "%matplotlib inline"
      ]
    },
    {
      "cell_type": "code",
      "execution_count": null,
      "metadata": {
        "id": "oWzyzFIsBOoN"
      },
      "outputs": [],
      "source": [
        "df_rule6=pd.read_csv('hasilrule6.csv',sep=',')\n",
        "df_rule6"
      ]
    },
    {
      "cell_type": "code",
      "execution_count": null,
      "metadata": {
        "id": "AVnddjajBUH_"
      },
      "outputs": [],
      "source": [
        "df_rule6=df_rule6.drop(columns=['Unnamed: 0'])\n",
        "df_rule6"
      ]
    },
    {
      "cell_type": "code",
      "execution_count": null,
      "metadata": {
        "id": "MfrmnRBbBYEP"
      },
      "outputs": [],
      "source": [
        "from sklearn import preprocessing\n",
        "sx6 = preprocessing.MinMaxScaler()\n",
        "sy6 = preprocessing.MinMaxScaler()\n",
        "\n",
        "scaled_X6 = sx6.fit_transform(data_rule_6.drop('Liver_Disease',axis='columns'))\n",
        "scaled_y6 = sy6.fit_transform(data_rule_6['Liver_Disease'].values.reshape(rule_6.shape[0],1))\n",
        "\n",
        "scaled_X6"
      ]
    },
    {
      "cell_type": "code",
      "execution_count": null,
      "metadata": {
        "id": "f8hRuk7pN_od"
      },
      "outputs": [],
      "source": [
        "scaled_y6_reshape=scaled_y6.reshape(scaled_y6.shape[0],)\n",
        "scaled_y6_reshape"
      ]
    },
    {
      "cell_type": "code",
      "execution_count": null,
      "metadata": {
        "id": "4UKO1rJ4Bm8q"
      },
      "outputs": [],
      "source": [
        "def mini_batch_gradient_descent_rule6(X6, y6, iterasi, batch_size = 3, learning_rate = 0.0001):\n",
        "\n",
        "    jumlah_variabel_rule6 = X6.shape[1]                   # array numpy dengan 1 baris dan sejumlah kolom variabel\n",
        "                                                   # Contoh: X_array([[1,2], [3,4], [5,5], [6,6], [7,2], [8,1]])\n",
        "    \n",
        "    bpoly_rule6 = np.ones(shape=(jumlah_variabel_rule6))       # b1, b2, ... b(jumlah variabel)\n",
        "    b0_rule6 = 0                                         # b0 atau bias\n",
        "    n = X6.shape[0]                                 # jumlah baris data X\n",
        "    \n",
        "    if batch_size > n: \n",
        "        batch_size = n                             # Jika batch size > n maka akan menjadi bacth gradient descent biasa\n",
        "        \n",
        "    cost_rule6_list = []                                 # list untuk menampung nilai cost setiap iterasi\n",
        "    iterasi_rule6_list = []                              # list untuk menampung nilai n iterasi(1, 2, 3, ..., n)\n",
        "    b_rule6_list=[]                                      # list untuk menampung nilai parameter regresi b0, b1, .. b(jumlah_variabel) \n",
        "                                                   # setiap iterasi\n",
        "    \n",
        "    jumlah_batch_rule6 = int(n/batch_size)\n",
        "    \n",
        "    # Program akan berjalan hingga sejumlah iterasi=n dicapai\n",
        "    for i in range(iterasi):  \n",
        "        \n",
        "        random_indices = np.random.RandomState(seed=42).permutation(n)      # Memilih indeks data random untuk update parameter\n",
        "        X6_smntr = X6[random_indices]\n",
        "        y6_smntr = y6[random_indices]\n",
        "        \n",
        "        for j in range(0, n, batch_size):\n",
        "            Xj_rule6 = X6_smntr[j:j+batch_size]\n",
        "            yj_rule6 = y6_smntr[j:j+batch_size]\n",
        "            \n",
        "            y6_pred = np.dot(bpoly_rule6, Xj_rule6.T) + b0_rule6          # Menghitung y_pred pada setiap iterasi\n",
        "        \n",
        "            bpoly_rule6_grad = -(2/len(Xj_rule6))*(Xj_rule6.T.dot(yj_rule6-y6_pred))   # Menghitung perubahan/gradien bpoly setiap iterasi\n",
        "            b0_rule6_grad = -(2/len(Xj_rule6))*np.sum(yj_rule6-y6_pred)          # Menghitung perubahan/gradien b0 setiap iterasi\n",
        "            bpoly_rule6 = bpoly_rule6 - learning_rate * bpoly_rule6_grad        # Memperbaharui bpoly(bobot) setiap iterasi \n",
        "            b0_rule6 = b0_rule6 - learning_rate * b0_rule6_grad                 # Memperbaharui bpoly setiap iterasi\n",
        "        \n",
        "            # Menyimpan parameter b dalam list tunggal\n",
        "            bp=[]\n",
        "            for jv_rule6 in range(jumlah_variabel_rule6):\n",
        "                bp_rule6=bpoly_rule6[jv_rule6]\n",
        "                bp.append(bp_rule6)\n",
        "            b_rule6=[b0_rule6]+bp\n",
        "        \n",
        "            cost_rule6 = np.mean(np.square(yj_rule6-y6_pred))       # MSE (Mean Squared Error)\n",
        "        \n",
        "        if i%100==0: # Hanya mengambil hasil pada iterasi kelipatan 10\n",
        "            cost_rule6_list.append(cost_rule6)                     # Menyimpan nilai cost setiap iterasi\n",
        "            iterasi_rule6_list.append(i)                     # Menyimpan nilai iterasi setiap iterasi\n",
        "            b_rule6_list.append(b_rule6)                           # Menyimpan nilai parameter b setiap iterasi\n",
        "        \n",
        "    return bpoly_rule6, b0_rule6, cost_rule6, b_rule6_list, cost_rule6_list, iterasi_rule6_list  # Output"
      ]
    },
    {
      "cell_type": "code",
      "execution_count": null,
      "metadata": {
        "id": "bGyQ1osuCyaX"
      },
      "outputs": [],
      "source": [
        "import time\n",
        "mulai_rule6 = time.time()\n",
        "mb_bpoly_rule6, mb_b0_rule6, mb_cost_rule6, mb_b_rule6_list, mb_cost_rule6_list, mb_iterasi_rule6_list=mini_batch_gradient_descent_rule6 (scaled_X6, \n",
        "                                                                                                                                        scaled_y6_reshape,\n",
        "                                                                                                                                        iterasi=10000, \n",
        "                                                                                                                                        batch_size = 3, \n",
        "                                                                                                                                        learning_rate = 0.0001)\n",
        "selesai_rule6 = time.time()\n",
        "waktu_komputasi_rule6 = (selesai_rule6 - mulai_rule6)\n",
        "print(\"Waktu Komputasi Rule 6: \",waktu_komputasi_rule6)"
      ]
    },
    {
      "cell_type": "code",
      "execution_count": null,
      "metadata": {
        "id": "Je9dkB3qSLBJ"
      },
      "outputs": [],
      "source": [
        "plt.xlabel(\"Iterasi Rule 6\")\n",
        "plt.ylabel(\"cost Rule 6\")\n",
        "plt.title(\"Mini Batch Gradient Descent Rule 6\")\n",
        "plt.plot(mb_iterasi_rule6_list,mb_cost_rule6_list, color='red', label='Eror')\n",
        "plt.show()"
      ]
    },
    {
      "cell_type": "code",
      "execution_count": null,
      "metadata": {
        "id": "1U4giLDWDBGe"
      },
      "outputs": [],
      "source": [
        "mb_cost_rule6"
      ]
    },
    {
      "cell_type": "code",
      "execution_count": null,
      "metadata": {
        "id": "mx2HEeowDIB7"
      },
      "outputs": [],
      "source": [
        "mb_b0_rule6"
      ]
    },
    {
      "cell_type": "code",
      "execution_count": null,
      "metadata": {
        "id": "bsNMYziGDOMs"
      },
      "outputs": [],
      "source": [
        "mb_bpoly_rule6 #hasil untuk x1 dan x2"
      ]
    },
    {
      "cell_type": "code",
      "execution_count": null,
      "metadata": {
        "id": "dnoqKD4fVV2x"
      },
      "outputs": [],
      "source": [
        "data_rule_6"
      ]
    },
    {
      "cell_type": "code",
      "execution_count": null,
      "metadata": {
        "id": "4Z-0moz1DRRr"
      },
      "outputs": [],
      "source": [
        "X6=np.array(data_rule_6.iloc[::,:-1])\n",
        "X6"
      ]
    },
    {
      "cell_type": "code",
      "execution_count": null,
      "metadata": {
        "id": "lXn6WvXJDZl_"
      },
      "outputs": [],
      "source": [
        "Y6=np.array(data_rule_6.iloc[:,3])\n",
        "Y6"
      ]
    },
    {
      "cell_type": "code",
      "execution_count": null,
      "metadata": {
        "id": "XqXrX4EXHdsi"
      },
      "outputs": [],
      "source": [
        "# Membuat model regressi dengan library Scikit Learn\n",
        "from sklearn.preprocessing import PolynomialFeatures\n",
        "poly_reg = PolynomialFeatures(degree = 2)  ## nantinya degree(derajat) diganti menjadi 4\n",
        "X6_poly = poly_reg.fit_transform(X6)\n",
        "lin_reg_2 = LinearRegression()\n",
        "lin_reg_2.fit(X6_poly, Y6) \n",
        "# Proses Training Model\n",
        "poly_reg.fit(X6, Y6) \n",
        "\n",
        "# Memprediksi hasil dengan regresi polynomial\n",
        "y6_pred=lin_reg_2.predict(poly_reg.fit_transform(X6))\n",
        "y6_pred\n",
        "\n",
        "data_rule_6['pred'] = y6_pred\n",
        "data_rule_6"
      ]
    },
    {
      "cell_type": "markdown",
      "metadata": {
        "id": "EDRVWaBME125"
      },
      "source": [
        "##Rule 7"
      ]
    },
    {
      "cell_type": "code",
      "execution_count": null,
      "metadata": {
        "id": "pPdWf7zrRvlm"
      },
      "outputs": [],
      "source": [
        "rule_7 = df_fuzz[df_fuzz['Rule']==\" Jika X1 Tua dan X2 Normal dan X3 Menurun dan X4 Rendah maka Y Nonliver\"]\n",
        "index=rule_7.index\n",
        "data_rule_7=df_fuzz.iloc[index,:5]\n",
        "data_rule_7"
      ]
    },
    {
      "cell_type": "code",
      "execution_count": null,
      "metadata": {
        "id": "JDoYaEYbMvM-"
      },
      "outputs": [],
      "source": [
        "data_rule_7.to_csv('hasilrule7.csv') "
      ]
    },
    {
      "cell_type": "markdown",
      "metadata": {
        "id": "lwhHrlWxE4gp"
      },
      "source": [
        "###Mini Batch Gradient Descent"
      ]
    },
    {
      "cell_type": "code",
      "execution_count": null,
      "metadata": {
        "id": "16J_MPMFbmJx"
      },
      "outputs": [],
      "source": [
        "import numpy as np\n",
        "import pandas as pd\n",
        "import matplotlib.pyplot as plt\n",
        "from sklearn.model_selection import train_test_split \n",
        "%matplotlib inline"
      ]
    },
    {
      "cell_type": "code",
      "execution_count": null,
      "metadata": {
        "id": "gy_g1feUbo5s"
      },
      "outputs": [],
      "source": [
        "df_rule7=pd.read_csv('hasilrule7.csv',sep=',')\n",
        "df_rule7"
      ]
    },
    {
      "cell_type": "code",
      "execution_count": null,
      "metadata": {
        "id": "rV5Ug6jXbttf"
      },
      "outputs": [],
      "source": [
        "df_rule7=df_rule7.drop(columns=['Unnamed: 0'])\n",
        "df_rule7"
      ]
    },
    {
      "cell_type": "code",
      "execution_count": null,
      "metadata": {
        "id": "431reWGQcQE2"
      },
      "outputs": [],
      "source": [
        "from sklearn import preprocessing\n",
        "sx7 = preprocessing.MinMaxScaler()\n",
        "sy7 = preprocessing.MinMaxScaler()\n",
        "\n",
        "scaled_X7 = sx7.fit_transform(data_rule_7.drop('Liver_Disease',axis='columns'))\n",
        "scaled_y7 = sy7.fit_transform(data_rule_7['Liver_Disease'].values.reshape(rule_7.shape[0],1))\n",
        "\n",
        "scaled_X7"
      ]
    },
    {
      "cell_type": "code",
      "execution_count": null,
      "metadata": {
        "id": "P2TALEducdB2"
      },
      "outputs": [],
      "source": [
        "scaled_y7_reshape=scaled_y7.reshape(scaled_y7.shape[0],)\n",
        "scaled_y7_reshape"
      ]
    },
    {
      "cell_type": "code",
      "execution_count": null,
      "metadata": {
        "id": "1AYbae_Ncmol"
      },
      "outputs": [],
      "source": [
        "def mini_batch_gradient_descent_rule7(X7, y7, iterasi, batch_size = 3, learning_rate = 0.0001):\n",
        "\n",
        "    jumlah_variabel_rule7 = X7.shape[1]                   # array numpy dengan 1 baris dan sejumlah kolom variabel\n",
        "                                                   # Contoh: X_array([[1,2], [3,4], [5,5], [6,6], [7,2], [8,1]])\n",
        "    \n",
        "    bpoly_rule7 = np.ones(shape=(jumlah_variabel_rule7))       # b1, b2, ... b(jumlah variabel)\n",
        "    b0_rule7 = 0                                         # b0 atau bias\n",
        "    n = X7.shape[0]                                 # jumlah baris data X\n",
        "    \n",
        "    if batch_size > n: \n",
        "        batch_size = n                             # Jika batch size > n maka akan menjadi bacth gradient descent biasa\n",
        "        \n",
        "    cost_rule7_list = []                                 # list untuk menampung nilai cost setiap iterasi\n",
        "    iterasi_rule7_list = []                              # list untuk menampung nilai n iterasi(1, 2, 3, ..., n)\n",
        "    b_rule7_list=[]                                      # list untuk menampung nilai parameter regresi b0, b1, .. b(jumlah_variabel) \n",
        "                                                   # setiap iterasi\n",
        "    \n",
        "    jumlah_batch_rule7 = int(n/batch_size)\n",
        "    \n",
        "    # Program akan berjalan hingga sejumlah iterasi=n dicapai\n",
        "    for i in range(iterasi):  \n",
        "        \n",
        "        random_indices = np.random.RandomState(seed=42).permutation(n)      # Memilih indeks data random untuk update parameter\n",
        "        X7_smntr = X7[random_indices]\n",
        "        y7_smntr = y7[random_indices]\n",
        "        \n",
        "        for j in range(0, n, batch_size):\n",
        "            Xj_rule7 = X7_smntr[j:j+batch_size]\n",
        "            yj_rule7 = y7_smntr[j:j+batch_size]\n",
        "            \n",
        "            y7_pred = np.dot(bpoly_rule7, Xj_rule7.T) + b0_rule7          # Menghitung y_pred pada setiap iterasi\n",
        "        \n",
        "            bpoly_rule7_grad = -(2/len(Xj_rule7))*(Xj_rule7.T.dot(yj_rule7-y7_pred))   # Menghitung perubahan/gradien bpoly setiap iterasi\n",
        "            b0_rule7_grad = -(2/len(Xj_rule7))*np.sum(yj_rule7-y7_pred)          # Menghitung perubahan/gradien b0 setiap iterasi\n",
        "            bpoly_rule7 = bpoly_rule7 - learning_rate * bpoly_rule7_grad        # Memperbaharui bpoly setiap iterasi\n",
        "            b0_rule7 = b0_rule7 - learning_rate * b0_rule7_grad                 # Memperbaharui bpoly setiap iterasi\n",
        "        \n",
        "            # Menyimpan parameter b dalam list tunggal\n",
        "            bp=[]\n",
        "            for jv_rule7 in range(jumlah_variabel_rule7):\n",
        "                bp_rule7=bpoly_rule7[jv_rule7]\n",
        "                bp.append(bp_rule7)\n",
        "            b_rule7=[b0_rule7]+bp\n",
        "        \n",
        "            cost_rule7 = np.mean(np.square(yj_rule7-y7_pred))       # MSE (Mean Squared Error)\n",
        "        \n",
        "        if i%100==0: # Hanya mengambil hasil pada iterasi kelipatan 10\n",
        "            cost_rule7_list.append(cost_rule7)                     # Menyimpan nilai cost setiap iterasi\n",
        "            iterasi_rule7_list.append(i)                     # Menyimpan nilai iterasi setiap iterasi\n",
        "            b_rule7_list.append(b_rule7)                           # Menyimpan nilai parameter b setiap iterasi\n",
        "        \n",
        "    return bpoly_rule7, b0_rule7, cost_rule7, b_rule7_list, cost_rule7_list, iterasi_rule7_list  # Output"
      ]
    },
    {
      "cell_type": "code",
      "execution_count": null,
      "metadata": {
        "id": "-HfTMBEymQKh"
      },
      "outputs": [],
      "source": [
        "import time\n",
        "mulai_rule7 = time.time()\n",
        "mb_bpoly_rule7, mb_b0_rule7, mb_cost_rule7, mb_b_rule7_list, mb_cost_rule7_list, mb_iterasi_rule7_list=mini_batch_gradient_descent_rule7 (scaled_X7, \n",
        "                                                                                                                                        scaled_y7_reshape,\n",
        "                                                                                                                                        iterasi=10000, \n",
        "                                                                                                                                        batch_size = 3, \n",
        "                                                                                                                                        learning_rate = 0.0001)\n",
        "selesai_rule7 = time.time()\n",
        "waktu_komputasi_rule7 = (selesai_rule7 - mulai_rule7)\n",
        "print(\"Waktu Komputasi Rule 7: \",waktu_komputasi_rule7)"
      ]
    },
    {
      "cell_type": "code",
      "execution_count": null,
      "metadata": {
        "id": "ABwxwJrUmjhJ"
      },
      "outputs": [],
      "source": [
        "plt.xlabel(\"Iterasi Rule 7\")\n",
        "plt.ylabel(\"cost Rule 7\")\n",
        "plt.title(\"Mini Batch Gradient Descent Rule 7\")\n",
        "plt.plot(mb_iterasi_rule7_list,mb_cost_rule7_list, color='red', label='Eror')\n",
        "plt.show()"
      ]
    },
    {
      "cell_type": "code",
      "execution_count": null,
      "metadata": {
        "id": "4GQaq1MKm3dG"
      },
      "outputs": [],
      "source": [
        "mb_cost_rule7"
      ]
    },
    {
      "cell_type": "code",
      "execution_count": null,
      "metadata": {
        "id": "b-RrlLWdm71a"
      },
      "outputs": [],
      "source": [
        "mb_b0_rule7"
      ]
    },
    {
      "cell_type": "code",
      "execution_count": null,
      "metadata": {
        "id": "T9CIxE1Wm9qF"
      },
      "outputs": [],
      "source": [
        "mb_bpoly_rule7"
      ]
    },
    {
      "cell_type": "code",
      "execution_count": null,
      "metadata": {
        "id": "O6UIYoNWnCd1"
      },
      "outputs": [],
      "source": [
        "data_rule_7"
      ]
    },
    {
      "cell_type": "code",
      "execution_count": null,
      "metadata": {
        "id": "wwvY-cwEnKBc"
      },
      "outputs": [],
      "source": [
        "X7=np.array(data_rule_7.iloc[::,:-1])\n",
        "X7"
      ]
    },
    {
      "cell_type": "code",
      "execution_count": null,
      "metadata": {
        "id": "TagMhkvDnPr4"
      },
      "outputs": [],
      "source": [
        "Y7=np.array(data_rule_7.iloc[:,3])\n",
        "Y7"
      ]
    },
    {
      "cell_type": "code",
      "execution_count": null,
      "metadata": {
        "id": "L50lniRZnVgm"
      },
      "outputs": [],
      "source": [
        "# Membuat model regressi dengan library Scikit Learn\n",
        "from sklearn.preprocessing import PolynomialFeatures\n",
        "poly_reg = PolynomialFeatures(degree = 2)  ## nantinya degree(derajat) diganti menjadi 4\n",
        "X7_poly = poly_reg.fit_transform(X7)\n",
        "lin_reg_2 = LinearRegression()\n",
        "lin_reg_2.fit(X7_poly, Y7) \n",
        "# Proses Training Model\n",
        "poly_reg.fit(X7, Y7) \n",
        "\n",
        "# Memprediksi hasil dengan regresi polynomial\n",
        "y7_pred=lin_reg_2.predict(poly_reg.fit_transform(X7))\n",
        "y7_pred\n",
        "\n",
        "data_rule_7['pred'] = y7_pred\n",
        "data_rule_7"
      ]
    },
    {
      "cell_type": "markdown",
      "metadata": {
        "id": "8EwvqsXQnxE8"
      },
      "source": [
        "##Rule 8"
      ]
    },
    {
      "cell_type": "code",
      "execution_count": null,
      "metadata": {
        "id": "XzK-EpBGR0vV"
      },
      "outputs": [],
      "source": [
        "rule_8 = df_fuzz[df_fuzz['Rule']==\" Jika X1 Muda dan X2 Normal dan X3 Menurun dan X4 Rendah maka Y Liver\"]\n",
        "index=rule_8.index\n",
        "data_rule_8=df_fuzz.iloc[index,:5]\n",
        "data_rule_8"
      ]
    },
    {
      "cell_type": "code",
      "execution_count": null,
      "metadata": {
        "id": "GuLXfxVUN-Ej"
      },
      "outputs": [],
      "source": [
        "data_rule_8.to_csv('hasilrule8.csv') "
      ]
    },
    {
      "cell_type": "markdown",
      "metadata": {
        "id": "Kxd0gXBxn0QZ"
      },
      "source": [
        "###Mini Batch Gradient Descent"
      ]
    },
    {
      "cell_type": "code",
      "execution_count": null,
      "metadata": {
        "id": "riOtn7vxo0dS"
      },
      "outputs": [],
      "source": [
        "import numpy as np\n",
        "import pandas as pd\n",
        "import matplotlib.pyplot as plt\n",
        "from sklearn.model_selection import train_test_split \n",
        "%matplotlib inline"
      ]
    },
    {
      "cell_type": "code",
      "execution_count": null,
      "metadata": {
        "id": "1CCfTFQGo264"
      },
      "outputs": [],
      "source": [
        "df_rule8=pd.read_csv('hasilrule8.csv',sep=',')\n",
        "df_rule8"
      ]
    },
    {
      "cell_type": "code",
      "execution_count": null,
      "metadata": {
        "id": "rZ371aE_o8F3"
      },
      "outputs": [],
      "source": [
        "df_rule8=df_rule8.drop(columns=['Unnamed: 0'])\n",
        "df_rule8"
      ]
    },
    {
      "cell_type": "code",
      "execution_count": null,
      "metadata": {
        "id": "w1LV1C0IpBMA"
      },
      "outputs": [],
      "source": [
        "from sklearn import preprocessing\n",
        "sx8 = preprocessing.MinMaxScaler()\n",
        "sy8 = preprocessing.MinMaxScaler()\n",
        "\n",
        "scaled_X8 = sx8.fit_transform(data_rule_8.drop('Liver_Disease',axis='columns'))\n",
        "scaled_y8 = sy8.fit_transform(data_rule_8['Liver_Disease'].values.reshape(rule_8.shape[0],1))\n",
        "\n",
        "scaled_X8"
      ]
    },
    {
      "cell_type": "code",
      "execution_count": null,
      "metadata": {
        "id": "sQ02NLuqpLgK"
      },
      "outputs": [],
      "source": [
        "scaled_y8_reshape=scaled_y8.reshape(scaled_y8.shape[0],)\n",
        "scaled_y8_reshape"
      ]
    },
    {
      "cell_type": "code",
      "execution_count": null,
      "metadata": {
        "id": "rDOcQnU-pUW9"
      },
      "outputs": [],
      "source": [
        "def mini_batch_gradient_descent_rule8(X8, y8, iterasi, batch_size = 5, learning_rate = 0.0001):\n",
        "\n",
        "    jumlah_variabel_rule8 = X8.shape[1]                   # array numpy dengan 1 baris dan sejumlah kolom variabel\n",
        "                                                   # Contoh: X_array([[1,2], [3,4], [5,5], [6,6], [7,2], [8,1]])\n",
        "    \n",
        "    bpoly_rule8 = np.ones(shape=(jumlah_variabel_rule8))       # b1, b2, ... b(jumlah variabel)\n",
        "    b0_rule8 = 0                                         # b0 atau bias\n",
        "    n = X8.shape[0]                                 # jumlah baris data X\n",
        "    \n",
        "    if batch_size > n: \n",
        "        batch_size = n                             # Jika batch size > n maka akan menjadi bacth gradient descent biasa\n",
        "        \n",
        "    cost_rule8_list = []                                 # list untuk menampung nilai cost setiap iterasi\n",
        "    iterasi_rule8_list = []                              # list untuk menampung nilai n iterasi(1, 2, 3, ..., n)\n",
        "    b_rule8_list=[]                                      # list untuk menampung nilai parameter regresi b0, b1, .. b(jumlah_variabel) \n",
        "                                                   # setiap iterasi\n",
        "    \n",
        "    jumlah_batch_rule8 = int(n/batch_size)\n",
        "    \n",
        "    # Program akan berjalan hingga sejumlah iterasi=n dicapai\n",
        "    for i in range(iterasi):  \n",
        "        \n",
        "        random_indices = np.random.RandomState(seed=42).permutation(n)      # Memilih indeks data random untuk update parameter\n",
        "        X8_smntr = X8[random_indices]\n",
        "        y8_smntr = y8[random_indices]\n",
        "        \n",
        "        for j in range(0, n, batch_size):\n",
        "            Xj_rule8 = X8_smntr[j:j+batch_size]\n",
        "            yj_rule8 = y8_smntr[j:j+batch_size]\n",
        "            \n",
        "            y8_pred = np.dot(bpoly_rule8, Xj_rule8.T) + b0_rule8          # Menghitung y_pred pada setiap iterasi\n",
        "        \n",
        "            bpoly_rule8_grad = -(2/len(Xj_rule8))*(Xj_rule8.T.dot(yj_rule8-y8_pred))   # Menghitung perubahan/gradien bpoly setiap iterasi\n",
        "            b0_rule8_grad = -(2/len(Xj_rule8))*np.sum(yj_rule8-y8_pred)          # Menghitung perubahan/gradien b0 setiap iterasi\n",
        "            bpoly_rule8 = bpoly_rule8 - learning_rate * bpoly_rule8_grad        # Memperbaharui bpoly setiap iterasi\n",
        "            b0_rule8 = b0_rule8 - learning_rate * b0_rule8_grad                 # Memperbaharui bpoly setiap iterasi\n",
        "        \n",
        "            # Menyimpan parameter b dalam list tunggal\n",
        "            bp=[]\n",
        "            for jv_rule8 in range(jumlah_variabel_rule8):\n",
        "                bp_rule8=bpoly_rule8[jv_rule8]\n",
        "                bp.append(bp_rule8)\n",
        "            b_rule8=[b0_rule8]+bp\n",
        "        \n",
        "            cost_rule8 = np.mean(np.square(yj_rule8-y8_pred))       # MSE (Mean Squared Error)\n",
        "        \n",
        "        if i%100==0: # Hanya mengambil hasil pada iterasi kelipatan 10\n",
        "            cost_rule8_list.append(cost_rule8)                     # Menyimpan nilai cost setiap iterasi\n",
        "            iterasi_rule8_list.append(i)                     # Menyimpan nilai iterasi setiap iterasi\n",
        "            b_rule8_list.append(b_rule8)                           # Menyimpan nilai parameter b setiap iterasi\n",
        "        \n",
        "    return bpoly_rule8, b0_rule8, cost_rule8, b_rule8_list, cost_rule8_list, iterasi_rule8_list  # Output"
      ]
    },
    {
      "cell_type": "code",
      "execution_count": null,
      "metadata": {
        "id": "N75ONlqVH2Tt"
      },
      "outputs": [],
      "source": [
        "import time\n",
        "mulai_rule8 = time.time()\n",
        "mb_bpoly_rule8, mb_b0_rule8, mb_cost_rule8, mb_b_rule8_list, mb_cost_rule8_list, mb_iterasi_rule8_list=mini_batch_gradient_descent_rule8 (scaled_X8, \n",
        "                                                                                                                                        scaled_y8_reshape,\n",
        "                                                                                                                                        iterasi=1000, \n",
        "                                                                                                                                        batch_size = 5, \n",
        "                                                                                                                                        learning_rate = 0.0001)\n",
        "selesai_rule8 = time.time()\n",
        "waktu_komputasi_rule8 = (selesai_rule8 - mulai_rule8)\n",
        "print(\"Waktu Komputasi Rule 8: \",waktu_komputasi_rule8)"
      ]
    },
    {
      "cell_type": "code",
      "execution_count": null,
      "metadata": {
        "id": "asW2NjSklJLC"
      },
      "outputs": [],
      "source": [
        "plt.xlabel(\"Iterasi Rule 8\")\n",
        "plt.ylabel(\"cost Rule 8\")\n",
        "plt.title(\"Mini Batch Gradient Descent Rule 8\")\n",
        "plt.plot(mb_iterasi_rule8_list,mb_cost_rule8_list, color='red', label='Eror')\n",
        "plt.show()"
      ]
    },
    {
      "cell_type": "code",
      "execution_count": null,
      "metadata": {
        "id": "gIMspmF2al4y"
      },
      "outputs": [],
      "source": [
        "mb_cost_rule8"
      ]
    },
    {
      "cell_type": "code",
      "execution_count": null,
      "metadata": {
        "id": "NFR7D59ZarIQ"
      },
      "outputs": [],
      "source": [
        "mb_b0_rule8"
      ]
    },
    {
      "cell_type": "code",
      "execution_count": null,
      "metadata": {
        "id": "t1Hu-xifauUq"
      },
      "outputs": [],
      "source": [
        "mb_bpoly_rule8"
      ]
    },
    {
      "cell_type": "code",
      "execution_count": null,
      "metadata": {
        "id": "pflyWUluawon"
      },
      "outputs": [],
      "source": [
        "data_rule_8"
      ]
    },
    {
      "cell_type": "code",
      "execution_count": null,
      "metadata": {
        "id": "PpgLgaaxa10x"
      },
      "outputs": [],
      "source": [
        "X8=np.array(data_rule_8.iloc[::,:-1])\n",
        "X8"
      ]
    },
    {
      "cell_type": "code",
      "execution_count": null,
      "metadata": {
        "id": "-WcXi5bva7z9"
      },
      "outputs": [],
      "source": [
        "Y8=np.array(data_rule_8.iloc[:,3])\n",
        "Y8"
      ]
    },
    {
      "cell_type": "code",
      "execution_count": null,
      "metadata": {
        "id": "CdsDEzTNbA_H"
      },
      "outputs": [],
      "source": [
        "# Membuat model regressi dengan library Scikit Learn\n",
        "from sklearn.preprocessing import PolynomialFeatures\n",
        "poly_reg = PolynomialFeatures(degree = 2)  ## nantinya degree(derajat) diganti menjadi 4\n",
        "X8_poly = poly_reg.fit_transform(X8)\n",
        "lin_reg_2 = LinearRegression()\n",
        "lin_reg_2.fit(X8_poly, Y8) \n",
        "# Proses Training Model\n",
        "poly_reg.fit(X8, Y8) \n",
        "\n",
        "# Memprediksi hasil dengan regresi polynomial\n",
        "y8_pred=lin_reg_2.predict(poly_reg.fit_transform(X8))\n",
        "y8_pred\n",
        "\n",
        "data_rule_8['pred'] = y8_pred\n",
        "data_rule_8"
      ]
    },
    {
      "cell_type": "markdown",
      "metadata": {
        "id": "0ctI0HztbuwC"
      },
      "source": [
        "##Rule 9"
      ]
    },
    {
      "cell_type": "code",
      "execution_count": null,
      "metadata": {
        "id": "_70ORiEqR5JR"
      },
      "outputs": [],
      "source": [
        "rule_9 = df_fuzz[df_fuzz['Rule']==\" Jika X1 Tua dan X2 Normal dan X3 Menurun dan X4 Rendah maka Y Liver\"]\n",
        "index=rule_9.index\n",
        "data_rule_9=df_fuzz.iloc[index,:5]\n",
        "data_rule_9"
      ]
    },
    {
      "cell_type": "code",
      "execution_count": null,
      "metadata": {
        "id": "5BOUOamr7_SU"
      },
      "outputs": [],
      "source": [
        "data_rule_9.to_csv('hasilrule9.csv')"
      ]
    },
    {
      "cell_type": "markdown",
      "metadata": {
        "id": "k1PS5k-qbw-C"
      },
      "source": [
        "###Mini Batch Gradient Descent"
      ]
    },
    {
      "cell_type": "code",
      "execution_count": null,
      "metadata": {
        "id": "yV96YsAnlXUD"
      },
      "outputs": [],
      "source": [
        "import numpy as np\n",
        "import pandas as pd\n",
        "import matplotlib.pyplot as plt\n",
        "from sklearn.model_selection import train_test_split \n",
        "%matplotlib inline"
      ]
    },
    {
      "cell_type": "code",
      "execution_count": null,
      "metadata": {
        "id": "Aj41KS4ovkU0"
      },
      "outputs": [],
      "source": [
        "df_rule9=pd.read_csv('hasilrule9.csv',sep=',')\n",
        "df_rule9"
      ]
    },
    {
      "cell_type": "code",
      "execution_count": null,
      "metadata": {
        "id": "YF1nvasYwc2m"
      },
      "outputs": [],
      "source": [
        "df_rule9=df_rule9.drop(columns=['Unnamed: 0'])\n",
        "df_rule9"
      ]
    },
    {
      "cell_type": "code",
      "execution_count": null,
      "metadata": {
        "id": "vlmsHMFDwhZm"
      },
      "outputs": [],
      "source": [
        "from sklearn import preprocessing\n",
        "sx9 = preprocessing.MinMaxScaler()\n",
        "sy9 = preprocessing.MinMaxScaler()\n",
        "\n",
        "scaled_X9 = sx9.fit_transform(data_rule_9.drop('Liver_Disease',axis='columns'))\n",
        "scaled_y9 = sy9.fit_transform(data_rule_9['Liver_Disease'].values.reshape(rule_9.shape[0],1))\n",
        "\n",
        "scaled_X9"
      ]
    },
    {
      "cell_type": "code",
      "execution_count": null,
      "metadata": {
        "id": "Ra33_I9rwsOK"
      },
      "outputs": [],
      "source": [
        "scaled_y9_reshape=scaled_y9.reshape(scaled_y9.shape[0],)\n",
        "scaled_y9_reshape"
      ]
    },
    {
      "cell_type": "code",
      "execution_count": null,
      "metadata": {
        "id": "jKP9kcOWwx07"
      },
      "outputs": [],
      "source": [
        "def mini_batch_gradient_descent_rule9(X9, y9, iterasi, batch_size = 3, learning_rate = 0.0001):\n",
        "\n",
        "    jumlah_variabel_rule9 = X9.shape[1]                   # array numpy dengan 1 baris dan sejumlah kolom variabel\n",
        "                                                   # Contoh: X_array([[1,2], [3,4], [5,5], [6,6], [7,2], [8,1]])\n",
        "    \n",
        "    bpoly_rule9 = np.ones(shape=(jumlah_variabel_rule9))       # b1, b2, ... b(jumlah variabel)\n",
        "    b0_rule9 = 0                                         # b0 atau bias\n",
        "    n = X9.shape[0]                                 # jumlah baris data X\n",
        "    \n",
        "    if batch_size > n: \n",
        "        batch_size = n                             # Jika batch size > n maka akan menjadi bacth gradient descent biasa\n",
        "        \n",
        "    cost_rule9_list = []                                 # list untuk menampung nilai cost setiap iterasi\n",
        "    iterasi_rule9_list = []                              # list untuk menampung nilai n iterasi(1, 2, 3, ..., n)\n",
        "    b_rule9_list=[]                                      # list untuk menampung nilai parameter regresi b0, b1, .. b(jumlah_variabel) \n",
        "                                                   # setiap iterasi\n",
        "    \n",
        "    jumlah_batch_rule9 = int(n/batch_size)\n",
        "    \n",
        "    # Program akan berjalan hingga sejumlah iterasi=n dicapai\n",
        "    for i in range(iterasi):  \n",
        "        \n",
        "        random_indices = np.random.RandomState(seed=42).permutation(n)      # Memilih indeks data random untuk update parameter\n",
        "        X9_smntr = X9[random_indices]\n",
        "        y9_smntr = y9[random_indices]\n",
        "        \n",
        "        for j in range(0, n, batch_size):\n",
        "            Xj_rule9 = X9_smntr[j:j+batch_size]\n",
        "            yj_rule9 = y9_smntr[j:j+batch_size]\n",
        "            \n",
        "            y9_pred = np.dot(bpoly_rule9, Xj_rule9.T) + b0_rule9          # Menghitung y_pred pada setiap iterasi\n",
        "        \n",
        "            bpoly_rule9_grad = -(2/len(Xj_rule9))*(Xj_rule9.T.dot(yj_rule9-y9_pred))   # Menghitung perubahan/gradien bpoly setiap iterasi\n",
        "            b0_rule9_grad = -(2/len(Xj_rule9))*np.sum(yj_rule9-y9_pred)          # Menghitung perubahan/gradien b0 setiap iterasi\n",
        "            bpoly_rule9 = bpoly_rule9 - learning_rate * bpoly_rule9_grad        # Memperbaharui bpoly setiap iterasi\n",
        "            b0_rule9 = b0_rule9 - learning_rate * b0_rule9_grad                 # Memperbaharui bpoly setiap iterasi\n",
        "        \n",
        "            # Menyimpan parameter b dalam list tunggal\n",
        "            bp=[]\n",
        "            for jv_rule9 in range(jumlah_variabel_rule9):\n",
        "                bp_rule9=bpoly_rule9[jv_rule9]\n",
        "                bp.append(bp_rule9)\n",
        "            b_rule9=[b0_rule9]+bp\n",
        "        \n",
        "            cost_rule9 = np.mean(np.square(yj_rule9-y9_pred))       # MSE (Mean Squared Error)\n",
        "        \n",
        "        if i%100==0: # Hanya mengambil hasil pada iterasi kelipatan 10\n",
        "            cost_rule9_list.append(cost_rule9)                     # Menyimpan nilai cost setiap iterasi\n",
        "            iterasi_rule9_list.append(i)                     # Menyimpan nilai iterasi setiap iterasi\n",
        "            b_rule9_list.append(b_rule9)                           # Menyimpan nilai parameter b setiap iterasi\n",
        "        \n",
        "    return bpoly_rule9, b0_rule9, cost_rule9, b_rule9_list, cost_rule9_list, iterasi_rule9_list  # Output"
      ]
    },
    {
      "cell_type": "code",
      "execution_count": null,
      "metadata": {
        "id": "KhhYACu_b8mW"
      },
      "outputs": [],
      "source": [
        "import time\n",
        "mulai_rule9 = time.time()\n",
        "mb_bpoly_rule9, mb_b0_rule9, mb_cost_rule9, mb_b_rule9_list, mb_cost_rule9_list, mb_iterasi_rule9_list=mini_batch_gradient_descent_rule9 (scaled_X9, \n",
        "                                                                                                                                        scaled_y9_reshape,\n",
        "                                                                                                                                        iterasi=1000, \n",
        "                                                                                                                                        batch_size = 3, \n",
        "                                                                                                                                        learning_rate = 0.0001)\n",
        "selesai_rule9 = time.time()\n",
        "waktu_komputasi_rule9 = (selesai_rule9 - mulai_rule9)\n",
        "print(\"Waktu Komputasi Rule 9: \",waktu_komputasi_rule9)"
      ]
    },
    {
      "cell_type": "code",
      "execution_count": null,
      "metadata": {
        "id": "u4w3LjrQi_B-"
      },
      "outputs": [],
      "source": [
        "plt.xlabel(\"Iterasi Rule 9\")\n",
        "plt.ylabel(\"cost Rule 9\")\n",
        "plt.title(\"Mini Batch Gradient Descent Rule 9\")\n",
        "plt.plot(mb_iterasi_rule9_list,mb_cost_rule9_list, color='red', label='Eror')\n",
        "plt.show()"
      ]
    },
    {
      "cell_type": "code",
      "execution_count": null,
      "metadata": {
        "id": "aLbY75FwjIcW"
      },
      "outputs": [],
      "source": [
        "mb_cost_rule9"
      ]
    },
    {
      "cell_type": "code",
      "execution_count": null,
      "metadata": {
        "id": "ZCrXc8pRjOD7"
      },
      "outputs": [],
      "source": [
        "mb_b0_rule9"
      ]
    },
    {
      "cell_type": "code",
      "execution_count": null,
      "metadata": {
        "id": "_-q05IFbjQS-"
      },
      "outputs": [],
      "source": [
        "mb_bpoly_rule9"
      ]
    },
    {
      "cell_type": "code",
      "execution_count": null,
      "metadata": {
        "id": "Xl12_-WrjT-P"
      },
      "outputs": [],
      "source": [
        "data_rule_9"
      ]
    },
    {
      "cell_type": "code",
      "execution_count": null,
      "metadata": {
        "id": "cO9wS6WAjbDT"
      },
      "outputs": [],
      "source": [
        "X9=np.array(data_rule_9.iloc[::,:-1])\n",
        "X9"
      ]
    },
    {
      "cell_type": "code",
      "execution_count": null,
      "metadata": {
        "id": "T_JQ0npPkV2O"
      },
      "outputs": [],
      "source": [
        "Y9=np.array(data_rule_9.iloc[:,3])\n",
        "Y9"
      ]
    },
    {
      "cell_type": "code",
      "execution_count": null,
      "metadata": {
        "id": "cY9mqJKrkbwS"
      },
      "outputs": [],
      "source": [
        "# Membuat model regressi dengan library Scikit Learn\n",
        "from sklearn.preprocessing import PolynomialFeatures\n",
        "poly_reg = PolynomialFeatures(degree = 2)  ## nantinya degree(derajat) diganti menjadi 4\n",
        "X9_poly = poly_reg.fit_transform(X9)\n",
        "lin_reg_2 = LinearRegression()\n",
        "lin_reg_2.fit(X9_poly, Y9) \n",
        "# Proses Training Model\n",
        "poly_reg.fit(X9, Y9) \n",
        "\n",
        "# Memprediksi hasil dengan regresi polynomial\n",
        "y9_pred=lin_reg_2.predict(poly_reg.fit_transform(X9))\n",
        "y9_pred\n",
        "\n",
        "data_rule_9['pred'] = y9_pred\n",
        "data_rule_9"
      ]
    },
    {
      "cell_type": "markdown",
      "metadata": {
        "id": "syrLPf94k4XD"
      },
      "source": [
        "##Rule 10"
      ]
    },
    {
      "cell_type": "code",
      "execution_count": null,
      "metadata": {
        "id": "1sOsNjKyR-O6"
      },
      "outputs": [],
      "source": [
        "rule_10 = df_fuzz[df_fuzz['Rule']==\" Jika X1 Paruh baya dan X2 Normal dan X3 Meningkat dan X4 Rendah maka Y Nonliver\"]\n",
        "index=rule_10.index\n",
        "data_rule_10=df_fuzz.iloc[index,:5]\n",
        "data_rule_10"
      ]
    },
    {
      "cell_type": "code",
      "execution_count": null,
      "metadata": {
        "id": "aiwpXfQRPYQG"
      },
      "outputs": [],
      "source": [
        "data_rule_10.to_csv('hasilrule10.csv') "
      ]
    },
    {
      "cell_type": "markdown",
      "metadata": {
        "id": "22JEFWHRk7A8"
      },
      "source": [
        "###Mini Batch Gradient Descent"
      ]
    },
    {
      "cell_type": "code",
      "execution_count": null,
      "metadata": {
        "id": "dtk5eBC3lxEL"
      },
      "outputs": [],
      "source": [
        "import numpy as np\n",
        "import pandas as pd\n",
        "import matplotlib.pyplot as plt\n",
        "from sklearn.model_selection import train_test_split \n",
        "%matplotlib inline"
      ]
    },
    {
      "cell_type": "code",
      "execution_count": null,
      "metadata": {
        "id": "w-qRoor8mmEz"
      },
      "outputs": [],
      "source": [
        "df_rule10=pd.read_csv('hasilrule10.csv',sep=',')\n",
        "df_rule10"
      ]
    },
    {
      "cell_type": "code",
      "execution_count": null,
      "metadata": {
        "id": "Uvnnt0oIoqXk"
      },
      "outputs": [],
      "source": [
        "df_rule10=df_rule10.drop(columns=['Unnamed: 0'])\n",
        "df_rule10"
      ]
    },
    {
      "cell_type": "code",
      "execution_count": null,
      "metadata": {
        "id": "LbKIT2mWnKb1"
      },
      "outputs": [],
      "source": [
        "from sklearn import preprocessing\n",
        "sx10 = preprocessing.MinMaxScaler()\n",
        "sy10 = preprocessing.MinMaxScaler()\n",
        "\n",
        "scaled_X10 = sx10.fit_transform(data_rule_10.drop('Liver_Disease',axis='columns'))\n",
        "scaled_y10 = sy10.fit_transform(data_rule_10['Liver_Disease'].values.reshape(rule_10.shape[0],1))\n",
        "\n",
        "scaled_X10"
      ]
    },
    {
      "cell_type": "code",
      "execution_count": null,
      "metadata": {
        "id": "fPnYeyJeouUv"
      },
      "outputs": [],
      "source": [
        "scaled_y10_reshape=scaled_y10.reshape(scaled_y10.shape[0],)\n",
        "scaled_y10_reshape"
      ]
    },
    {
      "cell_type": "code",
      "execution_count": null,
      "metadata": {
        "id": "aienK1Vbqx4j"
      },
      "outputs": [],
      "source": [
        "def mini_batch_gradient_descent_rule10(X10, y10, iterasi, batch_size = 3, learning_rate = 0.0001):\n",
        "\n",
        "    jumlah_variabel_rule10 = X10.shape[1]                   # array numpy dengan 1 baris dan sejumlah kolom variabel\n",
        "                                                   # Contoh: X_array([[1,2], [3,4], [5,5], [6,6], [7,2], [8,1]])\n",
        "    \n",
        "    bpoly_rule10 = np.ones(shape=(jumlah_variabel_rule10))       # b1, b2, ... b(jumlah variabel)\n",
        "    b0_rule10 = 0                                         # b0 atau bias\n",
        "    n = X10.shape[0]                                 # jumlah baris data X\n",
        "    \n",
        "    if batch_size > n: \n",
        "        batch_size = n                             # Jika batch size > n maka akan menjadi bacth gradient descent biasa\n",
        "        \n",
        "    cost_rule10_list = []                                 # list untuk menampung nilai cost setiap iterasi\n",
        "    iterasi_rule10_list = []                              # list untuk menampung nilai n iterasi(1, 2, 3, ..., n)\n",
        "    b_rule10_list=[]                                      # list untuk menampung nilai parameter regresi b0, b1, .. b(jumlah_variabel) \n",
        "                                                   # setiap iterasi\n",
        "    \n",
        "    jumlah_batch_rule10 = int(n/batch_size)\n",
        "    \n",
        "    # Program akan berjalan hingga sejumlah iterasi=n dicapai\n",
        "    for i in range(iterasi):  \n",
        "        \n",
        "        random_indices = np.random.RandomState(seed=42).permutation(n)      # Memilih indeks data random untuk update parameter\n",
        "        X10_smntr = X10[random_indices]\n",
        "        y10_smntr = y10[random_indices]\n",
        "        \n",
        "        for j in range(0, n, batch_size):\n",
        "            Xj_rule10 = X10_smntr[j:j+batch_size]\n",
        "            yj_rule10 = y10_smntr[j:j+batch_size]\n",
        "            \n",
        "            y10_pred = np.dot(bpoly_rule10, Xj_rule10.T) + b0_rule10          # Menghitung y_pred pada setiap iterasi\n",
        "        \n",
        "            bpoly_rule10_grad = -(2/len(Xj_rule10))*(Xj_rule10.T.dot(yj_rule10-y10_pred))   # Menghitung perubahan/gradien bpoly setiap iterasi\n",
        "            b0_rule10_grad = -(2/len(Xj_rule10))*np.sum(yj_rule10-y10_pred)          # Menghitung perubahan/gradien b0 setiap iterasi\n",
        "            bpoly_rule10 = bpoly_rule10 - learning_rate * bpoly_rule10_grad        # Memperbaharui bpoly setiap iterasi\n",
        "            b0_rule10 = b0_rule10 - learning_rate * b0_rule10_grad                 # Memperbaharui bpoly setiap iterasi\n",
        "        \n",
        "            # Menyimpan parameter b dalam list tunggal\n",
        "            bp=[]\n",
        "            for jv_rule10 in range(jumlah_variabel_rule10):\n",
        "                bp_rule10=bpoly_rule10[jv_rule10]\n",
        "                bp.append(bp_rule10)\n",
        "            b_rule10=[b0_rule10]+bp\n",
        "        \n",
        "            cost_rule10 = np.mean(np.square(yj_rule10-y10_pred))       # MSE (Mean Squared Error)\n",
        "        \n",
        "        if i%100==0: # Hanya mengambil hasil pada iterasi kelipatan 10\n",
        "            cost_rule10_list.append(cost_rule10)                     # Menyimpan nilai cost setiap iterasi\n",
        "            iterasi_rule10_list.append(i)                     # Menyimpan nilai iterasi setiap iterasi\n",
        "            b_rule10_list.append(b_rule10)                           # Menyimpan nilai parameter b setiap iterasi\n",
        "        \n",
        "    return bpoly_rule10, b0_rule10, cost_rule10, b_rule10_list, cost_rule10_list, iterasi_rule10_list  # Output"
      ]
    },
    {
      "cell_type": "code",
      "execution_count": null,
      "metadata": {
        "id": "Yg42D-GyuOBR"
      },
      "outputs": [],
      "source": [
        "import time\n",
        "mulai_rule10 = time.time()\n",
        "mb_bpoly_rule10, mb_b0_rule10, mb_cost_rule10, mb_b_rule10_list, mb_cost_rule10_list, mb_iterasi_rule10_list=mini_batch_gradient_descent_rule10 (scaled_X10, \n",
        "                                                                                                                                        scaled_y10_reshape,\n",
        "                                                                                                                                        iterasi=10000, \n",
        "                                                                                                                                        batch_size = 3, \n",
        "                                                                                                                                        learning_rate = 0.0001)\n",
        "selesai_rule10 = time.time()\n",
        "waktu_komputasi_rule10 = (selesai_rule10 - mulai_rule10)\n",
        "print(\"Waktu Komputasi Rule 10: \",waktu_komputasi_rule10)"
      ]
    },
    {
      "cell_type": "code",
      "execution_count": null,
      "metadata": {
        "id": "AuiSnWKt62sq"
      },
      "outputs": [],
      "source": [
        "plt.xlabel(\"Iterasi Rule 10\")\n",
        "plt.ylabel(\"cost Rule 10\")\n",
        "plt.title(\"Mini Batch Gradient Descent Rule 10\")\n",
        "plt.plot(mb_iterasi_rule10_list,mb_cost_rule10_list, color='red', label='Eror')\n",
        "plt.show()"
      ]
    },
    {
      "cell_type": "code",
      "execution_count": null,
      "metadata": {
        "id": "HdWXtxYr-dsG"
      },
      "outputs": [],
      "source": [
        "mb_cost_rule10"
      ]
    },
    {
      "cell_type": "code",
      "execution_count": null,
      "metadata": {
        "id": "x05eg0gS-hM0"
      },
      "outputs": [],
      "source": [
        "mb_b0_rule10"
      ]
    },
    {
      "cell_type": "code",
      "execution_count": null,
      "metadata": {
        "id": "TFDssKKs-jeu"
      },
      "outputs": [],
      "source": [
        "mb_bpoly_rule10"
      ]
    },
    {
      "cell_type": "code",
      "execution_count": null,
      "metadata": {
        "id": "bN2EW7UH-loE"
      },
      "outputs": [],
      "source": [
        "data_rule_10"
      ]
    },
    {
      "cell_type": "code",
      "execution_count": null,
      "metadata": {
        "id": "g3YXQu6r-qtP"
      },
      "outputs": [],
      "source": [
        "X10=np.array(data_rule_10.iloc[::,:-1])\n",
        "X10"
      ]
    },
    {
      "cell_type": "code",
      "execution_count": null,
      "metadata": {
        "id": "hwCYvzRw-vuN"
      },
      "outputs": [],
      "source": [
        "Y10=np.array(data_rule_10.iloc[:,3])\n",
        "Y10"
      ]
    },
    {
      "cell_type": "code",
      "execution_count": null,
      "metadata": {
        "id": "1w-10xY_-2QY"
      },
      "outputs": [],
      "source": [
        "# Membuat model regressi dengan library Scikit Learn\n",
        "from sklearn.preprocessing import PolynomialFeatures\n",
        "poly_reg = PolynomialFeatures(degree = 2)  ## nantinya degree(derajat) diganti menjadi 4\n",
        "X10_poly = poly_reg.fit_transform(X10)\n",
        "lin_reg_2 = LinearRegression()\n",
        "lin_reg_2.fit(X10_poly, Y10) \n",
        "# Proses Training Model\n",
        "poly_reg.fit(X10, Y10) \n",
        "\n",
        "# Memprediksi hasil dengan regresi polynomial\n",
        "y10_pred=lin_reg_2.predict(poly_reg.fit_transform(X10))\n",
        "y10_pred\n",
        "\n",
        "data_rule_10['pred'] = y10_pred\n",
        "data_rule_10"
      ]
    },
    {
      "cell_type": "markdown",
      "metadata": {
        "id": "_k1k2xU1fbN7"
      },
      "source": [
        "##Rule 11"
      ]
    },
    {
      "cell_type": "code",
      "execution_count": null,
      "metadata": {
        "id": "EVJNSk6Dfauf"
      },
      "outputs": [],
      "source": [
        "#Rule 11\n",
        "rule_11 = df_fuzz[df_fuzz['Rule']==\" Jika X1 Paruh baya dan X2 Normal dan X3 Normal dan X4 Rendah maka Y Liver\"]\n",
        "index=rule_11.index\n",
        "data_rule_11=df_fuzz.iloc[index,:5]\n",
        "data_rule_11"
      ]
    },
    {
      "cell_type": "code",
      "execution_count": null,
      "metadata": {
        "id": "TakzQH5kf3el"
      },
      "outputs": [],
      "source": [
        "data_rule_11.to_csv('hasilrule11.csv')"
      ]
    },
    {
      "cell_type": "markdown",
      "metadata": {
        "id": "jjL_Q76jfgv6"
      },
      "source": [
        "###Mini Batch Gradient Descent"
      ]
    },
    {
      "cell_type": "code",
      "execution_count": null,
      "metadata": {
        "id": "WpQtDZ8Ff6mC"
      },
      "outputs": [],
      "source": [
        "import numpy as np\n",
        "import pandas as pd\n",
        "import matplotlib.pyplot as plt\n",
        "from sklearn.model_selection import train_test_split \n",
        "%matplotlib inline"
      ]
    },
    {
      "cell_type": "code",
      "execution_count": null,
      "metadata": {
        "id": "0-u5VYQCf8uJ"
      },
      "outputs": [],
      "source": [
        "df_rule11=pd.read_csv('hasilrule11.csv',sep=',')\n",
        "df_rule11"
      ]
    },
    {
      "cell_type": "code",
      "execution_count": null,
      "metadata": {
        "id": "2tWtAqGBf-zJ"
      },
      "outputs": [],
      "source": [
        "df_rule11=df_rule11.drop(columns=['Unnamed: 0'])\n",
        "df_rule11"
      ]
    },
    {
      "cell_type": "code",
      "execution_count": null,
      "metadata": {
        "id": "8rYMOgMYgBER"
      },
      "outputs": [],
      "source": [
        "from sklearn import preprocessing\n",
        "sx11 = preprocessing.MinMaxScaler()\n",
        "sy11 = preprocessing.MinMaxScaler()\n",
        "\n",
        "scaled_X11 = sx11.fit_transform(data_rule_11.drop('Liver_Disease',axis='columns'))\n",
        "scaled_y11 = sy11.fit_transform(data_rule_11['Liver_Disease'].values.reshape(rule_11.shape[0],1))\n",
        "\n",
        "scaled_X11"
      ]
    },
    {
      "cell_type": "code",
      "execution_count": null,
      "metadata": {
        "id": "c396ZCYzgDlx"
      },
      "outputs": [],
      "source": [
        "scaled_y11_reshape=scaled_y11.reshape(scaled_y11.shape[0],)\n",
        "scaled_y11_reshape"
      ]
    },
    {
      "cell_type": "code",
      "execution_count": null,
      "metadata": {
        "id": "ZfKvvotOgF4E"
      },
      "outputs": [],
      "source": [
        "def mini_batch_gradient_descent_rule11(X11, y11, iterasi, batch_size = 3, learning_rate = 0.0001):\n",
        "\n",
        "    jumlah_variabel_rule11 = X11.shape[1]                   # array numpy dengan 1 baris dan sejumlah kolom variabel\n",
        "                                                   # Contoh: X_array([[1,2], [3,4], [5,5], [6,6], [7,2], [8,1]])\n",
        "    \n",
        "    bpoly_rule11 = np.ones(shape=(jumlah_variabel_rule11))       # b1, b2, ... b(jumlah variabel)\n",
        "    b0_rule11 = 0                                         # b0 atau bias\n",
        "    n = X11.shape[0]                                 # jumlah baris data X\n",
        "    \n",
        "    if batch_size > n: \n",
        "        batch_size = n                             # Jika batch size > n maka akan menjadi bacth gradient descent biasa\n",
        "        \n",
        "    cost_rule11_list = []                                 # list untuk menampung nilai cost setiap iterasi\n",
        "    iterasi_rule11_list = []                              # list untuk menampung nilai n iterasi(1, 2, 3, ..., n)\n",
        "    b_rule11_list=[]                                      # list untuk menampung nilai parameter regresi b0, b1, .. b(jumlah_variabel) \n",
        "                                                   # setiap iterasi\n",
        "    \n",
        "    jumlah_batch_rule11 = int(n/batch_size)\n",
        "    \n",
        "    # Program akan berjalan hingga sejumlah iterasi=n dicapai\n",
        "    for i in range(iterasi):  \n",
        "        \n",
        "        random_indices = np.random.RandomState(seed=42).permutation(n)      # Memilih indeks data random untuk update parameter\n",
        "        X11_smntr = X11[random_indices]\n",
        "        y11_smntr = y11[random_indices]\n",
        "        \n",
        "        for j in range(0, n, batch_size):\n",
        "            Xj_rule11 = X11_smntr[j:j+batch_size]\n",
        "            yj_rule11 = y11_smntr[j:j+batch_size]\n",
        "            \n",
        "            y11_pred = np.dot(bpoly_rule11, Xj_rule11.T) + b0_rule11          # Menghitung y_pred pada setiap iterasi\n",
        "        \n",
        "            bpoly_rule11_grad = -(2/len(Xj_rule11))*(Xj_rule11.T.dot(yj_rule11-y11_pred))   # Menghitung perubahan/gradien bpoly setiap iterasi\n",
        "            b0_rule11_grad = -(2/len(Xj_rule11))*np.sum(yj_rule11-y11_pred)          # Menghitung perubahan/gradien b0 setiap iterasi\n",
        "            bpoly_rule11 = bpoly_rule11 - learning_rate * bpoly_rule11_grad        # Memperbaharui bpoly setiap iterasi\n",
        "            b0_rule11 = b0_rule11 - learning_rate * b0_rule11_grad                 # Memperbaharui bpoly setiap iterasi\n",
        "        \n",
        "            # Menyimpan parameter b dalam list tunggal\n",
        "            bp=[]\n",
        "            for jv_rule11 in range(jumlah_variabel_rule11):\n",
        "                bp_rule11=bpoly_rule11[jv_rule11]\n",
        "                bp.append(bp_rule11)\n",
        "            b_rule11=[b0_rule11]+bp\n",
        "        \n",
        "            cost_rule11 = np.mean(np.square(yj_rule11-y11_pred))       # MSE (Mean Squared Error)\n",
        "        \n",
        "        if i%100==0: # Hanya mengambil hasil pada iterasi kelipatan 10\n",
        "            cost_rule11_list.append(cost_rule11)                     # Menyimpan nilai cost setiap iterasi\n",
        "            iterasi_rule11_list.append(i)                     # Menyimpan nilai iterasi setiap iterasi\n",
        "            b_rule11_list.append(b_rule11)                           # Menyimpan nilai parameter b setiap iterasi\n",
        "        \n",
        "    return bpoly_rule11, b0_rule11, cost_rule11, b_rule11_list, cost_rule11_list, iterasi_rule11_list  # Output"
      ]
    },
    {
      "cell_type": "code",
      "execution_count": null,
      "metadata": {
        "id": "hFgtzJmigIOt"
      },
      "outputs": [],
      "source": [
        "import time\n",
        "mulai_rule11 = time.time()\n",
        "mb_bpoly_rule11, mb_b0_rule11, mb_cost_rule11, mb_b_rule11_list, mb_cost_rule11_list, mb_iterasi_rule11_list=mini_batch_gradient_descent_rule11 (scaled_X11, \n",
        "                                                                                                                                        scaled_y11_reshape,\n",
        "                                                                                                                                        iterasi=10000, \n",
        "                                                                                                                                        batch_size = 3, \n",
        "                                                                                                                                        learning_rate = 0.0001)\n",
        "selesai_rule11 = time.time()\n",
        "waktu_komputasi_rule11 = (selesai_rule11 - mulai_rule11)\n",
        "print(\"Waktu Komputasi Rule 11: \",waktu_komputasi_rule11)"
      ]
    },
    {
      "cell_type": "code",
      "execution_count": null,
      "metadata": {
        "id": "Lay3NvD9gKbG"
      },
      "outputs": [],
      "source": [
        "plt.xlabel(\"Iterasi Rule 11\")\n",
        "plt.ylabel(\"cost Rule 11\")\n",
        "plt.title(\"Mini Batch Gradient Descent Rule 11\")\n",
        "plt.plot(mb_iterasi_rule11_list,mb_cost_rule11_list, color='red', label='Eror')\n",
        "plt.show()"
      ]
    },
    {
      "cell_type": "code",
      "execution_count": null,
      "metadata": {
        "id": "f0VuQREagNCx"
      },
      "outputs": [],
      "source": [
        "mb_cost_rule11"
      ]
    },
    {
      "cell_type": "code",
      "execution_count": null,
      "metadata": {
        "id": "Pjvo7YclgPUr"
      },
      "outputs": [],
      "source": [
        "mb_b0_rule11"
      ]
    },
    {
      "cell_type": "code",
      "execution_count": null,
      "metadata": {
        "id": "XIkVJ4KogRkB"
      },
      "outputs": [],
      "source": [
        "mb_bpoly_rule11"
      ]
    },
    {
      "cell_type": "code",
      "execution_count": null,
      "metadata": {
        "id": "WYj6Gf_WgUQb"
      },
      "outputs": [],
      "source": [
        "data_rule_11"
      ]
    },
    {
      "cell_type": "code",
      "execution_count": null,
      "metadata": {
        "id": "LEmmwOjOgYeD"
      },
      "outputs": [],
      "source": [
        "X11=np.array(data_rule_11.iloc[::,:-1])\n",
        "X11"
      ]
    },
    {
      "cell_type": "code",
      "execution_count": null,
      "metadata": {
        "id": "Wq5LImcegZOz"
      },
      "outputs": [],
      "source": [
        "Y11=np.array(data_rule_11.iloc[:,3])\n",
        "Y11"
      ]
    },
    {
      "cell_type": "code",
      "execution_count": null,
      "metadata": {
        "id": "-9VgR_NSgbiD"
      },
      "outputs": [],
      "source": [
        "# Membuat model regressi dengan library Scikit Learn\n",
        "from sklearn.preprocessing import PolynomialFeatures\n",
        "poly_reg = PolynomialFeatures(degree = 2)  ## nantinya degree(derajat) diganti menjadi 4\n",
        "X11_poly = poly_reg.fit_transform(X11)\n",
        "lin_reg_2 = LinearRegression()\n",
        "lin_reg_2.fit(X11_poly, Y11) \n",
        "# Proses Training Model\n",
        "poly_reg.fit(X11, Y11) \n",
        "\n",
        "# Memprediksi hasil dengan regresi polynomial\n",
        "y11_pred=lin_reg_2.predict(poly_reg.fit_transform(X11))\n",
        "y11_pred\n",
        "\n",
        "data_rule_11['pred'] = y11_pred\n",
        "data_rule_11"
      ]
    },
    {
      "cell_type": "markdown",
      "metadata": {
        "id": "ElhtO5H5nm41"
      },
      "source": [
        "##Rule 12"
      ]
    },
    {
      "cell_type": "code",
      "execution_count": null,
      "metadata": {
        "id": "5npzM2HnntCz"
      },
      "outputs": [],
      "source": [
        "#Rule 12\n",
        "rule_12 = df_fuzz[df_fuzz['Rule']==\" Jika X1 Tua dan X2 Normal dan X3 Meningkat dan X4 Rendah maka Y Nonliver\"]\n",
        "index=rule_12.index\n",
        "data_rule_12=df_fuzz.iloc[index,:5]\n",
        "data_rule_12"
      ]
    },
    {
      "cell_type": "code",
      "execution_count": null,
      "metadata": {
        "id": "9G-C9dAon00S"
      },
      "outputs": [],
      "source": [
        "data_rule_12.to_csv('hasilrule12.csv') "
      ]
    },
    {
      "cell_type": "markdown",
      "metadata": {
        "id": "I66bkcFTnpai"
      },
      "source": [
        "###Mini Batch Gradient Descent"
      ]
    },
    {
      "cell_type": "code",
      "execution_count": null,
      "metadata": {
        "id": "dLXepRIvn4Bb"
      },
      "outputs": [],
      "source": [
        "import numpy as np\n",
        "import pandas as pd\n",
        "import matplotlib.pyplot as plt\n",
        "from sklearn.model_selection import train_test_split \n",
        "%matplotlib inline"
      ]
    },
    {
      "cell_type": "code",
      "execution_count": null,
      "metadata": {
        "id": "yBQy85ya05y4"
      },
      "outputs": [],
      "source": [
        "df_rule12=pd.read_csv('hasilrule12.csv',sep=',')\n",
        "df_rule12"
      ]
    },
    {
      "cell_type": "code",
      "execution_count": null,
      "metadata": {
        "id": "JMZO9uBk08GD"
      },
      "outputs": [],
      "source": [
        "df_rule12=df_rule12.drop(columns=['Unnamed: 0'])\n",
        "df_rule12"
      ]
    },
    {
      "cell_type": "code",
      "execution_count": null,
      "metadata": {
        "id": "o5QSncFg1FWT"
      },
      "outputs": [],
      "source": [
        "from sklearn import preprocessing\n",
        "sx12 = preprocessing.MinMaxScaler()\n",
        "sy12 = preprocessing.MinMaxScaler()\n",
        "\n",
        "scaled_X12 = sx12.fit_transform(data_rule_12.drop('Liver_Disease',axis='columns'))\n",
        "scaled_y12 = sy12.fit_transform(data_rule_12['Liver_Disease'].values.reshape(rule_12.shape[0],1))\n",
        "\n",
        "scaled_X12"
      ]
    },
    {
      "cell_type": "code",
      "execution_count": null,
      "metadata": {
        "id": "SUMAbv2I1IMq"
      },
      "outputs": [],
      "source": [
        "scaled_y12_reshape=scaled_y12.reshape(scaled_y12.shape[0],)\n",
        "scaled_y12_reshape"
      ]
    },
    {
      "cell_type": "code",
      "execution_count": null,
      "metadata": {
        "id": "HDp4UbFf1KgP"
      },
      "outputs": [],
      "source": [
        "def mini_batch_gradient_descent_rule12(X12, y12, iterasi, batch_size = 3, learning_rate = 0.0001):\n",
        "\n",
        "    jumlah_variabel_rule12 = X12.shape[1]                   # array numpy dengan 1 baris dan sejumlah kolom variabel\n",
        "                                                   # Contoh: X_array([[1,2], [3,4], [5,5], [6,6], [7,2], [8,1]])\n",
        "    \n",
        "    bpoly_rule12 = np.ones(shape=(jumlah_variabel_rule12))       # b1, b2, ... b(jumlah variabel)\n",
        "    b0_rule12 = 0                                         # b0 atau bias\n",
        "    n = X12.shape[0]                                 # jumlah baris data X\n",
        "    \n",
        "    if batch_size > n: \n",
        "        batch_size = n                             # Jika batch size > n maka akan menjadi bacth gradient descent biasa\n",
        "        \n",
        "    cost_rule12_list = []                                 # list untuk menampung nilai cost setiap iterasi\n",
        "    iterasi_rule12_list = []                              # list untuk menampung nilai n iterasi(1, 2, 3, ..., n)\n",
        "    b_rule12_list=[]                                      # list untuk menampung nilai parameter regresi b0, b1, .. b(jumlah_variabel) \n",
        "                                                   # setiap iterasi\n",
        "    \n",
        "    jumlah_batch_rule12 = int(n/batch_size)\n",
        "    \n",
        "    # Program akan berjalan hingga sejumlah iterasi=n dicapai\n",
        "    for i in range(iterasi):  \n",
        "        \n",
        "        random_indices = np.random.RandomState(seed=42).permutation(n)      # Memilih indeks data random untuk update parameter\n",
        "        X12_smntr = X12[random_indices]\n",
        "        y12_smntr = y12[random_indices]\n",
        "        \n",
        "        for j in range(0, n, batch_size):\n",
        "            Xj_rule12 = X12_smntr[j:j+batch_size]\n",
        "            yj_rule12 = y12_smntr[j:j+batch_size]\n",
        "            \n",
        "            y12_pred = np.dot(bpoly_rule12, Xj_rule12.T) + b0_rule12          # Menghitung y_pred pada setiap iterasi\n",
        "        \n",
        "            bpoly_rule12_grad = -(2/len(Xj_rule12))*(Xj_rule12.T.dot(yj_rule12-y12_pred))   # Menghitung perubahan/gradien bpoly setiap iterasi\n",
        "            b0_rule12_grad = -(2/len(Xj_rule12))*np.sum(yj_rule12-y12_pred)          # Menghitung perubahan/gradien b0 setiap iterasi\n",
        "            bpoly_rule12 = bpoly_rule12 - learning_rate * bpoly_rule12_grad        # Memperbaharui bpoly setiap iterasi\n",
        "            b0_rule12 = b0_rule12 - learning_rate * b0_rule12_grad                 # Memperbaharui bpoly setiap iterasi\n",
        "        \n",
        "            # Menyimpan parameter b dalam list tunggal\n",
        "            bp=[]\n",
        "            for jv_rule12 in range(jumlah_variabel_rule12):\n",
        "                bp_rule12=bpoly_rule12[jv_rule12]\n",
        "                bp.append(bp_rule12)\n",
        "            b_rule12=[b0_rule12]+bp\n",
        "        \n",
        "            cost_rule12 = np.mean(np.square(yj_rule12-y12_pred))       # MSE (Mean Squared Error)\n",
        "        \n",
        "        if i%100==0: # Hanya mengambil hasil pada iterasi kelipatan 10\n",
        "            cost_rule12_list.append(cost_rule12)                     # Menyimpan nilai cost setiap iterasi\n",
        "            iterasi_rule12_list.append(i)                     # Menyimpan nilai iterasi setiap iterasi\n",
        "            b_rule12_list.append(b_rule12)                           # Menyimpan nilai parameter b setiap iterasi\n",
        "        \n",
        "    return bpoly_rule12, b0_rule12, cost_rule12, b_rule12_list, cost_rule12_list, iterasi_rule12_list  # Output"
      ]
    },
    {
      "cell_type": "code",
      "execution_count": null,
      "metadata": {
        "id": "HNtl1Y-t1Ofv"
      },
      "outputs": [],
      "source": [
        "import time\n",
        "mulai_rule12 = time.time()\n",
        "mb_bpoly_rule12, mb_b0_rule12, mb_cost_rule12, mb_b_rule12_list, mb_cost_rule12_list, mb_iterasi_rule12_list=mini_batch_gradient_descent_rule12 (scaled_X12, \n",
        "                                                                                                                                        scaled_y12_reshape,\n",
        "                                                                                                                                        iterasi=10000, \n",
        "                                                                                                                                        batch_size = 3, \n",
        "                                                                                                                                        learning_rate = 0.0001)\n",
        "selesai_rule12 = time.time()\n",
        "waktu_komputasi_rule12 = (selesai_rule12 - mulai_rule12)\n",
        "print(\"Waktu Komputasi Rule 12: \",waktu_komputasi_rule12)"
      ]
    },
    {
      "cell_type": "code",
      "execution_count": null,
      "metadata": {
        "id": "2D8jHDVw1T0k"
      },
      "outputs": [],
      "source": [
        "plt.xlabel(\"Iterasi Rule 12\")\n",
        "plt.ylabel(\"cost Rule 12\")\n",
        "plt.title(\"Mini Batch Gradient Descent Rule 12\")\n",
        "plt.plot(mb_iterasi_rule12_list,mb_cost_rule12_list, color='red', label='Eror')\n",
        "plt.show()"
      ]
    },
    {
      "cell_type": "code",
      "execution_count": null,
      "metadata": {
        "id": "YPWQWLAQ1WkT"
      },
      "outputs": [],
      "source": [
        "mb_cost_rule12"
      ]
    },
    {
      "cell_type": "code",
      "execution_count": null,
      "metadata": {
        "id": "CTq2XX2x1ZWS"
      },
      "outputs": [],
      "source": [
        "mb_b0_rule12"
      ]
    },
    {
      "cell_type": "code",
      "execution_count": null,
      "metadata": {
        "id": "yLlZyy6_1bS_"
      },
      "outputs": [],
      "source": [
        "mb_bpoly_rule12"
      ]
    },
    {
      "cell_type": "code",
      "execution_count": null,
      "metadata": {
        "id": "g8WMWTti1gFY"
      },
      "outputs": [],
      "source": [
        "data_rule_12"
      ]
    },
    {
      "cell_type": "code",
      "execution_count": null,
      "metadata": {
        "id": "3sh5d8fn1gyN"
      },
      "outputs": [],
      "source": [
        "X12=np.array(data_rule_12.iloc[::,:-1])\n",
        "X12"
      ]
    },
    {
      "cell_type": "code",
      "execution_count": null,
      "metadata": {
        "id": "Uy-iV_aD1jlZ"
      },
      "outputs": [],
      "source": [
        "Y12=np.array(data_rule_12.iloc[:,3])\n",
        "Y12"
      ]
    },
    {
      "cell_type": "code",
      "execution_count": null,
      "metadata": {
        "id": "-oQbHRCJ1oIv"
      },
      "outputs": [],
      "source": [
        "# Membuat model regressi dengan library Scikit Learn\n",
        "from sklearn.preprocessing import PolynomialFeatures\n",
        "poly_reg = PolynomialFeatures(degree = 2)  ## nantinya degree(derajat) diganti menjadi 4\n",
        "X12_poly = poly_reg.fit_transform(X12)\n",
        "lin_reg_2 = LinearRegression()\n",
        "lin_reg_2.fit(X12_poly, Y12) \n",
        "# Proses Training Model\n",
        "poly_reg.fit(X12, Y12) \n",
        "\n",
        "# Memprediksi hasil dengan regresi polynomial\n",
        "y12_pred=lin_reg_2.predict(poly_reg.fit_transform(X12))\n",
        "y12_pred\n",
        "\n",
        "data_rule_12['pred'] = y12_pred\n",
        "data_rule_12"
      ]
    },
    {
      "cell_type": "markdown",
      "metadata": {
        "id": "UzrnRLVF1wQ3"
      },
      "source": [
        "##Rule 13"
      ]
    },
    {
      "cell_type": "code",
      "execution_count": null,
      "metadata": {
        "id": "exb1HUcN3d4_"
      },
      "outputs": [],
      "source": [
        "#Rule 13\n",
        "rule_13 = df_fuzz[df_fuzz['Rule']==\" Jika X1 Muda dan X2 Normal dan X3 Normal dan X4 Rendah maka Y Liver\"]\n",
        "index=rule_13.index\n",
        "data_rule_13=df_fuzz.iloc[index,:5]\n",
        "data_rule_13"
      ]
    },
    {
      "cell_type": "code",
      "execution_count": null,
      "metadata": {
        "id": "kfPzkfC2D3Xa"
      },
      "outputs": [],
      "source": [
        "data_rule_13.to_csv('hasilrule13.csv') "
      ]
    },
    {
      "cell_type": "markdown",
      "metadata": {
        "id": "BDwpgEXc1yTu"
      },
      "source": [
        "###Mini Batch Gradient Deacent"
      ]
    },
    {
      "cell_type": "code",
      "execution_count": null,
      "metadata": {
        "id": "G7p0boQGD71O"
      },
      "outputs": [],
      "source": [
        "import numpy as np\n",
        "import pandas as pd\n",
        "import matplotlib.pyplot as plt\n",
        "from sklearn.model_selection import train_test_split \n",
        "%matplotlib inline"
      ]
    },
    {
      "cell_type": "code",
      "execution_count": null,
      "metadata": {
        "id": "ToAgkvi5EA8B"
      },
      "outputs": [],
      "source": [
        "df_rule13=pd.read_csv('hasilrule13.csv',sep=',')\n",
        "df_rule13"
      ]
    },
    {
      "cell_type": "code",
      "execution_count": null,
      "metadata": {
        "id": "QNqJAH14EDlW"
      },
      "outputs": [],
      "source": [
        "df_rule13=df_rule13.drop(columns=['Unnamed: 0'])\n",
        "df_rule13"
      ]
    },
    {
      "cell_type": "code",
      "execution_count": null,
      "metadata": {
        "id": "m0SOu734EFjM"
      },
      "outputs": [],
      "source": [
        "from sklearn import preprocessing\n",
        "sx13 = preprocessing.MinMaxScaler()\n",
        "sy13 = preprocessing.MinMaxScaler()\n",
        "\n",
        "scaled_X13 = sx13.fit_transform(data_rule_13.drop('Liver_Disease',axis='columns'))\n",
        "scaled_y13 = sy13.fit_transform(data_rule_13['Liver_Disease'].values.reshape(rule_13.shape[0],1))\n",
        "\n",
        "scaled_X13"
      ]
    },
    {
      "cell_type": "code",
      "execution_count": null,
      "metadata": {
        "id": "F5UdhUAAPfBu"
      },
      "outputs": [],
      "source": [
        "scaled_y13_reshape=scaled_y13.reshape(scaled_y13.shape[0],)\n",
        "scaled_y13_reshape"
      ]
    },
    {
      "cell_type": "code",
      "execution_count": null,
      "metadata": {
        "id": "fwcBavN0Pvi7"
      },
      "outputs": [],
      "source": [
        "def mini_batch_gradient_descent_rule13(X13, y13, iterasi, batch_size = 4, learning_rate = 0.0001):\n",
        "\n",
        "    jumlah_variabel_rule13 = X13.shape[1]                   # array numpy dengan 1 baris dan sejumlah kolom variabel\n",
        "                                                   # Contoh: X_array([[1,2], [3,4], [5,5], [6,6], [7,2], [8,1]])\n",
        "    \n",
        "    bpoly_rule13 = np.ones(shape=(jumlah_variabel_rule13))       # b1, b2, ... b(jumlah variabel)\n",
        "    b0_rule13 = 0                                         # b0 atau bias\n",
        "    n = X13.shape[0]                                 # jumlah baris data X\n",
        "    \n",
        "    if batch_size > n: \n",
        "        batch_size = n                             # Jika batch size > n maka akan menjadi bacth gradient descent biasa\n",
        "        \n",
        "    cost_rule13_list = []                                 # list untuk menampung nilai cost setiap iterasi\n",
        "    iterasi_rule13_list = []                              # list untuk menampung nilai n iterasi(1, 2, 3, ..., n)\n",
        "    b_rule13_list=[]                                      # list untuk menampung nilai parameter regresi b0, b1, .. b(jumlah_variabel) \n",
        "                                                   # setiap iterasi\n",
        "    \n",
        "    jumlah_batch_rule13 = int(n/batch_size)\n",
        "    \n",
        "    # Program akan berjalan hingga sejumlah iterasi=n dicapai\n",
        "    for i in range(iterasi):  \n",
        "        \n",
        "        random_indices = np.random.RandomState(seed=42).permutation(n)      # Memilih indeks data random untuk update parameter\n",
        "        X13_smntr = X13[random_indices]\n",
        "        y13_smntr = y13[random_indices]\n",
        "        \n",
        "        for j in range(0, n, batch_size):\n",
        "            Xj_rule13 = X13_smntr[j:j+batch_size]\n",
        "            yj_rule13 = y13_smntr[j:j+batch_size]\n",
        "            \n",
        "            y13_pred = np.dot(bpoly_rule13, Xj_rule13.T) + b0_rule13          # Menghitung y_pred pada setiap iterasi\n",
        "        \n",
        "            bpoly_rule13_grad = -(2/len(Xj_rule13))*(Xj_rule13.T.dot(yj_rule13-y13_pred))   # Menghitung perubahan/gradien bpoly setiap iterasi\n",
        "            b0_rule13_grad = -(2/len(Xj_rule13))*np.sum(yj_rule13-y13_pred)          # Menghitung perubahan/gradien b0 setiap iterasi\n",
        "            bpoly_rule13 = bpoly_rule13 - learning_rate * bpoly_rule13_grad        # Memperbaharui bpoly setiap iterasi\n",
        "            b0_rule13 = b0_rule13 - learning_rate * b0_rule13_grad                 # Memperbaharui bpoly setiap iterasi\n",
        "        \n",
        "            # Menyimpan parameter b dalam list tunggal\n",
        "            bp=[]\n",
        "            for jv_rule13 in range(jumlah_variabel_rule13):\n",
        "                bp_rule13=bpoly_rule13[jv_rule13]\n",
        "                bp.append(bp_rule13)\n",
        "            b_rule13=[b0_rule13]+bp\n",
        "        \n",
        "            cost_rule13 = np.mean(np.square(yj_rule13-y13_pred))       # MSE (Mean Squared Error)\n",
        "        \n",
        "        if i%100==0: # Hanya mengambil hasil pada iterasi kelipatan 10\n",
        "            cost_rule13_list.append(cost_rule13)                     # Menyimpan nilai cost setiap iterasi\n",
        "            iterasi_rule13_list.append(i)                     # Menyimpan nilai iterasi setiap iterasi\n",
        "            b_rule13_list.append(b_rule13)                           # Menyimpan nilai parameter b setiap iterasi\n",
        "        \n",
        "    return bpoly_rule13, b0_rule13, cost_rule13, b_rule13_list, cost_rule13_list, iterasi_rule13_list  # Output"
      ]
    },
    {
      "cell_type": "code",
      "execution_count": null,
      "metadata": {
        "id": "jAMbBlhJPxrN"
      },
      "outputs": [],
      "source": [
        "import time\n",
        "mulai_rule13 = time.time()\n",
        "mb_bpoly_rule13, mb_b0_rule13, mb_cost_rule13, mb_b_rule13_list, mb_cost_rule13_list, mb_iterasi_rule13_list=mini_batch_gradient_descent_rule13 (scaled_X13, \n",
        "                                                                                                                                        scaled_y13_reshape,\n",
        "                                                                                                                                        iterasi=1000, \n",
        "                                                                                                                                        batch_size = 4, \n",
        "                                                                                                                                        learning_rate = 0.0001)\n",
        "selesai_rule13 = time.time()\n",
        "waktu_komputasi_rule13 = (selesai_rule13 - mulai_rule13)\n",
        "print(\"Waktu Komputasi Rule 13: \",waktu_komputasi_rule13)"
      ]
    },
    {
      "cell_type": "code",
      "execution_count": null,
      "metadata": {
        "id": "4WwFHP-ZP2Dr"
      },
      "outputs": [],
      "source": [
        "plt.xlabel(\"Iterasi Rule 13\")\n",
        "plt.ylabel(\"cost Rule 13\")\n",
        "plt.title(\"Mini Batch Gradient Descent Rule 13\")\n",
        "plt.plot(mb_iterasi_rule13_list,mb_cost_rule13_list, color='red', label='Eror')\n",
        "plt.show()"
      ]
    },
    {
      "cell_type": "code",
      "execution_count": null,
      "metadata": {
        "id": "ljUdTr64P5oU"
      },
      "outputs": [],
      "source": [
        "mb_cost_rule13"
      ]
    },
    {
      "cell_type": "code",
      "execution_count": null,
      "metadata": {
        "id": "TUJKE8JeP8Db"
      },
      "outputs": [],
      "source": [
        "mb_b0_rule13"
      ]
    },
    {
      "cell_type": "code",
      "execution_count": null,
      "metadata": {
        "id": "4oZfdWrNP9z7"
      },
      "outputs": [],
      "source": [
        "mb_bpoly_rule13"
      ]
    },
    {
      "cell_type": "code",
      "execution_count": null,
      "metadata": {
        "id": "Bvp448soQBqW"
      },
      "outputs": [],
      "source": [
        "data_rule_13"
      ]
    },
    {
      "cell_type": "code",
      "execution_count": null,
      "metadata": {
        "id": "2VdUEBabQEvx"
      },
      "outputs": [],
      "source": [
        "X13=np.array(data_rule_13.iloc[::,:-1])\n",
        "X13"
      ]
    },
    {
      "cell_type": "code",
      "execution_count": null,
      "metadata": {
        "id": "DSRKnkkFQ6ac"
      },
      "outputs": [],
      "source": [
        "Y13=np.array(data_rule_13.iloc[:,3])\n",
        "Y13"
      ]
    },
    {
      "cell_type": "code",
      "execution_count": null,
      "metadata": {
        "id": "fZQ9jmCIQHyi"
      },
      "outputs": [],
      "source": [
        "# Membuat model regressi dengan library Scikit Learn\n",
        "from sklearn.preprocessing import PolynomialFeatures\n",
        "poly_reg = PolynomialFeatures(degree = 2)  ## nantinya degree(derajat) diganti menjadi 4\n",
        "X13_poly = poly_reg.fit_transform(X13)\n",
        "lin_reg_2 = LinearRegression()\n",
        "lin_reg_2.fit(X13_poly, Y13) \n",
        "# Proses Training Model\n",
        "poly_reg.fit(X13, Y13) \n",
        "\n",
        "# Memprediksi hasil dengan regresi polynomial\n",
        "y13_pred=lin_reg_2.predict(poly_reg.fit_transform(X13))\n",
        "y13_pred\n",
        "\n",
        "data_rule_13['pred'] = y13_pred\n",
        "data_rule_13"
      ]
    },
    {
      "cell_type": "markdown",
      "metadata": {
        "id": "ZcdChOOM12TQ"
      },
      "source": [
        "##Rule 14"
      ]
    },
    {
      "cell_type": "code",
      "execution_count": null,
      "metadata": {
        "id": "65lOcTPdQSHI"
      },
      "outputs": [],
      "source": [
        "#Rule 14\n",
        "rule_14 = df_fuzz[df_fuzz['Rule']==\" Jika X1 Muda dan X2 Normal dan X3 Meningkat dan X4 Rendah maka Y Nonliver\"]\n",
        "index=rule_14.index\n",
        "data_rule_14=df_fuzz.iloc[index,:5]\n",
        "data_rule_14"
      ]
    },
    {
      "cell_type": "code",
      "execution_count": null,
      "metadata": {
        "id": "C8eEiJ1vQc7c"
      },
      "outputs": [],
      "source": [
        "data_rule_14.to_csv('hasilrule14.csv') "
      ]
    },
    {
      "cell_type": "markdown",
      "metadata": {
        "id": "SW_TSWQN14T4"
      },
      "source": [
        "###Mini Batch Gradient Descent"
      ]
    },
    {
      "cell_type": "code",
      "execution_count": null,
      "metadata": {
        "id": "a65uM3oJQg8w"
      },
      "outputs": [],
      "source": [
        "import numpy as np\n",
        "import pandas as pd\n",
        "import matplotlib.pyplot as plt\n",
        "from sklearn.model_selection import train_test_split \n",
        "%matplotlib inline"
      ]
    },
    {
      "cell_type": "code",
      "execution_count": null,
      "metadata": {
        "id": "YYDAQ-BDQg1C"
      },
      "outputs": [],
      "source": [
        "df_rule14=pd.read_csv('hasilrule14.csv',sep=',')\n",
        "df_rule14"
      ]
    },
    {
      "cell_type": "code",
      "execution_count": null,
      "metadata": {
        "id": "OY7XuDtlQmrC"
      },
      "outputs": [],
      "source": [
        "df_rule14=df_rule14.drop(columns=['Unnamed: 0'])\n",
        "df_rule14"
      ]
    },
    {
      "cell_type": "code",
      "execution_count": null,
      "metadata": {
        "id": "vDYY9jdkQpWm"
      },
      "outputs": [],
      "source": [
        "from sklearn import preprocessing\n",
        "sx14 = preprocessing.MinMaxScaler()\n",
        "sy14 = preprocessing.MinMaxScaler()\n",
        "\n",
        "scaled_X14 = sx14.fit_transform(data_rule_14.drop('Liver_Disease',axis='columns'))\n",
        "scaled_y14 = sy14.fit_transform(data_rule_14['Liver_Disease'].values.reshape(rule_14.shape[0],1))\n",
        "\n",
        "scaled_X14"
      ]
    },
    {
      "cell_type": "code",
      "execution_count": null,
      "metadata": {
        "id": "mDCSRDUxQpOi"
      },
      "outputs": [],
      "source": [
        "scaled_y14_reshape=scaled_y14.reshape(scaled_y14.shape[0],)\n",
        "scaled_y14_reshape"
      ]
    },
    {
      "cell_type": "code",
      "execution_count": null,
      "metadata": {
        "id": "DgDCNrO1Qxsm"
      },
      "outputs": [],
      "source": [
        "def mini_batch_gradient_descent_rule14(X14, y14, iterasi, batch_size = 4, learning_rate = 0.0001):\n",
        "\n",
        "    jumlah_variabel_rule14 = X14.shape[1]                   # array numpy dengan 1 baris dan sejumlah kolom variabel\n",
        "                                                   # Contoh: X_array([[1,2], [3,4], [5,5], [6,6], [7,2], [8,1]])\n",
        "    \n",
        "    bpoly_rule14 = np.ones(shape=(jumlah_variabel_rule14))       # b1, b2, ... b(jumlah variabel)\n",
        "    b0_rule14 = 0                                         # b0 atau bias\n",
        "    n = X14.shape[0]                                 # jumlah baris data X\n",
        "    \n",
        "    if batch_size > n: \n",
        "        batch_size = n                             # Jika batch size > n maka akan menjadi bacth gradient descent biasa\n",
        "        \n",
        "    cost_rule14_list = []                                 # list untuk menampung nilai cost setiap iterasi\n",
        "    iterasi_rule14_list = []                              # list untuk menampung nilai n iterasi(1, 2, 3, ..., n)\n",
        "    b_rule14_list=[]                                      # list untuk menampung nilai parameter regresi b0, b1, .. b(jumlah_variabel) \n",
        "                                                   # setiap iterasi\n",
        "    \n",
        "    jumlah_batch_rule14 = int(n/batch_size)\n",
        "    \n",
        "    # Program akan berjalan hingga sejumlah iterasi=n dicapai\n",
        "    for i in range(iterasi):  \n",
        "        \n",
        "        random_indices = np.random.RandomState(seed=42).permutation(n)      # Memilih indeks data random untuk update parameter\n",
        "        X14_smntr = X14[random_indices]\n",
        "        y14_smntr = y14[random_indices]\n",
        "        \n",
        "        for j in range(0, n, batch_size):\n",
        "            Xj_rule14 = X14_smntr[j:j+batch_size]\n",
        "            yj_rule14 = y14_smntr[j:j+batch_size]\n",
        "            \n",
        "            y14_pred = np.dot(bpoly_rule14, Xj_rule14.T) + b0_rule14          # Menghitung y_pred pada setiap iterasi\n",
        "        \n",
        "            bpoly_rule14_grad = -(2/len(Xj_rule14))*(Xj_rule14.T.dot(yj_rule14-y14_pred))   # Menghitung perubahan/gradien bpoly setiap iterasi\n",
        "            b0_rule14_grad = -(2/len(Xj_rule14))*np.sum(yj_rule14-y14_pred)          # Menghitung perubahan/gradien b0 setiap iterasi\n",
        "            bpoly_rule14 = bpoly_rule14 - learning_rate * bpoly_rule14_grad        # Memperbaharui bpoly setiap iterasi\n",
        "            b0_rule14 = b0_rule14 - learning_rate * b0_rule14_grad                 # Memperbaharui bpoly setiap iterasi\n",
        "        \n",
        "            # Menyimpan parameter b dalam list tunggal\n",
        "            bp=[]\n",
        "            for jv_rule14 in range(jumlah_variabel_rule14):\n",
        "                bp_rule14=bpoly_rule14[jv_rule14]\n",
        "                bp.append(bp_rule14)\n",
        "            b_rule14=[b0_rule14]+bp\n",
        "        \n",
        "            cost_rule14 = np.mean(np.square(yj_rule14-y14_pred))       # MSE (Mean Squared Error)\n",
        "        \n",
        "        if i%100==0: # Hanya mengambil hasil pada iterasi kelipatan 10\n",
        "            cost_rule14_list.append(cost_rule14)                     # Menyimpan nilai cost setiap iterasi\n",
        "            iterasi_rule14_list.append(i)                     # Menyimpan nilai iterasi setiap iterasi\n",
        "            b_rule14_list.append(b_rule14)                           # Menyimpan nilai parameter b setiap iterasi\n",
        "        \n",
        "    return bpoly_rule14, b0_rule14, cost_rule14, b_rule14_list, cost_rule14_list, iterasi_rule14_list  # Output"
      ]
    },
    {
      "cell_type": "code",
      "execution_count": null,
      "metadata": {
        "id": "C3KcNfnWQzl-"
      },
      "outputs": [],
      "source": [
        "import time\n",
        "mulai_rule14 = time.time()\n",
        "mb_bpoly_rule14, mb_b0_rule14, mb_cost_rule14, mb_b_rule14_list, mb_cost_rule14_list, mb_iterasi_rule14_list=mini_batch_gradient_descent_rule14 (scaled_X14, \n",
        "                                                                                                                                        scaled_y14_reshape,\n",
        "                                                                                                                                        iterasi=10000, \n",
        "                                                                                                                                        batch_size = 4, \n",
        "                                                                                                                                        learning_rate = 0.0001)\n",
        "selesai_rule14 = time.time()\n",
        "waktu_komputasi_rule14 = (selesai_rule14 - mulai_rule14)\n",
        "print(\"Waktu Komputasi Rule 14: \",waktu_komputasi_rule14)"
      ]
    },
    {
      "cell_type": "code",
      "execution_count": null,
      "metadata": {
        "id": "YVf0ZiiiRuZC"
      },
      "outputs": [],
      "source": [
        "plt.xlabel(\"Iterasi Rule 14\")\n",
        "plt.ylabel(\"cost Rule 14\")\n",
        "plt.title(\"Mini Batch Gradient Descent Rule 14\")\n",
        "plt.plot(mb_iterasi_rule14_list,mb_cost_rule14_list, color='red', label='Eror')\n",
        "plt.show()"
      ]
    },
    {
      "cell_type": "code",
      "execution_count": null,
      "metadata": {
        "id": "mLfBiLIORwkP"
      },
      "outputs": [],
      "source": [
        "mb_cost_rule14"
      ]
    },
    {
      "cell_type": "code",
      "execution_count": null,
      "metadata": {
        "id": "zxL4UtukRyzx"
      },
      "outputs": [],
      "source": [
        "mb_b0_rule14"
      ]
    },
    {
      "cell_type": "code",
      "execution_count": null,
      "metadata": {
        "id": "r_fxk0gCR0nz"
      },
      "outputs": [],
      "source": [
        "mb_bpoly_rule14"
      ]
    },
    {
      "cell_type": "code",
      "execution_count": null,
      "metadata": {
        "id": "AlM7TXJUR2My"
      },
      "outputs": [],
      "source": [
        "data_rule_14"
      ]
    },
    {
      "cell_type": "code",
      "execution_count": null,
      "metadata": {
        "id": "YdEACrcaR4JX"
      },
      "outputs": [],
      "source": [
        "X14=np.array(data_rule_14.iloc[::,:-1])\n",
        "X14"
      ]
    },
    {
      "cell_type": "code",
      "execution_count": null,
      "metadata": {
        "id": "kRN6B8cYR6LN"
      },
      "outputs": [],
      "source": [
        "Y14=np.array(data_rule_14.iloc[:,3])\n",
        "Y14"
      ]
    },
    {
      "cell_type": "code",
      "execution_count": null,
      "metadata": {
        "id": "t4Dq24ItR8_I"
      },
      "outputs": [],
      "source": [
        "# Membuat model regressi dengan library Scikit Learn\n",
        "from sklearn.preprocessing import PolynomialFeatures\n",
        "poly_reg = PolynomialFeatures(degree = 2)  ## nantinya degree(derajat) diganti menjadi 4\n",
        "X14_poly = poly_reg.fit_transform(X14)\n",
        "lin_reg_2 = LinearRegression()\n",
        "lin_reg_2.fit(X14_poly, Y14) \n",
        "# Proses Training Model\n",
        "poly_reg.fit(X14, Y14) \n",
        "\n",
        "# Memprediksi hasil dengan regresi polynomial\n",
        "y14_pred=lin_reg_2.predict(poly_reg.fit_transform(X14))\n",
        "y14_pred\n",
        "\n",
        "data_rule_14['pred'] = y14_pred\n",
        "data_rule_14"
      ]
    },
    {
      "cell_type": "markdown",
      "metadata": {
        "id": "iVV0nUVO18RB"
      },
      "source": [
        "##Rule 15"
      ]
    },
    {
      "cell_type": "code",
      "execution_count": null,
      "metadata": {
        "id": "gwCZ16u4SAms"
      },
      "outputs": [],
      "source": [
        "#Rule 15\n",
        "rule_15 = df_fuzz[df_fuzz['Rule']==\" Jika X1 Muda dan X2 Normal dan X3 Menurun dan X4 Normal maka Y Nonliver\"]\n",
        "index=rule_15.index\n",
        "data_rule_15=df_fuzz.iloc[index,:5]\n",
        "data_rule_15"
      ]
    },
    {
      "cell_type": "code",
      "execution_count": null,
      "metadata": {
        "id": "tAQ28_M1SLCx"
      },
      "outputs": [],
      "source": [
        "data_rule_15.to_csv('hasilrule15.csv') "
      ]
    },
    {
      "cell_type": "markdown",
      "metadata": {
        "id": "SHdibYK419-h"
      },
      "source": [
        "###Mini Batch Gradient Descent"
      ]
    },
    {
      "cell_type": "code",
      "execution_count": null,
      "metadata": {
        "id": "R0JfIMjzSPZJ"
      },
      "outputs": [],
      "source": [
        "import numpy as np\n",
        "import pandas as pd\n",
        "import matplotlib.pyplot as plt\n",
        "from sklearn.model_selection import train_test_split \n",
        "%matplotlib inline"
      ]
    },
    {
      "cell_type": "code",
      "execution_count": null,
      "metadata": {
        "id": "6Gvr44ZJSRQY"
      },
      "outputs": [],
      "source": [
        "df_rule15=pd.read_csv('hasilrule15.csv',sep=',')\n",
        "df_rule15"
      ]
    },
    {
      "cell_type": "code",
      "execution_count": null,
      "metadata": {
        "id": "z_YNXSFbSWmu"
      },
      "outputs": [],
      "source": [
        "df_rule15=df_rule15.drop(columns=['Unnamed: 0'])\n",
        "df_rule15"
      ]
    },
    {
      "cell_type": "code",
      "execution_count": null,
      "metadata": {
        "id": "5YZapbQeSaDG"
      },
      "outputs": [],
      "source": [
        "from sklearn import preprocessing\n",
        "sx15 = preprocessing.MinMaxScaler()\n",
        "sy15 = preprocessing.MinMaxScaler()\n",
        "\n",
        "scaled_X15 = sx15.fit_transform(data_rule_15.drop('Liver_Disease',axis='columns'))\n",
        "scaled_y15 = sy15.fit_transform(data_rule_15['Liver_Disease'].values.reshape(rule_15.shape[0],1))\n",
        "\n",
        "scaled_X15"
      ]
    },
    {
      "cell_type": "code",
      "execution_count": null,
      "metadata": {
        "id": "xIvVMOZXSjf6"
      },
      "outputs": [],
      "source": [
        "scaled_y15_reshape=scaled_y15.reshape(scaled_y15.shape[0],)\n",
        "scaled_y15_reshape"
      ]
    },
    {
      "cell_type": "code",
      "execution_count": null,
      "metadata": {
        "id": "ZZpFey-yWKWA"
      },
      "outputs": [],
      "source": [
        "def mini_batch_gradient_descent_rule15(X15, y15, iterasi, batch_size = 4, learning_rate = 0.0001):\n",
        "\n",
        "    jumlah_variabel_rule15 = X15.shape[1]                   # array numpy dengan 1 baris dan sejumlah kolom variabel\n",
        "                                                   # Contoh: X_array([[1,2], [3,4], [5,5], [6,6], [7,2], [8,1]])\n",
        "    \n",
        "    bpoly_rule15 = np.ones(shape=(jumlah_variabel_rule15))       # b1, b2, ... b(jumlah variabel)\n",
        "    b0_rule15 = 0                                         # b0 atau bias\n",
        "    n = X15.shape[0]                                 # jumlah baris data X\n",
        "    \n",
        "    if batch_size > n: \n",
        "        batch_size = n                             # Jika batch size > n maka akan menjadi bacth gradient descent biasa\n",
        "        \n",
        "    cost_rule15_list = []                                 # list untuk menampung nilai cost setiap iterasi\n",
        "    iterasi_rule15_list = []                              # list untuk menampung nilai n iterasi(1, 2, 3, ..., n)\n",
        "    b_rule15_list=[]                                      # list untuk menampung nilai parameter regresi b0, b1, .. b(jumlah_variabel) \n",
        "                                                   # setiap iterasi\n",
        "    \n",
        "    jumlah_batch_rule15 = int(n/batch_size)\n",
        "    \n",
        "    # Program akan berjalan hingga sejumlah iterasi=n dicapai\n",
        "    for i in range(iterasi):  \n",
        "        \n",
        "        random_indices = np.random.RandomState(seed=42).permutation(n)      # Memilih indeks data random untuk update parameter\n",
        "        X15_smntr = X15[random_indices]\n",
        "        y15_smntr = y15[random_indices]\n",
        "        \n",
        "        for j in range(0, n, batch_size):\n",
        "            Xj_rule15 = X15_smntr[j:j+batch_size]\n",
        "            yj_rule15 = y15_smntr[j:j+batch_size]\n",
        "            \n",
        "            y15_pred = np.dot(bpoly_rule15, Xj_rule15.T) + b0_rule15          # Menghitung y_pred pada setiap iterasi\n",
        "        \n",
        "            bpoly_rule15_grad = -(2/len(Xj_rule15))*(Xj_rule15.T.dot(yj_rule15-y15_pred))   # Menghitung perubahan/gradien bpoly setiap iterasi\n",
        "            b0_rule15_grad = -(2/len(Xj_rule15))*np.sum(yj_rule15-y15_pred)          # Menghitung perubahan/gradien b0 setiap iterasi\n",
        "            bpoly_rule15 = bpoly_rule15 - learning_rate * bpoly_rule15_grad        # Memperbaharui bpoly setiap iterasi\n",
        "            b0_rule15 = b0_rule15 - learning_rate * b0_rule15_grad                 # Memperbaharui bpoly setiap iterasi\n",
        "        \n",
        "            # Menyimpan parameter b dalam list tunggal\n",
        "            bp=[]\n",
        "            for jv_rule15 in range(jumlah_variabel_rule15):\n",
        "                bp_rule15=bpoly_rule15[jv_rule15]\n",
        "                bp.append(bp_rule15)\n",
        "            b_rule15=[b0_rule15]+bp\n",
        "        \n",
        "            cost_rule15 = np.mean(np.square(yj_rule15-y15_pred))       # MSE (Mean Squared Error)\n",
        "        \n",
        "        if i%100==0: # Hanya mengambil hasil pada iterasi kelipatan 10\n",
        "            cost_rule15_list.append(cost_rule15)                     # Menyimpan nilai cost setiap iterasi\n",
        "            iterasi_rule15_list.append(i)                     # Menyimpan nilai iterasi setiap iterasi\n",
        "            b_rule15_list.append(b_rule15)                           # Menyimpan nilai parameter b setiap iterasi\n",
        "        \n",
        "    return bpoly_rule15, b0_rule15, cost_rule15, b_rule15_list, cost_rule15_list, iterasi_rule15_list  # Output"
      ]
    },
    {
      "cell_type": "code",
      "execution_count": null,
      "metadata": {
        "id": "8c8gR58OUrOf"
      },
      "outputs": [],
      "source": [
        "import time\n",
        "mulai_rule15 = time.time()\n",
        "mb_bpoly_rule15, mb_b0_rule15, mb_cost_rule15, mb_b_rule15_list, mb_cost_rule15_list, mb_iterasi_rule15_list=mini_batch_gradient_descent_rule15 (scaled_X15, \n",
        "                                                                                                                                        scaled_y15_reshape,\n",
        "                                                                                                                                        iterasi=10000, \n",
        "                                                                                                                                        batch_size = 4, \n",
        "                                                                                                                                        learning_rate = 0.0001)\n",
        "selesai_rule15 = time.time()\n",
        "waktu_komputasi_rule15 = (selesai_rule15 - mulai_rule15)\n",
        "print(\"Waktu Komputasi Rule 15: \",waktu_komputasi_rule15)"
      ]
    },
    {
      "cell_type": "code",
      "execution_count": null,
      "metadata": {
        "id": "aAFcAJT24cHU"
      },
      "outputs": [],
      "source": [
        "plt.xlabel(\"Iterasi Rule 15\")\n",
        "plt.ylabel(\"cost Rule 15\")\n",
        "plt.title(\"Mini Batch Gradient Descent Rule 15\")\n",
        "plt.plot(mb_iterasi_rule15_list,mb_cost_rule15_list, color='red', label='Eror')\n",
        "plt.show()"
      ]
    },
    {
      "cell_type": "code",
      "execution_count": null,
      "metadata": {
        "id": "5vdzWVso1MnA"
      },
      "outputs": [],
      "source": [
        "mb_cost_rule15"
      ]
    },
    {
      "cell_type": "code",
      "execution_count": null,
      "metadata": {
        "id": "OHVt81_w3QAj"
      },
      "outputs": [],
      "source": [
        "mb_b0_rule15"
      ]
    },
    {
      "cell_type": "code",
      "execution_count": null,
      "metadata": {
        "id": "iodBfKxQ33k3"
      },
      "outputs": [],
      "source": [
        "mb_bpoly_rule15"
      ]
    },
    {
      "cell_type": "code",
      "execution_count": null,
      "metadata": {
        "id": "eYvEfYDy35ip"
      },
      "outputs": [],
      "source": [
        "data_rule_15"
      ]
    },
    {
      "cell_type": "code",
      "execution_count": null,
      "metadata": {
        "id": "tOMK8Ovp37OW"
      },
      "outputs": [],
      "source": [
        "X15=np.array(data_rule_15.iloc[::,:-1])\n",
        "X15"
      ]
    },
    {
      "cell_type": "code",
      "execution_count": null,
      "metadata": {
        "id": "BBTpjY4B386L"
      },
      "outputs": [],
      "source": [
        "Y15=np.array(data_rule_15.iloc[:,3])\n",
        "Y15"
      ]
    },
    {
      "cell_type": "code",
      "execution_count": null,
      "metadata": {
        "id": "ozDPgYtT3-f8"
      },
      "outputs": [],
      "source": [
        "# Membuat model regressi dengan library Scikit Learn\n",
        "from sklearn.preprocessing import PolynomialFeatures\n",
        "poly_reg = PolynomialFeatures(degree = 2)  ## nantinya degree(derajat) diganti menjadi 4\n",
        "X15_poly = poly_reg.fit_transform(X15)\n",
        "lin_reg_2 = LinearRegression()\n",
        "lin_reg_2.fit(X15_poly, Y15) \n",
        "# Proses Training Model\n",
        "poly_reg.fit(X15, Y15) \n",
        "\n",
        "# Memprediksi hasil dengan regresi polynomial\n",
        "y15_pred=lin_reg_2.predict(poly_reg.fit_transform(X15))\n",
        "y15_pred\n",
        "\n",
        "data_rule_15['pred'] = y15_pred\n",
        "data_rule_15"
      ]
    },
    {
      "cell_type": "markdown",
      "metadata": {
        "id": "RMjG_do12Bsi"
      },
      "source": [
        "##Rule 16"
      ]
    },
    {
      "cell_type": "code",
      "execution_count": null,
      "metadata": {
        "id": "S7y0xnJ24BIc"
      },
      "outputs": [],
      "source": [
        "#Rule 16\n",
        "rule_16 = df_fuzz[df_fuzz['Rule']==\" Jika X1 Tua dan X2 Rendah dan X3 Normal dan X4 Rendah maka Y Nonliver\"]\n",
        "index=rule_16.index\n",
        "data_rule_16=df_fuzz.iloc[index,:5]\n",
        "data_rule_16"
      ]
    },
    {
      "cell_type": "code",
      "execution_count": null,
      "metadata": {
        "id": "YhAKy4ve5wCU"
      },
      "outputs": [],
      "source": [
        "data_rule_16.to_csv('hasilrule16.csv') "
      ]
    },
    {
      "cell_type": "markdown",
      "metadata": {
        "id": "pr-B5rma2FQS"
      },
      "source": [
        "###Mini Batch Gradient Descent"
      ]
    },
    {
      "cell_type": "code",
      "execution_count": null,
      "metadata": {
        "id": "i5F6C1D24JgO"
      },
      "outputs": [],
      "source": [
        "import numpy as np\n",
        "import pandas as pd\n",
        "import matplotlib.pyplot as plt\n",
        "from sklearn.model_selection import train_test_split \n",
        "%matplotlib inline"
      ]
    },
    {
      "cell_type": "code",
      "execution_count": null,
      "metadata": {
        "id": "B9haTgGs4KOG"
      },
      "outputs": [],
      "source": [
        "df_rule16=pd.read_csv('hasilrule16.csv',sep=',')\n",
        "df_rule16"
      ]
    },
    {
      "cell_type": "code",
      "execution_count": null,
      "metadata": {
        "id": "4VEVSN5q50BH"
      },
      "outputs": [],
      "source": [
        "df_rule16=df_rule16.drop(columns=['Unnamed: 0'])\n",
        "df_rule16"
      ]
    },
    {
      "cell_type": "code",
      "execution_count": null,
      "metadata": {
        "id": "1yccUAcw51sa"
      },
      "outputs": [],
      "source": [
        "from sklearn import preprocessing\n",
        "sx16 = preprocessing.MinMaxScaler()\n",
        "sy16 = preprocessing.MinMaxScaler()\n",
        "\n",
        "scaled_X16 = sx16.fit_transform(data_rule_16.drop('Liver_Disease',axis='columns'))\n",
        "scaled_y16 = sy16.fit_transform(data_rule_16['Liver_Disease'].values.reshape(rule_16.shape[0],1))\n",
        "\n",
        "scaled_X16"
      ]
    },
    {
      "cell_type": "code",
      "execution_count": null,
      "metadata": {
        "id": "hvss1w6655Ok"
      },
      "outputs": [],
      "source": [
        "scaled_y16_reshape=scaled_y16.reshape(scaled_y16.shape[0],)\n",
        "scaled_y16_reshape"
      ]
    },
    {
      "cell_type": "code",
      "execution_count": null,
      "metadata": {
        "id": "OCFy3PSw564b"
      },
      "outputs": [],
      "source": [
        "def mini_batch_gradient_descent_rule16(X16, y16, iterasi, batch_size = 4, learning_rate = 0.0001):\n",
        "\n",
        "    jumlah_variabel_rule16 = X16.shape[1]                   # array numpy dengan 1 baris dan sejumlah kolom variabel\n",
        "                                                   # Contoh: X_array([[1,2], [3,4], [5,5], [6,6], [7,2], [8,1]])\n",
        "    \n",
        "    bpoly_rule16 = np.ones(shape=(jumlah_variabel_rule16))       # b1, b2, ... b(jumlah variabel)\n",
        "    b0_rule16 = 0                                         # b0 atau bias\n",
        "    n = X16.shape[0]                                 # jumlah baris data X\n",
        "    \n",
        "    if batch_size > n: \n",
        "        batch_size = n                             # Jika batch size > n maka akan menjadi bacth gradient descent biasa\n",
        "        \n",
        "    cost_rule16_list = []                                 # list untuk menampung nilai cost setiap iterasi\n",
        "    iterasi_rule16_list = []                              # list untuk menampung nilai n iterasi(1, 2, 3, ..., n)\n",
        "    b_rule16_list=[]                                      # list untuk menampung nilai parameter regresi b0, b1, .. b(jumlah_variabel) \n",
        "                                                   # setiap iterasi\n",
        "    \n",
        "    jumlah_batch_rule16 = int(n/batch_size)\n",
        "    \n",
        "    # Program akan berjalan hingga sejumlah iterasi=n dicapai\n",
        "    for i in range(iterasi):  \n",
        "        \n",
        "        random_indices = np.random.RandomState(seed=42).permutation(n)      # Memilih indeks data random untuk update parameter\n",
        "        X16_smntr = X16[random_indices]\n",
        "        y16_smntr = y16[random_indices]\n",
        "        \n",
        "        for j in range(0, n, batch_size):\n",
        "            Xj_rule16 = X16_smntr[j:j+batch_size]\n",
        "            yj_rule16 = y16_smntr[j:j+batch_size]\n",
        "            \n",
        "            y16_pred = np.dot(bpoly_rule16, Xj_rule16.T) + b0_rule16          # Menghitung y_pred pada setiap iterasi\n",
        "        \n",
        "            bpoly_rule16_grad = -(2/len(Xj_rule16))*(Xj_rule16.T.dot(yj_rule16-y16_pred))   # Menghitung perubahan/gradien bpoly setiap iterasi\n",
        "            b0_rule16_grad = -(2/len(Xj_rule16))*np.sum(yj_rule16-y16_pred)          # Menghitung perubahan/gradien b0 setiap iterasi\n",
        "            bpoly_rule16 = bpoly_rule16 - learning_rate * bpoly_rule16_grad        # Memperbaharui bpoly setiap iterasi\n",
        "            b0_rule16 = b0_rule16 - learning_rate * b0_rule16_grad                 # Memperbaharui bpoly setiap iterasi\n",
        "        \n",
        "            # Menyimpan parameter b dalam list tunggal\n",
        "            bp=[]\n",
        "            for jv_rule16 in range(jumlah_variabel_rule16):\n",
        "                bp_rule16=bpoly_rule16[jv_rule16]\n",
        "                bp.append(bp_rule16)\n",
        "            b_rule16=[b0_rule16]+bp\n",
        "        \n",
        "            cost_rule16 = np.mean(np.square(yj_rule16-y16_pred))       # MSE (Mean Squared Error)\n",
        "        \n",
        "        if i%100==0: # Hanya mengambil hasil pada iterasi kelipatan 10\n",
        "            cost_rule16_list.append(cost_rule16)                     # Menyimpan nilai cost setiap iterasi\n",
        "            iterasi_rule16_list.append(i)                     # Menyimpan nilai iterasi setiap iterasi\n",
        "            b_rule16_list.append(b_rule16)                           # Menyimpan nilai parameter b setiap iterasi\n",
        "        \n",
        "    return bpoly_rule16, b0_rule16, cost_rule16, b_rule16_list, cost_rule16_list, iterasi_rule16_list  # Output"
      ]
    },
    {
      "cell_type": "code",
      "execution_count": null,
      "metadata": {
        "id": "_3w3NZ1Q6ChR"
      },
      "outputs": [],
      "source": [
        "import time\n",
        "mulai_rule16 = time.time()\n",
        "mb_bpoly_rule16, mb_b0_rule16, mb_cost_rule16, mb_b_rule16_list, mb_cost_rule16_list, mb_iterasi_rule16_list=mini_batch_gradient_descent_rule16 (scaled_X16, \n",
        "                                                                                                                                        scaled_y16_reshape,\n",
        "                                                                                                                                        iterasi=10000, \n",
        "                                                                                                                                        batch_size = 4, \n",
        "                                                                                                                                        learning_rate = 0.0001)\n",
        "selesai_rule16 = time.time()\n",
        "waktu_komputasi_rule16 = (selesai_rule16 - mulai_rule16)\n",
        "print(\"Waktu Komputasi Rule 16: \",waktu_komputasi_rule16)"
      ]
    },
    {
      "cell_type": "code",
      "execution_count": null,
      "metadata": {
        "id": "yRXbOd5h6G0p"
      },
      "outputs": [],
      "source": [
        "plt.xlabel(\"Iterasi Rule 16\")\n",
        "plt.ylabel(\"cost Rule 16\")\n",
        "plt.title(\"Mini Batch Gradient Descent Rule 16\")\n",
        "plt.plot(mb_iterasi_rule14_list,mb_cost_rule16_list, color='red', label='Eror')\n",
        "plt.show()"
      ]
    },
    {
      "cell_type": "code",
      "execution_count": null,
      "metadata": {
        "id": "adYvjDjb6Iic"
      },
      "outputs": [],
      "source": [
        "mb_cost_rule16"
      ]
    },
    {
      "cell_type": "code",
      "execution_count": null,
      "metadata": {
        "id": "q5VgYbnj6JuR"
      },
      "outputs": [],
      "source": [
        "mb_b0_rule16"
      ]
    },
    {
      "cell_type": "code",
      "execution_count": null,
      "metadata": {
        "id": "3CNkMINw6LYh"
      },
      "outputs": [],
      "source": [
        "mb_bpoly_rule16"
      ]
    },
    {
      "cell_type": "code",
      "execution_count": null,
      "metadata": {
        "id": "R_5xszIB6M-P"
      },
      "outputs": [],
      "source": [
        "data_rule_16"
      ]
    },
    {
      "cell_type": "code",
      "execution_count": null,
      "metadata": {
        "id": "yUFMa4pv6P-x"
      },
      "outputs": [],
      "source": [
        "X16=np.array(data_rule_16.iloc[::,:-1])\n",
        "X16"
      ]
    },
    {
      "cell_type": "code",
      "execution_count": null,
      "metadata": {
        "id": "Xv5HPtQe6SVB"
      },
      "outputs": [],
      "source": [
        "Y16=np.array(data_rule_16.iloc[:,3])\n",
        "Y16"
      ]
    },
    {
      "cell_type": "code",
      "execution_count": null,
      "metadata": {
        "id": "tC_sP3J86YaE"
      },
      "outputs": [],
      "source": [
        "# Membuat model regressi dengan library Scikit Learn\n",
        "from sklearn.preprocessing import PolynomialFeatures\n",
        "poly_reg = PolynomialFeatures(degree = 2)  ## nantinya degree(derajat) diganti menjadi 4\n",
        "X16_poly = poly_reg.fit_transform(X16)\n",
        "lin_reg_2 = LinearRegression()\n",
        "lin_reg_2.fit(X16_poly, Y16) \n",
        "# Proses Training Model\n",
        "poly_reg.fit(X16, Y16) \n",
        "\n",
        "# Memprediksi hasil dengan regresi polynomial\n",
        "y16_pred=lin_reg_2.predict(poly_reg.fit_transform(X16))\n",
        "y16_pred\n",
        "\n",
        "data_rule_16['pred'] = y16_pred\n",
        "data_rule_16"
      ]
    },
    {
      "cell_type": "markdown",
      "metadata": {
        "id": "GPtrJew84O4u"
      },
      "source": [
        "##Rule 17"
      ]
    },
    {
      "cell_type": "code",
      "execution_count": null,
      "metadata": {
        "id": "jB5IunU94ObD"
      },
      "outputs": [],
      "source": [
        "#Rule 17\n",
        "rule_17 = df_fuzz[df_fuzz['Rule']==\" Jika X1 Tua dan X2 Normal dan X3 Normal dan X4 Rendah maka Y Liver\"]\n",
        "index=rule_17.index\n",
        "data_rule_17=df_fuzz.iloc[index,:5]\n",
        "data_rule_17"
      ]
    },
    {
      "cell_type": "code",
      "execution_count": null,
      "metadata": {
        "id": "bI6vIpX04UyN"
      },
      "outputs": [],
      "source": [
        "data_rule_17.to_csv('hasilrule17.csv') "
      ]
    },
    {
      "cell_type": "markdown",
      "metadata": {
        "id": "c5XN6EmECikb"
      },
      "source": [
        "###Mini Batch Gradient Descent"
      ]
    },
    {
      "cell_type": "code",
      "execution_count": null,
      "metadata": {
        "id": "L7evPlfXClmQ"
      },
      "outputs": [],
      "source": [
        "import numpy as np\n",
        "import pandas as pd\n",
        "import matplotlib.pyplot as plt\n",
        "from sklearn.model_selection import train_test_split \n",
        "%matplotlib inline"
      ]
    },
    {
      "cell_type": "code",
      "execution_count": null,
      "metadata": {
        "id": "4PXDiYoACmP9"
      },
      "outputs": [],
      "source": [
        "df_rule17=pd.read_csv('hasilrule17.csv',sep=',')\n",
        "df_rule17"
      ]
    },
    {
      "cell_type": "code",
      "execution_count": null,
      "metadata": {
        "id": "hG6EgTM4D-1r"
      },
      "outputs": [],
      "source": [
        "df_rule17=df_rule17.drop(columns=['Unnamed: 0'])\n",
        "df_rule17"
      ]
    },
    {
      "cell_type": "code",
      "execution_count": null,
      "metadata": {
        "id": "OYIsBF6gEAuN"
      },
      "outputs": [],
      "source": [
        "from sklearn import preprocessing\n",
        "sx17 = preprocessing.MinMaxScaler()\n",
        "sy17 = preprocessing.MinMaxScaler()\n",
        "\n",
        "scaled_X17 = sx17.fit_transform(data_rule_17.drop('Liver_Disease',axis='columns'))\n",
        "scaled_y17 = sy17.fit_transform(data_rule_17['Liver_Disease'].values.reshape(rule_17.shape[0],1))\n",
        "\n",
        "scaled_X17"
      ]
    },
    {
      "cell_type": "code",
      "execution_count": null,
      "metadata": {
        "id": "JDkj-c1PEDHX"
      },
      "outputs": [],
      "source": [
        "scaled_y17_reshape=scaled_y17.reshape(scaled_y17.shape[0],)\n",
        "scaled_y17_reshape"
      ]
    },
    {
      "cell_type": "code",
      "execution_count": null,
      "metadata": {
        "id": "LewM_LkjEGJ3"
      },
      "outputs": [],
      "source": [
        "def mini_batch_gradient_descent_rule17(X17, y17, iterasi, batch_size = 3, learning_rate = 0.0001):\n",
        "\n",
        "    jumlah_variabel_rule17 = X17.shape[1]                   # array numpy dengan 1 baris dan sejumlah kolom variabel\n",
        "                                                   # Contoh: X_array([[1,2], [3,4], [5,5], [6,6], [7,2], [8,1]])\n",
        "    \n",
        "    bpoly_rule17 = np.ones(shape=(jumlah_variabel_rule17))       # b1, b2, ... b(jumlah variabel)\n",
        "    b0_rule17 = 0                                         # b0 atau bias\n",
        "    n = X17.shape[0]                                 # jumlah baris data X\n",
        "    \n",
        "    if batch_size > n: \n",
        "        batch_size = n                             # Jika batch size > n maka akan menjadi bacth gradient descent biasa\n",
        "        \n",
        "    cost_rule17_list = []                                 # list untuk menampung nilai cost setiap iterasi\n",
        "    iterasi_rule17_list = []                              # list untuk menampung nilai n iterasi(1, 2, 3, ..., n)\n",
        "    b_rule17_list=[]                                      # list untuk menampung nilai parameter regresi b0, b1, .. b(jumlah_variabel) \n",
        "                                                   # setiap iterasi\n",
        "    \n",
        "    jumlah_batch_rule17 = int(n/batch_size)\n",
        "    \n",
        "    # Program akan berjalan hingga sejumlah iterasi=n dicapai\n",
        "    for i in range(iterasi):  \n",
        "        \n",
        "        random_indices = np.random.RandomState(seed=42).permutation(n)      # Memilih indeks data random untuk update parameter\n",
        "        X17_smntr = X17[random_indices]\n",
        "        y17_smntr = y17[random_indices]\n",
        "        \n",
        "        for j in range(0, n, batch_size):\n",
        "            Xj_rule17 = X17_smntr[j:j+batch_size]\n",
        "            yj_rule17 = y17_smntr[j:j+batch_size]\n",
        "            \n",
        "            y17_pred = np.dot(bpoly_rule17, Xj_rule17.T) + b0_rule17          # Menghitung y_pred pada setiap iterasi\n",
        "        \n",
        "            bpoly_rule17_grad = -(2/len(Xj_rule17))*(Xj_rule17.T.dot(yj_rule17-y17_pred))   # Menghitung perubahan/gradien bpoly setiap iterasi\n",
        "            b0_rule17_grad = -(2/len(Xj_rule17))*np.sum(yj_rule17-y17_pred)          # Menghitung perubahan/gradien b0 setiap iterasi\n",
        "            bpoly_rule17 = bpoly_rule17 - learning_rate * bpoly_rule17_grad        # Memperbaharui bpoly setiap iterasi\n",
        "            b0_rule17 = b0_rule17 - learning_rate * b0_rule17_grad                 # Memperbaharui bpoly setiap iterasi\n",
        "        \n",
        "            # Menyimpan parameter b dalam list tunggal\n",
        "            bp=[]\n",
        "            for jv_rule17 in range(jumlah_variabel_rule17):\n",
        "                bp_rule17=bpoly_rule17[jv_rule17]\n",
        "                bp.append(bp_rule17)\n",
        "            b_rule17=[b0_rule17]+bp\n",
        "        \n",
        "            cost_rule17 = np.mean(np.square(yj_rule17-y17_pred))       # MSE (Mean Squared Error)\n",
        "        \n",
        "        if i%100==0: # Hanya mengambil hasil pada iterasi kelipatan 10\n",
        "            cost_rule17_list.append(cost_rule17)                     # Menyimpan nilai cost setiap iterasi\n",
        "            iterasi_rule17_list.append(i)                     # Menyimpan nilai iterasi setiap iterasi\n",
        "            b_rule17_list.append(b_rule17)                           # Menyimpan nilai parameter b setiap iterasi\n",
        "        \n",
        "    return bpoly_rule17, b0_rule17, cost_rule17, b_rule17_list, cost_rule17_list, iterasi_rule17_list  # Output"
      ]
    },
    {
      "cell_type": "code",
      "execution_count": null,
      "metadata": {
        "id": "a1Y7jnV-ELnf"
      },
      "outputs": [],
      "source": [
        "import time\n",
        "mulai_rule17 = time.time()\n",
        "mb_bpoly_rule17, mb_b0_rule17, mb_cost_rule17, mb_b_rule17_list, mb_cost_rule17_list, mb_iterasi_rule17_list=mini_batch_gradient_descent_rule17 (scaled_X17, \n",
        "                                                                                                                                        scaled_y17_reshape,\n",
        "                                                                                                                                        iterasi=10000, \n",
        "                                                                                                                                        batch_size = 3, \n",
        "                                                                                                                                        learning_rate = 0.0001)\n",
        "selesai_rule17 = time.time()\n",
        "waktu_komputasi_rule17 = (selesai_rule17 - mulai_rule17)\n",
        "print(\"Waktu Komputasi Rule 17: \",waktu_komputasi_rule17)"
      ]
    },
    {
      "cell_type": "code",
      "execution_count": null,
      "metadata": {
        "id": "T94SY5uzEOXn"
      },
      "outputs": [],
      "source": [
        "plt.xlabel(\"Iterasi Rule 17\")\n",
        "plt.ylabel(\"cost Rule 17\")\n",
        "plt.title(\"Mini Batch Gradient Descent Rule 17\")\n",
        "plt.plot(mb_iterasi_rule14_list,mb_cost_rule17_list, color='red', label='Eror')\n",
        "plt.show()"
      ]
    },
    {
      "cell_type": "code",
      "execution_count": null,
      "metadata": {
        "id": "7yQDY6aWER2p"
      },
      "outputs": [],
      "source": [
        "mb_cost_rule17"
      ]
    },
    {
      "cell_type": "code",
      "execution_count": null,
      "metadata": {
        "id": "-oE7axbYESZ4"
      },
      "outputs": [],
      "source": [
        "mb_b0_rule17"
      ]
    },
    {
      "cell_type": "code",
      "execution_count": null,
      "metadata": {
        "id": "7Td2L9WQEUkF"
      },
      "outputs": [],
      "source": [
        "mb_bpoly_rule17"
      ]
    },
    {
      "cell_type": "markdown",
      "metadata": {
        "id": "iJV3GYZJ4kN_"
      },
      "source": [
        "##Rule 18"
      ]
    },
    {
      "cell_type": "code",
      "execution_count": null,
      "metadata": {
        "id": "ZB8KCXFu4mPJ"
      },
      "outputs": [],
      "source": [
        "#Rule 18\n",
        "rule_18 = df_fuzz[df_fuzz['Rule']==\" Jika X1 Tua dan X2 Rendah dan X3 Menurun dan X4 Rendah maka Y Nonliver\"]\n",
        "index=rule_18.index\n",
        "data_rule_18=df_fuzz.iloc[index,:5]\n",
        "data_rule_18"
      ]
    },
    {
      "cell_type": "code",
      "execution_count": null,
      "metadata": {
        "id": "faU-8gGq47ja"
      },
      "outputs": [],
      "source": [
        "data_rule_18.to_csv('hasilrule18.csv')"
      ]
    },
    {
      "cell_type": "markdown",
      "metadata": {
        "id": "UTQzIRKJEXtN"
      },
      "source": [
        "###Mini Batch Gradient Descent"
      ]
    },
    {
      "cell_type": "code",
      "execution_count": null,
      "metadata": {
        "id": "kwM4f0tAFyM1"
      },
      "outputs": [],
      "source": [
        "import numpy as np\n",
        "import pandas as pd\n",
        "import matplotlib.pyplot as plt\n",
        "from sklearn.model_selection import train_test_split \n",
        "%matplotlib inline"
      ]
    },
    {
      "cell_type": "code",
      "execution_count": null,
      "metadata": {
        "id": "K93ZfkdiEV9s"
      },
      "outputs": [],
      "source": [
        "df_rule18=pd.read_csv('hasilrule18.csv',sep=',')\n",
        "df_rule18"
      ]
    },
    {
      "cell_type": "code",
      "execution_count": null,
      "metadata": {
        "id": "5wZqCVwLFxfu"
      },
      "outputs": [],
      "source": [
        "df_rule18=df_rule18.drop(columns=['Unnamed: 0'])\n",
        "df_rule18"
      ]
    },
    {
      "cell_type": "code",
      "execution_count": null,
      "metadata": {
        "id": "_sGik63zF5h9"
      },
      "outputs": [],
      "source": [
        "from sklearn import preprocessing\n",
        "sx18 = preprocessing.MinMaxScaler()\n",
        "sy18 = preprocessing.MinMaxScaler()\n",
        "\n",
        "scaled_X18 = sx18.fit_transform(data_rule_18.drop('Liver_Disease',axis='columns'))\n",
        "scaled_y18 = sy18.fit_transform(data_rule_18['Liver_Disease'].values.reshape(rule_18.shape[0],1))\n",
        "\n",
        "scaled_X18"
      ]
    },
    {
      "cell_type": "code",
      "execution_count": null,
      "metadata": {
        "id": "T9xkzWc6F6xW"
      },
      "outputs": [],
      "source": [
        "scaled_y18_reshape=scaled_y18.reshape(scaled_y18.shape[0],)\n",
        "scaled_y18_reshape"
      ]
    },
    {
      "cell_type": "code",
      "execution_count": null,
      "metadata": {
        "id": "v0-4HntWF8Yu"
      },
      "outputs": [],
      "source": [
        "def mini_batch_gradient_descent_rule18(X18, y18, iterasi, batch_size = 3, learning_rate = 0.0001):\n",
        "\n",
        "    jumlah_variabel_rule18 = X18.shape[1]                   # array numpy dengan 1 baris dan sejumlah kolom variabel\n",
        "                                                   # Contoh: X_array([[1,2], [3,4], [5,5], [6,6], [7,2], [8,1]])\n",
        "    \n",
        "    bpoly_rule18 = np.ones(shape=(jumlah_variabel_rule18))       # b1, b2, ... b(jumlah variabel)\n",
        "    b0_rule18 = 0                                         # b0 atau bias\n",
        "    n = X18.shape[0]                                 # jumlah baris data X\n",
        "    \n",
        "    if batch_size > n: \n",
        "        batch_size = n                             # Jika batch size > n maka akan menjadi bacth gradient descent biasa\n",
        "        \n",
        "    cost_rule18_list = []                                 # list untuk menampung nilai cost setiap iterasi\n",
        "    iterasi_rule18_list = []                              # list untuk menampung nilai n iterasi(1, 2, 3, ..., n)\n",
        "    b_rule18_list=[]                                      # list untuk menampung nilai parameter regresi b0, b1, .. b(jumlah_variabel) \n",
        "                                                   # setiap iterasi\n",
        "    \n",
        "    jumlah_batch_rule18 = int(n/batch_size)\n",
        "    \n",
        "    # Program akan berjalan hingga sejumlah iterasi=n dicapai\n",
        "    for i in range(iterasi):  \n",
        "        \n",
        "        random_indices = np.random.RandomState(seed=42).permutation(n)      # Memilih indeks data random untuk update parameter\n",
        "        X18_smntr = X18[random_indices]\n",
        "        y18_smntr = y18[random_indices]\n",
        "        \n",
        "        for j in range(0, n, batch_size):\n",
        "            Xj_rule18 = X18_smntr[j:j+batch_size]\n",
        "            yj_rule18 = y18_smntr[j:j+batch_size]\n",
        "            \n",
        "            y18_pred = np.dot(bpoly_rule18, Xj_rule18.T) + b0_rule18          # Menghitung y_pred pada setiap iterasi\n",
        "        \n",
        "            bpoly_rule18_grad = -(2/len(Xj_rule18))*(Xj_rule18.T.dot(yj_rule18-y18_pred))   # Menghitung perubahan/gradien bpoly setiap iterasi\n",
        "            b0_rule18_grad = -(2/len(Xj_rule18))*np.sum(yj_rule18-y18_pred)          # Menghitung perubahan/gradien b0 setiap iterasi\n",
        "            bpoly_rule18 = bpoly_rule18 - learning_rate * bpoly_rule18_grad        # Memperbaharui bpoly setiap iterasi\n",
        "            b0_rule18 = b0_rule18 - learning_rate * b0_rule18_grad                 # Memperbaharui bpoly setiap iterasi\n",
        "        \n",
        "            # Menyimpan parameter b dalam list tunggal\n",
        "            bp=[]\n",
        "            for jv_rule18 in range(jumlah_variabel_rule18):\n",
        "                bp_rule18=bpoly_rule18[jv_rule18]\n",
        "                bp.append(bp_rule18)\n",
        "            b_rule18=[b0_rule18]+bp\n",
        "        \n",
        "            cost_rule18 = np.mean(np.square(yj_rule18-y18_pred))       # MSE (Mean Squared Error)\n",
        "        \n",
        "        if i%100==0: # Hanya mengambil hasil pada iterasi kelipatan 10\n",
        "            cost_rule18_list.append(cost_rule18)                     # Menyimpan nilai cost setiap iterasi\n",
        "            iterasi_rule18_list.append(i)                     # Menyimpan nilai iterasi setiap iterasi\n",
        "            b_rule18_list.append(b_rule18)                           # Menyimpan nilai parameter b setiap iterasi\n",
        "        \n",
        "    return bpoly_rule18, b0_rule18, cost_rule18, b_rule18_list, cost_rule18_list, iterasi_rule18_list  # Output"
      ]
    },
    {
      "cell_type": "code",
      "execution_count": null,
      "metadata": {
        "id": "kAZd2Ty9F_ad"
      },
      "outputs": [],
      "source": [
        "import time\n",
        "mulai_rule18 = time.time()\n",
        "mb_bpoly_rule18, mb_b0_rule18, mb_cost_rule18, mb_b_rule18_list, mb_cost_rule18_list, mb_iterasi_rule18_list=mini_batch_gradient_descent_rule18 (scaled_X18, \n",
        "                                                                                                                                        scaled_y18_reshape,\n",
        "                                                                                                                                        iterasi=10000, \n",
        "                                                                                                                                        batch_size = 3, \n",
        "                                                                                                                                        learning_rate = 0.0001)\n",
        "selesai_rule18 = time.time()\n",
        "waktu_komputasi_rule18 = (selesai_rule18 - mulai_rule18)\n",
        "print(\"Waktu Komputasi Rule 18: \",waktu_komputasi_rule18)"
      ]
    },
    {
      "cell_type": "code",
      "execution_count": null,
      "metadata": {
        "id": "erkiexSOGB7g"
      },
      "outputs": [],
      "source": [
        "plt.xlabel(\"Iterasi Rule 18\")\n",
        "plt.ylabel(\"cost Rule 18\")\n",
        "plt.title(\"Mini Batch Gradient Descent Rule 18\")\n",
        "plt.plot(mb_iterasi_rule14_list,mb_cost_rule18_list, color='red', label='Eror')\n",
        "plt.show()"
      ]
    },
    {
      "cell_type": "code",
      "execution_count": null,
      "metadata": {
        "id": "ad65coAgGDzt"
      },
      "outputs": [],
      "source": [
        "mb_cost_rule18"
      ]
    },
    {
      "cell_type": "code",
      "execution_count": null,
      "metadata": {
        "id": "goz1DtYpGFdT"
      },
      "outputs": [],
      "source": [
        "mb_b0_rule18"
      ]
    },
    {
      "cell_type": "code",
      "execution_count": null,
      "metadata": {
        "id": "yXcSUjqlGH_B"
      },
      "outputs": [],
      "source": [
        "mb_bpoly_rule18"
      ]
    },
    {
      "cell_type": "markdown",
      "metadata": {
        "id": "JWLeOIOh4_pg"
      },
      "source": [
        "##Rule 19"
      ]
    },
    {
      "cell_type": "code",
      "execution_count": null,
      "metadata": {
        "id": "6akRl3S75CZF"
      },
      "outputs": [],
      "source": [
        "#Rule 19\n",
        "rule_19 = df_fuzz[df_fuzz['Rule']==\" Jika X1 Paruh baya dan X2 Rendah dan X3 Menurun dan X4 Rendah maka Y Nonliver\"]\n",
        "index=rule_19.index\n",
        "data_rule_19=df_fuzz.iloc[index,:5]\n",
        "data_rule_19"
      ]
    },
    {
      "cell_type": "code",
      "execution_count": null,
      "metadata": {
        "id": "596MHHfM5Rhp"
      },
      "outputs": [],
      "source": [
        "data_rule_19.to_csv('hasilrule19.csv')"
      ]
    },
    {
      "cell_type": "markdown",
      "metadata": {
        "id": "f17MWxljGTp0"
      },
      "source": [
        "###Mini Batch Gradient Descent"
      ]
    },
    {
      "cell_type": "code",
      "execution_count": null,
      "metadata": {
        "id": "JkpbqRatGX_E"
      },
      "outputs": [],
      "source": [
        "import numpy as np\n",
        "import pandas as pd\n",
        "import matplotlib.pyplot as plt\n",
        "from sklearn.model_selection import train_test_split \n",
        "%matplotlib inline"
      ]
    },
    {
      "cell_type": "code",
      "execution_count": null,
      "metadata": {
        "id": "zhnh-AQKGvZ5"
      },
      "outputs": [],
      "source": [
        "df_rule19=pd.read_csv('hasilrule19.csv',sep=',')\n",
        "df_rule19"
      ]
    },
    {
      "cell_type": "code",
      "execution_count": null,
      "metadata": {
        "id": "f0QyWDSRGysu"
      },
      "outputs": [],
      "source": [
        "df_rule19=df_rule19.drop(columns=['Unnamed: 0'])\n",
        "df_rule19"
      ]
    },
    {
      "cell_type": "code",
      "execution_count": null,
      "metadata": {
        "id": "nCdpcP1hG0SR"
      },
      "outputs": [],
      "source": [
        "from sklearn import preprocessing\n",
        "sx19 = preprocessing.MinMaxScaler()\n",
        "sy19 = preprocessing.MinMaxScaler()\n",
        "\n",
        "scaled_X19 = sx19.fit_transform(data_rule_19.drop('Liver_Disease',axis='columns'))\n",
        "scaled_y19 = sy19.fit_transform(data_rule_19['Liver_Disease'].values.reshape(rule_19.shape[0],1))\n",
        "\n",
        "scaled_X19"
      ]
    },
    {
      "cell_type": "code",
      "execution_count": null,
      "metadata": {
        "id": "jOwDE1MGG24I"
      },
      "outputs": [],
      "source": [
        "scaled_y19_reshape=scaled_y19.reshape(scaled_y19.shape[0],)\n",
        "scaled_y19_reshape"
      ]
    },
    {
      "cell_type": "code",
      "execution_count": null,
      "metadata": {
        "id": "hSaf0QiAHFdV"
      },
      "outputs": [],
      "source": [
        "def mini_batch_gradient_descent_rule19(X19, y19, iterasi, batch_size = 3, learning_rate = 0.0001):\n",
        "\n",
        "    jumlah_variabel_rule19 = X19.shape[1]                   # array numpy dengan 1 baris dan sejumlah kolom variabel\n",
        "                                                   # Contoh: X_array([[1,2], [3,4], [5,5], [6,6], [7,2], [8,1]])\n",
        "    \n",
        "    bpoly_rule19 = np.ones(shape=(jumlah_variabel_rule19))       # b1, b2, ... b(jumlah variabel)\n",
        "    b0_rule19 = 0                                         # b0 atau bias\n",
        "    n = X19.shape[0]                                 # jumlah baris data X\n",
        "    \n",
        "    if batch_size > n: \n",
        "        batch_size = n                             # Jika batch size > n maka akan menjadi bacth gradient descent biasa\n",
        "        \n",
        "    cost_rule19_list = []                                 # list untuk menampung nilai cost setiap iterasi\n",
        "    iterasi_rule19_list = []                              # list untuk menampung nilai n iterasi(1, 2, 3, ..., n)\n",
        "    b_rule19_list=[]                                      # list untuk menampung nilai parameter regresi b0, b1, .. b(jumlah_variabel) \n",
        "                                                   # setiap iterasi\n",
        "    \n",
        "    jumlah_batch_rule19 = int(n/batch_size)\n",
        "    \n",
        "    # Program akan berjalan hingga sejumlah iterasi=n dicapai\n",
        "    for i in range(iterasi):  \n",
        "        \n",
        "        random_indices = np.random.RandomState(seed=42).permutation(n)      # Memilih indeks data random untuk update parameter\n",
        "        X19_smntr = X19[random_indices]\n",
        "        y19_smntr = y19[random_indices]\n",
        "        \n",
        "        for j in range(0, n, batch_size):\n",
        "            Xj_rule19 = X19_smntr[j:j+batch_size]\n",
        "            yj_rule19 = y19_smntr[j:j+batch_size]\n",
        "            \n",
        "            y19_pred = np.dot(bpoly_rule19, Xj_rule19.T) + b0_rule19          # Menghitung y_pred pada setiap iterasi\n",
        "        \n",
        "            bpoly_rule19_grad = -(2/len(Xj_rule19))*(Xj_rule19.T.dot(yj_rule19-y19_pred))   # Menghitung perubahan/gradien bpoly setiap iterasi\n",
        "            b0_rule19_grad = -(2/len(Xj_rule19))*np.sum(yj_rule19-y19_pred)          # Menghitung perubahan/gradien b0 setiap iterasi\n",
        "            bpoly_rule19 = bpoly_rule19 - learning_rate * bpoly_rule19_grad        # Memperbaharui bpoly setiap iterasi\n",
        "            b0_rule19 = b0_rule19 - learning_rate * b0_rule19_grad                 # Memperbaharui bpoly setiap iterasi\n",
        "        \n",
        "            # Menyimpan parameter b dalam list tunggal\n",
        "            bp=[]\n",
        "            for jv_rule19 in range(jumlah_variabel_rule19):\n",
        "                bp_rule19=bpoly_rule19[jv_rule19]\n",
        "                bp.append(bp_rule19)\n",
        "            b_rule19=[b0_rule19]+bp\n",
        "        \n",
        "            cost_rule19 = np.mean(np.square(yj_rule19-y19_pred))       # MSE (Mean Squared Error)\n",
        "        \n",
        "        if i%100==0: # Hanya mengambil hasil pada iterasi kelipatan 10\n",
        "            cost_rule19_list.append(cost_rule19)                     # Menyimpan nilai cost setiap iterasi\n",
        "            iterasi_rule19_list.append(i)                     # Menyimpan nilai iterasi setiap iterasi\n",
        "            b_rule19_list.append(b_rule19)                           # Menyimpan nilai parameter b setiap iterasi\n",
        "        \n",
        "    return bpoly_rule19, b0_rule19, cost_rule19, b_rule19_list, cost_rule19_list, iterasi_rule19_list  # Output"
      ]
    },
    {
      "cell_type": "code",
      "execution_count": null,
      "metadata": {
        "id": "LSdBeqcGHPU_"
      },
      "outputs": [],
      "source": [
        "import time\n",
        "mulai_rule19 = time.time()\n",
        "mb_bpoly_rule19, mb_b0_rule19, mb_cost_rule19, mb_b_rule19_list, mb_cost_rule19_list, mb_iterasi_rule19_list=mini_batch_gradient_descent_rule19 (scaled_X19, \n",
        "                                                                                                                                        scaled_y19_reshape,\n",
        "                                                                                                                                        iterasi=10000, \n",
        "                                                                                                                                        batch_size = 3, \n",
        "                                                                                                                                        learning_rate = 0.0001)\n",
        "selesai_rule19 = time.time()\n",
        "waktu_komputasi_rule19 = (selesai_rule19 - mulai_rule19)\n",
        "print(\"Waktu Komputasi Rule 19: \",waktu_komputasi_rule19)"
      ]
    },
    {
      "cell_type": "code",
      "execution_count": null,
      "metadata": {
        "id": "fr6FqHoZHWcS"
      },
      "outputs": [],
      "source": [
        "plt.xlabel(\"Iterasi Rule 19\")\n",
        "plt.ylabel(\"cost Rule 19\")\n",
        "plt.title(\"Mini Batch Gradient Descent Rule 19\")\n",
        "plt.plot(mb_iterasi_rule14_list,mb_cost_rule19_list, color='red', label='Eror')\n",
        "plt.show()"
      ]
    },
    {
      "cell_type": "code",
      "execution_count": null,
      "metadata": {
        "id": "BtocwukjHYcX"
      },
      "outputs": [],
      "source": [
        "mb_cost_rule19"
      ]
    },
    {
      "cell_type": "code",
      "execution_count": null,
      "metadata": {
        "id": "nnOs4ip9HZ4o"
      },
      "outputs": [],
      "source": [
        "mb_b0_rule19"
      ]
    },
    {
      "cell_type": "code",
      "execution_count": null,
      "metadata": {
        "id": "c5QcAfM1HbJu"
      },
      "outputs": [],
      "source": [
        "mb_bpoly_rule19"
      ]
    },
    {
      "cell_type": "markdown",
      "metadata": {
        "id": "_CKcO1Yo5UuQ"
      },
      "source": [
        "##Rule 20"
      ]
    },
    {
      "cell_type": "code",
      "execution_count": null,
      "metadata": {
        "id": "OZVDGhR55Wwx"
      },
      "outputs": [],
      "source": [
        "#Rule 20\n",
        "rule_20 = df_fuzz[df_fuzz['Rule']==\" Jika X1 Paruh baya dan X2 Rendah dan X3 Normal dan X4 Rendah maka Y Nonliver\"]\n",
        "index=rule_20.index\n",
        "data_rule_20=df_fuzz.iloc[index,:5]\n",
        "data_rule_20"
      ]
    },
    {
      "cell_type": "code",
      "execution_count": null,
      "metadata": {
        "id": "OlmErqvy5qmP"
      },
      "outputs": [],
      "source": [
        "data_rule_20.to_csv('hasilrule20.csv')"
      ]
    },
    {
      "cell_type": "markdown",
      "metadata": {
        "id": "tSt40TSWHdUH"
      },
      "source": [
        "###Mini Batch Gradient Descent"
      ]
    },
    {
      "cell_type": "code",
      "execution_count": null,
      "metadata": {
        "id": "JTMABYF9HiR_"
      },
      "outputs": [],
      "source": [
        "import numpy as np\n",
        "import pandas as pd\n",
        "import matplotlib.pyplot as plt\n",
        "from sklearn.model_selection import train_test_split \n",
        "%matplotlib inline"
      ]
    },
    {
      "cell_type": "code",
      "execution_count": null,
      "metadata": {
        "id": "KDQBYktTHk7S"
      },
      "outputs": [],
      "source": [
        "df_rule20=pd.read_csv('hasilrule20.csv',sep=',')\n",
        "df_rule20"
      ]
    },
    {
      "cell_type": "code",
      "execution_count": null,
      "metadata": {
        "id": "k4F6xkOOH1qQ"
      },
      "outputs": [],
      "source": [
        "df_rule20=df_rule20.drop(columns=['Unnamed: 0'])\n",
        "df_rule20"
      ]
    },
    {
      "cell_type": "code",
      "execution_count": null,
      "metadata": {
        "id": "aSczLaOfH3Rw"
      },
      "outputs": [],
      "source": [
        "from sklearn import preprocessing\n",
        "sx20 = preprocessing.MinMaxScaler()\n",
        "sy20 = preprocessing.MinMaxScaler()\n",
        "\n",
        "scaled_X20 = sx20.fit_transform(data_rule_20.drop('Liver_Disease',axis='columns'))\n",
        "scaled_y20 = sy20.fit_transform(data_rule_20['Liver_Disease'].values.reshape(rule_20.shape[0],1))\n",
        "\n",
        "scaled_X20"
      ]
    },
    {
      "cell_type": "code",
      "execution_count": null,
      "metadata": {
        "id": "OgiYmKcNH5qe"
      },
      "outputs": [],
      "source": [
        "scaled_y20_reshape=scaled_y20.reshape(scaled_y20.shape[0],)\n",
        "scaled_y20_reshape"
      ]
    },
    {
      "cell_type": "code",
      "execution_count": null,
      "metadata": {
        "id": "fwzkwvdQH7QP"
      },
      "outputs": [],
      "source": [
        "def mini_batch_gradient_descent_rule20(X20, y20, iterasi, batch_size = 3, learning_rate = 0.0001):\n",
        "\n",
        "    jumlah_variabel_rule20 = X20.shape[1]                   # array numpy dengan 1 baris dan sejumlah kolom variabel\n",
        "                                                   # Contoh: X_array([[1,2], [3,4], [5,5], [6,6], [7,2], [8,1]])\n",
        "    \n",
        "    bpoly_rule20 = np.ones(shape=(jumlah_variabel_rule20))       # b1, b2, ... b(jumlah variabel)\n",
        "    b0_rule20 = 0                                         # b0 atau bias\n",
        "    n = X20.shape[0]                                 # jumlah baris data X\n",
        "    \n",
        "    if batch_size > n: \n",
        "        batch_size = n                             # Jika batch size > n maka akan menjadi bacth gradient descent biasa\n",
        "        \n",
        "    cost_rule20_list = []                                 # list untuk menampung nilai cost setiap iterasi\n",
        "    iterasi_rule20_list = []                              # list untuk menampung nilai n iterasi(1, 2, 3, ..., n)\n",
        "    b_rule20_list=[]                                      # list untuk menampung nilai parameter regresi b0, b1, .. b(jumlah_variabel) \n",
        "                                                   # setiap iterasi\n",
        "    \n",
        "    jumlah_batch_rule20 = int(n/batch_size)\n",
        "    \n",
        "    # Program akan berjalan hingga sejumlah iterasi=n dicapai\n",
        "    for i in range(iterasi):  \n",
        "        \n",
        "        random_indices = np.random.RandomState(seed=42).permutation(n)      # Memilih indeks data random untuk update parameter\n",
        "        X20_smntr = X20[random_indices]\n",
        "        y20_smntr = y20[random_indices]\n",
        "        \n",
        "        for j in range(0, n, batch_size):\n",
        "            Xj_rule20 = X20_smntr[j:j+batch_size]\n",
        "            yj_rule20 = y20_smntr[j:j+batch_size]\n",
        "            \n",
        "            y20_pred = np.dot(bpoly_rule20, Xj_rule20.T) + b0_rule20          # Menghitung y_pred pada setiap iterasi\n",
        "        \n",
        "            bpoly_rule20_grad = -(2/len(Xj_rule20))*(Xj_rule20.T.dot(yj_rule20-y20_pred))   # Menghitung perubahan/gradien bpoly setiap iterasi\n",
        "            b0_rule20_grad = -(2/len(Xj_rule20))*np.sum(yj_rule20-y20_pred)          # Menghitung perubahan/gradien b0 setiap iterasi\n",
        "            bpoly_rule20 = bpoly_rule20 - learning_rate * bpoly_rule20_grad        # Memperbaharui bpoly setiap iterasi\n",
        "            b0_rule20 = b0_rule20 - learning_rate * b0_rule20_grad                 # Memperbaharui bpoly setiap iterasi\n",
        "        \n",
        "            # Menyimpan parameter b dalam list tunggal\n",
        "            bp=[]\n",
        "            for jv_rule20 in range(jumlah_variabel_rule20):\n",
        "                bp_rule20=bpoly_rule20[jv_rule20]\n",
        "                bp.append(bp_rule20)\n",
        "            b_rule20=[b0_rule20]+bp\n",
        "        \n",
        "            cost_rule20 = np.mean(np.square(yj_rule20-y20_pred))       # MSE (Mean Squared Error)\n",
        "        \n",
        "        if i%100==0: # Hanya mengambil hasil pada iterasi kelipatan 10\n",
        "            cost_rule20_list.append(cost_rule20)                     # Menyimpan nilai cost setiap iterasi\n",
        "            iterasi_rule20_list.append(i)                     # Menyimpan nilai iterasi setiap iterasi\n",
        "            b_rule20_list.append(b_rule20)                           # Menyimpan nilai parameter b setiap iterasi\n",
        "        \n",
        "    return bpoly_rule20, b0_rule20, cost_rule20, b_rule20_list, cost_rule20_list, iterasi_rule20_list  # Output"
      ]
    },
    {
      "cell_type": "code",
      "execution_count": null,
      "metadata": {
        "id": "MU5r7GPrIAki"
      },
      "outputs": [],
      "source": [
        "import time\n",
        "mulai_rule20 = time.time()\n",
        "mb_bpoly_rule20, mb_b0_rule20, mb_cost_rule20, mb_b_rule20_list, mb_cost_rule20_list, mb_iterasi_rule20_list=mini_batch_gradient_descent_rule20 (scaled_X20, \n",
        "                                                                                                                                        scaled_y20_reshape,\n",
        "                                                                                                                                        iterasi=10000, \n",
        "                                                                                                                                        batch_size = 3, \n",
        "                                                                                                                                        learning_rate = 0.0001)\n",
        "selesai_rule20 = time.time()\n",
        "waktu_komputasi_rule20 = (selesai_rule20 - mulai_rule20)\n",
        "print(\"Waktu Komputasi Rule 20: \",waktu_komputasi_rule20)"
      ]
    },
    {
      "cell_type": "code",
      "execution_count": null,
      "metadata": {
        "id": "Vo8m_z_BIDpl"
      },
      "outputs": [],
      "source": [
        "plt.xlabel(\"Iterasi Rule 20\")\n",
        "plt.ylabel(\"cost Rule 20\")\n",
        "plt.title(\"Mini Batch Gradient Descent Rule 20\")\n",
        "plt.plot(mb_iterasi_rule14_list,mb_cost_rule20_list, color='red', label='Eror')\n",
        "plt.show()"
      ]
    },
    {
      "cell_type": "code",
      "execution_count": null,
      "metadata": {
        "id": "HaMhzwAwIF8Z"
      },
      "outputs": [],
      "source": [
        "mb_cost_rule20"
      ]
    },
    {
      "cell_type": "code",
      "execution_count": null,
      "metadata": {
        "id": "eAIbU4ajIHfU"
      },
      "outputs": [],
      "source": [
        "mb_b0_rule20"
      ]
    },
    {
      "cell_type": "code",
      "execution_count": null,
      "metadata": {
        "id": "4SVD0v7VIKFA"
      },
      "outputs": [],
      "source": [
        "mb_bpoly_rule20"
      ]
    },
    {
      "cell_type": "markdown",
      "metadata": {
        "id": "nAOIX09-5zKL"
      },
      "source": [
        "##Rule 21"
      ]
    },
    {
      "cell_type": "code",
      "execution_count": null,
      "metadata": {
        "id": "lrD35ncQ51q8"
      },
      "outputs": [],
      "source": [
        "#Rule 21\n",
        "rule_21 = df_fuzz[df_fuzz['Rule']==\" Jika X1 Paruh baya dan X2 Normal dan X3 Normal dan X4 Normal maka Y Nonliver\"]\n",
        "index=rule_21.index\n",
        "data_rule_21=df_fuzz.iloc[index,:5]\n",
        "data_rule_21"
      ]
    },
    {
      "cell_type": "code",
      "execution_count": null,
      "metadata": {
        "id": "Y1xDATG25-a8"
      },
      "outputs": [],
      "source": [
        "data_rule_21.to_csv('hasilrule21.csv')"
      ]
    },
    {
      "cell_type": "markdown",
      "metadata": {
        "id": "0F-Q_6tFIL1S"
      },
      "source": [
        "###Mini Batch Gradient Descent"
      ]
    },
    {
      "cell_type": "code",
      "execution_count": null,
      "metadata": {
        "id": "iDSKOVg9IO_q"
      },
      "outputs": [],
      "source": [
        "import numpy as np\n",
        "import pandas as pd\n",
        "import matplotlib.pyplot as plt\n",
        "from sklearn.model_selection import train_test_split \n",
        "%matplotlib inline"
      ]
    },
    {
      "cell_type": "code",
      "execution_count": null,
      "metadata": {
        "id": "1a2f2FFkIXtF"
      },
      "outputs": [],
      "source": [
        "df_rule21=pd.read_csv('hasilrule21.csv',sep=',')\n",
        "df_rule21"
      ]
    },
    {
      "cell_type": "code",
      "execution_count": null,
      "metadata": {
        "id": "c6Izx5ziIe98"
      },
      "outputs": [],
      "source": [
        "df_rule21=df_rule21.drop(columns=['Unnamed: 0'])\n",
        "df_rule21"
      ]
    },
    {
      "cell_type": "code",
      "execution_count": null,
      "metadata": {
        "id": "EnezHLQxIgq_"
      },
      "outputs": [],
      "source": [
        "from sklearn import preprocessing\n",
        "sx21 = preprocessing.MinMaxScaler()\n",
        "sy21 = preprocessing.MinMaxScaler()\n",
        "\n",
        "scaled_X21 = sx21.fit_transform(data_rule_21.drop('Liver_Disease',axis='columns'))\n",
        "scaled_y21 = sy21.fit_transform(data_rule_21['Liver_Disease'].values.reshape(rule_21.shape[0],1))\n",
        "\n",
        "scaled_X21"
      ]
    },
    {
      "cell_type": "code",
      "execution_count": null,
      "metadata": {
        "id": "jRFC0yZ8Ijg5"
      },
      "outputs": [],
      "source": [
        "scaled_y21_reshape=scaled_y21.reshape(scaled_y21.shape[0],)\n",
        "scaled_y21_reshape"
      ]
    },
    {
      "cell_type": "code",
      "execution_count": null,
      "metadata": {
        "id": "dzeSAda5IlWY"
      },
      "outputs": [],
      "source": [
        "def mini_batch_gradient_descent_rule21(X21, y21, iterasi, batch_size = 3, learning_rate = 0.0001):\n",
        "\n",
        "    jumlah_variabel_rule21 = X21.shape[1]                   # array numpy dengan 1 baris dan sejumlah kolom variabel\n",
        "                                                   # Contoh: X_array([[1,2], [3,4], [5,5], [6,6], [7,2], [8,1]])\n",
        "    \n",
        "    bpoly_rule21 = np.ones(shape=(jumlah_variabel_rule21))       # b1, b2, ... b(jumlah variabel)\n",
        "    b0_rule21 = 0                                         # b0 atau bias\n",
        "    n = X21.shape[0]                                 # jumlah baris data X\n",
        "    \n",
        "    if batch_size > n: \n",
        "        batch_size = n                             # Jika batch size > n maka akan menjadi bacth gradient descent biasa\n",
        "        \n",
        "    cost_rule21_list = []                                 # list untuk menampung nilai cost setiap iterasi\n",
        "    iterasi_rule21_list = []                              # list untuk menampung nilai n iterasi(1, 2, 3, ..., n)\n",
        "    b_rule21_list=[]                                      # list untuk menampung nilai parameter regresi b0, b1, .. b(jumlah_variabel) \n",
        "                                                   # setiap iterasi\n",
        "    \n",
        "    jumlah_batch_rule21 = int(n/batch_size)\n",
        "    \n",
        "    # Program akan berjalan hingga sejumlah iterasi=n dicapai\n",
        "    for i in range(iterasi):  \n",
        "        \n",
        "        random_indices = np.random.RandomState(seed=42).permutation(n)      # Memilih indeks data random untuk update parameter\n",
        "        X21_smntr = X21[random_indices]\n",
        "        y21_smntr = y21[random_indices]\n",
        "        \n",
        "        for j in range(0, n, batch_size):\n",
        "            Xj_rule21 = X21_smntr[j:j+batch_size]\n",
        "            yj_rule21 = y21_smntr[j:j+batch_size]\n",
        "            \n",
        "            y21_pred = np.dot(bpoly_rule21, Xj_rule21.T) + b0_rule21          # Menghitung y_pred pada setiap iterasi\n",
        "        \n",
        "            bpoly_rule21_grad = -(2/len(Xj_rule21))*(Xj_rule21.T.dot(yj_rule21-y21_pred))   # Menghitung perubahan/gradien bpoly setiap iterasi\n",
        "            b0_rule21_grad = -(2/len(Xj_rule21))*np.sum(yj_rule21-y21_pred)          # Menghitung perubahan/gradien b0 setiap iterasi\n",
        "            bpoly_rule21 = bpoly_rule21 - learning_rate * bpoly_rule21_grad        # Memperbaharui bpoly setiap iterasi\n",
        "            b0_rule21 = b0_rule21 - learning_rate * b0_rule21_grad                 # Memperbaharui bpoly setiap iterasi\n",
        "        \n",
        "            # Menyimpan parameter b dalam list tunggal\n",
        "            bp=[]\n",
        "            for jv_rule21 in range(jumlah_variabel_rule21):\n",
        "                bp_rule21=bpoly_rule21[jv_rule21]\n",
        "                bp.append(bp_rule21)\n",
        "            b_rule21=[b0_rule21]+bp\n",
        "        \n",
        "            cost_rule21 = np.mean(np.square(yj_rule21-y21_pred))       # MSE (Mean Squared Error)\n",
        "        \n",
        "        if i%100==0: # Hanya mengambil hasil pada iterasi kelipatan 10\n",
        "            cost_rule21_list.append(cost_rule21)                     # Menyimpan nilai cost setiap iterasi\n",
        "            iterasi_rule21_list.append(i)                     # Menyimpan nilai iterasi setiap iterasi\n",
        "            b_rule21_list.append(b_rule21)                           # Menyimpan nilai parameter b setiap iterasi\n",
        "        \n",
        "    return bpoly_rule21, b0_rule21, cost_rule21, b_rule21_list, cost_rule21_list, iterasi_rule21_list  # Output"
      ]
    },
    {
      "cell_type": "code",
      "execution_count": null,
      "metadata": {
        "id": "C0Amv0q4Io1C"
      },
      "outputs": [],
      "source": [
        "import time\n",
        "mulai_rule21 = time.time()\n",
        "mb_bpoly_rule21, mb_b0_rule21, mb_cost_rule21, mb_b_rule21_list, mb_cost_rule21_list, mb_iterasi_rule21_list=mini_batch_gradient_descent_rule21 (scaled_X21, \n",
        "                                                                                                                                        scaled_y21_reshape,\n",
        "                                                                                                                                        iterasi=10000, \n",
        "                                                                                                                                        batch_size = 3, \n",
        "                                                                                                                                        learning_rate = 0.0001)\n",
        "selesai_rule21 = time.time()\n",
        "waktu_komputasi_rule21 = (selesai_rule21 - mulai_rule21)\n",
        "print(\"Waktu Komputasi Rule 21: \",waktu_komputasi_rule21)"
      ]
    },
    {
      "cell_type": "code",
      "execution_count": null,
      "metadata": {
        "id": "8kZQaUl-IvKA"
      },
      "outputs": [],
      "source": [
        "plt.xlabel(\"Iterasi Rule 21\")\n",
        "plt.ylabel(\"cost Rule 21\")\n",
        "plt.title(\"Mini Batch Gradient Descent Rule 21\")\n",
        "plt.plot(mb_iterasi_rule14_list,mb_cost_rule21_list, color='red', label='Eror')\n",
        "plt.show()"
      ]
    },
    {
      "cell_type": "code",
      "execution_count": null,
      "metadata": {
        "id": "j7gpgfyIIwrA"
      },
      "outputs": [],
      "source": [
        "mb_cost_rule21"
      ]
    },
    {
      "cell_type": "code",
      "execution_count": null,
      "metadata": {
        "id": "XgiR62Y9IyQ5"
      },
      "outputs": [],
      "source": [
        "mb_b0_rule21"
      ]
    },
    {
      "cell_type": "code",
      "execution_count": null,
      "metadata": {
        "id": "IS8YgW-LIz5_"
      },
      "outputs": [],
      "source": [
        "mb_bpoly_rule21"
      ]
    },
    {
      "cell_type": "markdown",
      "metadata": {
        "id": "xXWbLhah6ljT"
      },
      "source": [
        "#Prediksi"
      ]
    },
    {
      "cell_type": "code",
      "execution_count": null,
      "metadata": {
        "id": "yuuvPa576oYv"
      },
      "outputs": [],
      "source": [
        "df_pred=pd.concat([data_rule_1, data_rule_2, data_rule_3, data_rule_4, data_rule_5, data_rule_6, data_rule_7, data_rule_8, data_rule_9, data_rule_10, data_rule_11, data_rule_12, data_rule_13, data_rule_14, data_rule_15, data_rule_16, data_rule_17, data_rule_18, data_rule_19, data_rule_20, data_rule_21], ignore_index=False)\n",
        "df_pred.sort_index()"
      ]
    },
    {
      "cell_type": "code",
      "execution_count": null,
      "metadata": {
        "id": "JvzcOwyE6pIH"
      },
      "outputs": [],
      "source": [
        "df_fuzz['alpha_predikat']=df_fuzz[['miu_Age','miu_TP','miu_DB','miu_AGR', 'miu_Liver_Disease']].min(axis=1)\n",
        "df_fuzz"
      ]
    },
    {
      "cell_type": "code",
      "execution_count": null,
      "metadata": {
        "id": "kRaHVbOL6roj"
      },
      "outputs": [],
      "source": [
        "df_fuzz['y_pred_regressi']=df_pred.pred\n",
        "df_fuzz"
      ]
    },
    {
      "cell_type": "code",
      "execution_count": null,
      "metadata": {
        "id": "B_CMAeCS6tjC"
      },
      "outputs": [],
      "source": [
        "#df_fuzz['Pred TSK']=df_fuzz['alpha_predikat']*df_fuzz['y_pred_regressi']/df_fuzz['alpha_predikat'].sum()\n",
        "df_fuzz['Pred TSK']=df_fuzz['alpha_predikat']*df_fuzz['y_pred_regressi']\n",
        "df_fuzz"
      ]
    },
    {
      "cell_type": "code",
      "execution_count": null,
      "metadata": {
        "id": "0lIk15BA6vLC"
      },
      "outputs": [],
      "source": [
        "df_fuzz.to_excel('hasil_prediksi.xlsx') "
      ]
    },
    {
      "cell_type": "code",
      "execution_count": null,
      "metadata": {
        "id": "nbn3sier6xhG"
      },
      "outputs": [],
      "source": [
        "x1= df_fuzz.index\n",
        "y1= df_fuzz.Liver_Disease\n",
        "y2= df_fuzz['Pred TSK']"
      ]
    },
    {
      "cell_type": "code",
      "execution_count": null,
      "metadata": {
        "id": "wwUpozJJ6zyX"
      },
      "outputs": [],
      "source": [
        "plt.plot(x1, y1,  label = \"Asli\",  color='green')\n",
        "plt.plot(x1, y2, label = \"Prediksi\", color='red')\n",
        "plt.xlabel('x')\n",
        "plt.ylabel('y')\n",
        "plt.title('Prediksi Fuzzy TSK Polinom')\n",
        "plt.legend()\n",
        "plt.show()"
      ]
    }
  ],
  "metadata": {
    "colab": {
      "collapsed_sections": [],
      "name": "Roughset_Fuzzy_TSK_Liver_MBGD.ipynb",
      "provenance": []
    },
    "kernelspec": {
      "display_name": "Python 3",
      "language": "python",
      "name": "python3"
    },
    "language_info": {
      "codemirror_mode": {
        "name": "ipython",
        "version": 3
      },
      "file_extension": ".py",
      "mimetype": "text/x-python",
      "name": "python",
      "nbconvert_exporter": "python",
      "pygments_lexer": "ipython3",
      "version": "3.8.5"
    }
  },
  "nbformat": 4,
  "nbformat_minor": 0
}