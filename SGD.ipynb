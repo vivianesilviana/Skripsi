{
  "nbformat": 4,
  "nbformat_minor": 0,
  "metadata": {
    "colab": {
      "name": "SGD.ipynb",
      "provenance": []
    },
    "kernelspec": {
      "name": "python3",
      "display_name": "Python 3"
    },
    "language_info": {
      "name": "python"
    }
  },
  "cells": [
    {
      "cell_type": "code",
      "metadata": {
        "id": "N4PKq5K0buhs"
      },
      "source": [
        "import numpy as np\n",
        "import pandas as pd\n",
        "import matplotlib.pyplot as plt\n",
        "from sklearn.model_selection import train_test_split \n",
        "%matplotlib inline"
      ],
      "execution_count": null,
      "outputs": []
    },
    {
      "cell_type": "code",
      "metadata": {
        "colab": {
          "base_uri": "https://localhost:8080/",
          "height": 203
        },
        "id": "-L1AINH9aPbI",
        "outputId": "97e53526-0ff0-45dd-a628-3217e8d492a2"
      },
      "source": [
        "df=pd.read_csv(\"https://raw.githubusercontent.com/vivianesilviana/vivianesilviana/main/data_iklim.csv\", sep=\";\")\n",
        "df.head(5)"
      ],
      "execution_count": null,
      "outputs": [
        {
          "output_type": "execute_result",
          "data": {
            "text/html": [
              "<div>\n",
              "<style scoped>\n",
              "    .dataframe tbody tr th:only-of-type {\n",
              "        vertical-align: middle;\n",
              "    }\n",
              "\n",
              "    .dataframe tbody tr th {\n",
              "        vertical-align: top;\n",
              "    }\n",
              "\n",
              "    .dataframe thead th {\n",
              "        text-align: right;\n",
              "    }\n",
              "</style>\n",
              "<table border=\"1\" class=\"dataframe\">\n",
              "  <thead>\n",
              "    <tr style=\"text-align: right;\">\n",
              "      <th></th>\n",
              "      <th>kelembapan</th>\n",
              "      <th>lama_penyinaran</th>\n",
              "      <th>kecepatan_angin</th>\n",
              "      <th>temperatur</th>\n",
              "    </tr>\n",
              "  </thead>\n",
              "  <tbody>\n",
              "    <tr>\n",
              "      <th>0</th>\n",
              "      <td>80</td>\n",
              "      <td>6.8</td>\n",
              "      <td>1</td>\n",
              "      <td>27.0</td>\n",
              "    </tr>\n",
              "    <tr>\n",
              "      <th>1</th>\n",
              "      <td>80</td>\n",
              "      <td>6.3</td>\n",
              "      <td>2</td>\n",
              "      <td>26.5</td>\n",
              "    </tr>\n",
              "    <tr>\n",
              "      <th>2</th>\n",
              "      <td>76</td>\n",
              "      <td>8.4</td>\n",
              "      <td>2</td>\n",
              "      <td>26.8</td>\n",
              "    </tr>\n",
              "    <tr>\n",
              "      <th>3</th>\n",
              "      <td>78</td>\n",
              "      <td>6.8</td>\n",
              "      <td>1</td>\n",
              "      <td>26.4</td>\n",
              "    </tr>\n",
              "    <tr>\n",
              "      <th>4</th>\n",
              "      <td>76</td>\n",
              "      <td>9.6</td>\n",
              "      <td>2</td>\n",
              "      <td>25.8</td>\n",
              "    </tr>\n",
              "  </tbody>\n",
              "</table>\n",
              "</div>"
            ],
            "text/plain": [
              "   kelembapan  lama_penyinaran  kecepatan_angin  temperatur\n",
              "0          80              6.8                1        27.0\n",
              "1          80              6.3                2        26.5\n",
              "2          76              8.4                2        26.8\n",
              "3          78              6.8                1        26.4\n",
              "4          76              9.6                2        25.8"
            ]
          },
          "metadata": {},
          "execution_count": 68
        }
      ]
    },
    {
      "cell_type": "code",
      "metadata": {
        "colab": {
          "base_uri": "https://localhost:8080/"
        },
        "id": "nXVdBGvWa-32",
        "outputId": "572785fb-da44-4ae6-cce4-fddf30e13afb"
      },
      "source": [
        "from sklearn import preprocessing\n",
        "sx = preprocessing.MinMaxScaler()\n",
        "sy = preprocessing.MinMaxScaler()\n",
        "\n",
        "scaled_X = sx.fit_transform(df.drop('temperatur',axis='columns'))\n",
        "scaled_y = sy.fit_transform(df['temperatur'].values.reshape(df.shape[0],1))\n",
        "\n",
        "scaled_X"
      ],
      "execution_count": null,
      "outputs": [
        {
          "output_type": "execute_result",
          "data": {
            "text/plain": [
              "array([[0.6       , 0.64761905, 0.        ],\n",
              "       [0.6       , 0.6       , 0.5       ],\n",
              "       [0.33333333, 0.8       , 0.5       ],\n",
              "       [0.46666667, 0.64761905, 0.        ],\n",
              "       [0.33333333, 0.91428571, 0.5       ],\n",
              "       [0.06666667, 0.94285714, 0.5       ],\n",
              "       [0.2       , 0.94285714, 0.5       ],\n",
              "       [0.66666667, 0.83809524, 0.5       ],\n",
              "       [0.6       , 0.73333333, 0.        ],\n",
              "       [0.93333333, 0.42857143, 0.5       ],\n",
              "       [0.        , 0.6       , 1.        ],\n",
              "       [0.06666667, 0.88571429, 0.5       ],\n",
              "       [0.8       , 0.8952381 , 0.5       ],\n",
              "       [0.73333333, 0.61904762, 0.5       ],\n",
              "       [0.53333333, 0.36190476, 0.5       ],\n",
              "       [0.06666667, 0.9047619 , 0.5       ],\n",
              "       [0.06666667, 0.53333333, 0.5       ],\n",
              "       [0.6       , 0.60952381, 0.5       ],\n",
              "       [0.66666667, 0.8952381 , 0.5       ],\n",
              "       [0.6       , 0.66666667, 0.        ],\n",
              "       [0.66666667, 0.84761905, 0.5       ],\n",
              "       [0.53333333, 0.72380952, 0.5       ],\n",
              "       [0.6       , 0.37142857, 1.        ],\n",
              "       [0.46666667, 0.47619048, 0.5       ],\n",
              "       [0.6       , 1.        , 0.5       ],\n",
              "       [0.46666667, 0.87619048, 0.5       ],\n",
              "       [0.53333333, 0.97142857, 1.        ],\n",
              "       [0.53333333, 0.71428571, 0.5       ],\n",
              "       [0.73333333, 0.7047619 , 0.5       ],\n",
              "       [0.6       , 0.58095238, 1.        ],\n",
              "       [0.93333333, 0.71428571, 0.5       ],\n",
              "       [0.6       , 0.52380952, 0.        ],\n",
              "       [0.6       , 0.57142857, 0.5       ],\n",
              "       [0.26666667, 0.57142857, 0.        ],\n",
              "       [0.8       , 0.57142857, 0.5       ],\n",
              "       [0.46666667, 0.6       , 0.5       ],\n",
              "       [0.46666667, 0.78095238, 1.        ],\n",
              "       [0.6       , 0.91428571, 0.5       ],\n",
              "       [0.6       , 0.71428571, 0.5       ],\n",
              "       [0.46666667, 0.78095238, 0.        ],\n",
              "       [0.6       , 0.46666667, 1.        ],\n",
              "       [0.66666667, 0.55238095, 0.5       ],\n",
              "       [0.66666667, 0.91428571, 0.5       ],\n",
              "       [0.8       , 0.34285714, 0.5       ],\n",
              "       [1.        , 0.42857143, 0.5       ],\n",
              "       [0.6       , 0.52380952, 0.        ],\n",
              "       [0.73333333, 0.94285714, 0.5       ],\n",
              "       [0.6       , 0.76190476, 0.5       ],\n",
              "       [0.53333333, 0.95238095, 0.5       ],\n",
              "       [0.46666667, 0.53333333, 1.        ],\n",
              "       [0.8       , 0.57142857, 0.5       ],\n",
              "       [0.6       , 0.47619048, 0.5       ],\n",
              "       [0.73333333, 0.59047619, 0.5       ],\n",
              "       [0.53333333, 0.46666667, 1.        ],\n",
              "       [0.4       , 0.57142857, 0.5       ],\n",
              "       [0.46666667, 0.72380952, 0.5       ],\n",
              "       [0.73333333, 0.47619048, 0.5       ],\n",
              "       [0.4       , 0.72380952, 0.5       ],\n",
              "       [0.46666667, 0.55238095, 0.5       ],\n",
              "       [0.53333333, 0.        , 1.        ],\n",
              "       [0.4       , 0.68571429, 1.        ],\n",
              "       [0.53333333, 0.39047619, 0.5       ]])"
            ]
          },
          "metadata": {},
          "execution_count": 69
        }
      ]
    },
    {
      "cell_type": "code",
      "metadata": {
        "colab": {
          "base_uri": "https://localhost:8080/"
        },
        "id": "WPm_nk4PbCIL",
        "outputId": "2986e351-5ad5-49d4-c00a-a72426203be5"
      },
      "source": [
        "scaled_y"
      ],
      "execution_count": null,
      "outputs": [
        {
          "output_type": "execute_result",
          "data": {
            "text/plain": [
              "array([[0.75609756],\n",
              "       [0.63414634],\n",
              "       [0.70731707],\n",
              "       [0.6097561 ],\n",
              "       [0.46341463],\n",
              "       [0.29268293],\n",
              "       [0.14634146],\n",
              "       [0.31707317],\n",
              "       [0.26829268],\n",
              "       [0.73170732],\n",
              "       [0.92682927],\n",
              "       [0.63414634],\n",
              "       [0.46341463],\n",
              "       [0.3902439 ],\n",
              "       [0.51219512],\n",
              "       [0.2195122 ],\n",
              "       [0.36585366],\n",
              "       [0.53658537],\n",
              "       [0.51219512],\n",
              "       [0.70731707],\n",
              "       [0.63414634],\n",
              "       [0.53658537],\n",
              "       [0.63414634],\n",
              "       [0.70731707],\n",
              "       [0.3902439 ],\n",
              "       [0.14634146],\n",
              "       [0.41463415],\n",
              "       [0.51219512],\n",
              "       [0.26829268],\n",
              "       [0.63414634],\n",
              "       [0.46341463],\n",
              "       [0.3902439 ],\n",
              "       [0.51219512],\n",
              "       [0.        ],\n",
              "       [0.58536585],\n",
              "       [0.85365854],\n",
              "       [0.65853659],\n",
              "       [0.70731707],\n",
              "       [0.6097561 ],\n",
              "       [0.70731707],\n",
              "       [0.53658537],\n",
              "       [0.75609756],\n",
              "       [0.2195122 ],\n",
              "       [0.48780488],\n",
              "       [0.58536585],\n",
              "       [0.26829268],\n",
              "       [0.68292683],\n",
              "       [0.48780488],\n",
              "       [0.68292683],\n",
              "       [0.41463415],\n",
              "       [0.29268293],\n",
              "       [0.51219512],\n",
              "       [0.58536585],\n",
              "       [0.48780488],\n",
              "       [0.46341463],\n",
              "       [0.36585366],\n",
              "       [1.        ],\n",
              "       [0.29268293],\n",
              "       [0.51219512],\n",
              "       [0.51219512],\n",
              "       [0.65853659],\n",
              "       [0.63414634]])"
            ]
          },
          "metadata": {},
          "execution_count": 70
        }
      ]
    },
    {
      "cell_type": "code",
      "metadata": {
        "colab": {
          "base_uri": "https://localhost:8080/"
        },
        "id": "A_12FDbYbF0v",
        "outputId": "fdb612f3-95f2-491b-9ace-3b496f22bf17"
      },
      "source": [
        "scaled_y_reshape=scaled_y.reshape(scaled_y.shape[0],)\n",
        "scaled_y_reshape"
      ],
      "execution_count": null,
      "outputs": [
        {
          "output_type": "execute_result",
          "data": {
            "text/plain": [
              "array([0.75609756, 0.63414634, 0.70731707, 0.6097561 , 0.46341463,\n",
              "       0.29268293, 0.14634146, 0.31707317, 0.26829268, 0.73170732,\n",
              "       0.92682927, 0.63414634, 0.46341463, 0.3902439 , 0.51219512,\n",
              "       0.2195122 , 0.36585366, 0.53658537, 0.51219512, 0.70731707,\n",
              "       0.63414634, 0.53658537, 0.63414634, 0.70731707, 0.3902439 ,\n",
              "       0.14634146, 0.41463415, 0.51219512, 0.26829268, 0.63414634,\n",
              "       0.46341463, 0.3902439 , 0.51219512, 0.        , 0.58536585,\n",
              "       0.85365854, 0.65853659, 0.70731707, 0.6097561 , 0.70731707,\n",
              "       0.53658537, 0.75609756, 0.2195122 , 0.48780488, 0.58536585,\n",
              "       0.26829268, 0.68292683, 0.48780488, 0.68292683, 0.41463415,\n",
              "       0.29268293, 0.51219512, 0.58536585, 0.48780488, 0.46341463,\n",
              "       0.36585366, 1.        , 0.29268293, 0.51219512, 0.51219512,\n",
              "       0.65853659, 0.63414634])"
            ]
          },
          "metadata": {},
          "execution_count": 71
        }
      ]
    },
    {
      "cell_type": "code",
      "metadata": {
        "id": "zsyunorUo-KX"
      },
      "source": [
        "def stochastic_gradient_descent(X, y, iterasi, learning_rate = 0.1):\n",
        "\n",
        "    jumlah_variabel = X.shape[1]                   # array numpy dengan 1 baris dan sejumlah kolom variabel\n",
        "                                                   # Contoh: X_array([[1,2], [3,4], [5,5], [6,6], [7,2], [8,1]])\n",
        "    \n",
        "    bpoly = np.ones(shape=(jumlah_variabel))       # b1, b2, ... b(jumlah variabel)\n",
        "    b0 = 0                                         # b0 atau bias\n",
        "    n = X.shape[0]                                 # jumlah baris data X\n",
        "    \n",
        "    cost_list = []                                 # list untuk menampung nilai cost setiap iterasi\n",
        "    iterasi_list = []                              # list untuk menampung nilai n iterasi(1, 2, 3, ..., n)\n",
        "    b_list=[]                                      # list untuk menampung nilai parameter regresi b0, b1, .. b(jumlah_variabel) \n",
        "                                                   # setiap iterasi\n",
        "    \n",
        "    # Program akan berjalan hingga sejumlah iterasi=n dicapai\n",
        "    for i in range(iterasi):  \n",
        "        \n",
        "        random_index = random.randint(0, n-1)      # Memilih indeks data random untuk update parameter\n",
        "        sample_x = X[random_index]\n",
        "        sample_y = y[random_index]\n",
        "        \n",
        "        y_pred = np.dot(bpoly, sample_x.T) + b0                  # Menghitung y_pred pada setiap iterasi\n",
        "        \n",
        "        bpoly_grad = -(2/n)*(sample_x.T.dot(sample_y-y_pred))    # Menghitung perubahan/gradien bpoly setiap iterasi\n",
        "        b0_grad = -(2/n)*np.sum(sample_y-y_pred)                 # Menghitung perubahan/gradien b0 setiap iterasi\n",
        "        bpoly = bpoly - learning_rate * bpoly_grad               # Memperbaharui bpoly setiap iterasi\n",
        "        b0 = b0 - learning_rate * b0_grad                        # Memperbaharui bpoly setiap iterasi\n",
        "        \n",
        "        # Menyimpan parameter b dalam list tunggal\n",
        "        bp=[]\n",
        "        for jv in range(jumlah_variabel):\n",
        "            bp1=bpoly[jv]\n",
        "            bp.append(bp1)\n",
        "        b=[b0]+bp\n",
        "        \n",
        "        cost = np.mean(np.square(sample_y-y_pred))        # MSE (Mean Squared Error)\n",
        "        \n",
        "        if i%100==0:                                      # Hanya mengambil hasil pada iterasi kelipatan 10\n",
        "            cost_list.append(cost)                        # Menyimpan nilai cost setiap iterasi\n",
        "            iterasi_list.append(i)                        # Menyimpan nilai iterasi setiap iterasi\n",
        "            b_list.append(b)                              # Menyimpan nilai parameter b setiap iterasi\n",
        "        \n",
        "    return bpoly, b0, cost, b_list, cost_list, iterasi_list  # Ouput"
      ],
      "execution_count": null,
      "outputs": []
    },
    {
      "cell_type": "code",
      "metadata": {
        "colab": {
          "base_uri": "https://localhost:8080/"
        },
        "id": "hjZOqxbybI5n",
        "outputId": "71cd6633-9125-4d3b-9e3a-8b88964f2d62"
      },
      "source": [
        "import random\n",
        "random.randint(0, 10)"
      ],
      "execution_count": null,
      "outputs": [
        {
          "output_type": "execute_result",
          "data": {
            "text/plain": [
              "10"
            ]
          },
          "metadata": {},
          "execution_count": 73
        }
      ]
    },
    {
      "cell_type": "code",
      "metadata": {
        "colab": {
          "base_uri": "https://localhost:8080/"
        },
        "id": "irO3cxVabPr-",
        "outputId": "7a957d6e-610f-42d5-a19d-445a7bc85dbf"
      },
      "source": [
        "import time\n",
        "mulai = time.time()\n",
        "s_bpoly, s_b0, s_cost, s_b_list, s_cost_list, s_iterasi_list=stochastic_gradient_descent(scaled_X, scaled_y_reshape, iterasi=10000, learning_rate = 0.01)\n",
        "selesai = time.time()\n",
        "waktu_komputasi = (selesai - mulai)\n",
        "print(\"Waktu Komputasi: \",waktu_komputasi)"
      ],
      "execution_count": null,
      "outputs": [
        {
          "output_type": "stream",
          "name": "stdout",
          "text": [
            "Waktu Komputasi:  0.34521937370300293\n"
          ]
        }
      ]
    },
    {
      "cell_type": "code",
      "metadata": {
        "colab": {
          "base_uri": "https://localhost:8080/",
          "height": 295
        },
        "id": "Mou6ZtG7dEst",
        "outputId": "e94a466f-9c64-4248-9246-32f4b6ca9d5b"
      },
      "source": [
        "plt.xlabel(\"Iterasi\")\n",
        "plt.ylabel(\"cost\")\n",
        "plt.title(\"Stochastic Gradient Descent\")\n",
        "plt.plot(s_iterasi_list,s_cost_list, color='red', label='Eror')\n",
        "plt.show()"
      ],
      "execution_count": null,
      "outputs": [
        {
          "output_type": "display_data",
          "data": {
            "image/png": "[encoded data removed]",
            "text/plain": [
              "<Figure size 432x288 with 1 Axes>"
            ]
          },
          "metadata": {
            "needs_background": "light"
          }
        }
      ]
    },
    {
      "cell_type": "code",
      "metadata": {
        "colab": {
          "base_uri": "https://localhost:8080/"
        },
        "id": "U0jOu7U4dLr2",
        "outputId": "3c922687-ad3a-4bbf-9364-557b1136b5ce"
      },
      "source": [
        "import random\n",
        "np.random.permutation(20)"
      ],
      "execution_count": null,
      "outputs": [
        {
          "output_type": "execute_result",
          "data": {
            "text/plain": [
              "array([ 7, 13,  2, 16, 14,  4, 15, 18,  9,  1,  8, 19,  0, 17,  3, 12, 10,\n",
              "        6,  5, 11])"
            ]
          },
          "metadata": {},
          "execution_count": 76
        }
      ]
    },
    {
      "cell_type": "code",
      "metadata": {
        "id": "f2BwK_e_dOCy"
      },
      "source": [
        "def mini_batch_gradient_descent(X, y, iterasi, batch_size = 5, learning_rate = 0.1):\n",
        "\n",
        "    jumlah_variabel = X.shape[1]                   # array numpy dengan 1 baris dan sejumlah kolom variabel\n",
        "                                                   # Contoh: X_array([[1,2], [3,4], [5,5], [6,6], [7,2], [8,1]])\n",
        "    \n",
        "    bpoly = np.ones(shape=(jumlah_variabel))       # b1, b2, ... b(jumlah variabel)\n",
        "    b0 = 0                                         # b0 atau bias\n",
        "    n = X.shape[0]                                 # jumlah baris data X\n",
        "    \n",
        "    if batch_size > n: \n",
        "        batch_size = n                             # Jika batch size > n maka akan menjadi bacth gradient descent biasa\n",
        "        \n",
        "    cost_list = []                                 # list untuk menampung nilai cost setiap iterasi\n",
        "    iterasi_list = []                              # list untuk menampung nilai n iterasi(1, 2, 3, ..., n)\n",
        "    b_list=[]                                      # list untuk menampung nilai parameter regresi b0, b1, .. b(jumlah_variabel) \n",
        "                                                   # setiap iterasi\n",
        "    \n",
        "    jumlah_batch = int(n/batch_size)\n",
        "    \n",
        "    # Program akan berjalan hingga sejumlah iterasi=n dicapai\n",
        "    for i in range(iterasi):  \n",
        "        \n",
        "        random_indices = np.random.permutation(n)      # Memilih indeks data random untuk update parameter\n",
        "        X_smntr = X[random_indices]\n",
        "        y_smntr = y[random_indices]\n",
        "        \n",
        "        for j in range(0, n, batch_size):\n",
        "            Xj = X_smntr[j:j+batch_size]\n",
        "            yj = y_smntr[j:j+batch_size]\n",
        "            \n",
        "            y_pred = np.dot(bpoly, Xj.T) + b0           # Menghitung y_pred pada setiap iterasi\n",
        "        \n",
        "            bpoly_grad = -(2/len(Xj))*(Xj.T.dot(yj-y_pred))   # Menghitung perubahan/gradien bpoly setiap iterasi\n",
        "            b0_grad = -(2/len(Xj))*np.sum(yj-y_pred)          # Menghitung perubahan/gradien b0 setiap iterasi\n",
        "            bpoly = bpoly - learning_rate * bpoly_grad        # Memperbaharui bpoly setiap iterasi\n",
        "            b0 = b0 - learning_rate * b0_grad                 # Memperbaharui bpoly setiap iterasi\n",
        "        \n",
        "            # Menyimpan parameter b dalam list tunggal\n",
        "            bp=[]\n",
        "            for jv in range(jumlah_variabel):\n",
        "                bp1=bpoly[jv]\n",
        "                bp.append(bp1)\n",
        "            b=[b0]+bp\n",
        "        \n",
        "            cost = np.mean(np.square(yj-y_pred))       # MSE (Mean Squared Error)\n",
        "        \n",
        "        if i%100==0: # Hanya mengambil hasil pada iterasi kelipatan 10\n",
        "            cost_list.append(cost)                     # Menyimpan nilai cost setiap iterasi\n",
        "            iterasi_list.append(i)                     # Menyimpan nilai iterasi setiap iterasi\n",
        "            b_list.append(b)                           # Menyimpan nilai parameter b setiap iterasi\n",
        "        \n",
        "    return bpoly, b0, cost, b_list, cost_list, iterasi_list  # Ouput"
      ],
      "execution_count": null,
      "outputs": []
    },
    {
      "cell_type": "code",
      "metadata": {
        "colab": {
          "base_uri": "https://localhost:8080/"
        },
        "id": "DHaiUbBDdUEz",
        "outputId": "41d5bb70-2c6a-4b2d-fdc8-fd6ef0d495c3"
      },
      "source": [
        "mulai = time.time()\n",
        "mb_bpoly, mb_b0, mb_cost, mb_b_list, mb_cost_list, mb_iterasi_list=mini_batch_gradient_descent(scaled_X, \n",
        "                                                                                               scaled_y_reshape,\n",
        "                                                                                               iterasi=10000, \n",
        "                                                                                               batch_size = 5, \n",
        "                                                                                               learning_rate = 0.1)\n",
        "selesai = time.time()\n",
        "waktu_komputasi = (selesai - mulai)\n",
        "print(\"Waktu Komputasi: \",waktu_komputasi)"
      ],
      "execution_count": null,
      "outputs": [
        {
          "output_type": "stream",
          "name": "stdout",
          "text": [
            "Waktu Komputasi:  4.052391290664673\n"
          ]
        }
      ]
    },
    {
      "cell_type": "code",
      "metadata": {
        "colab": {
          "base_uri": "https://localhost:8080/",
          "height": 295
        },
        "id": "aSjNOF7_dXpb",
        "outputId": "e060f98b-3754-4fc2-83b4-b9ad4e73be72"
      },
      "source": [
        "plt.xlabel(\"Iterasi\")\n",
        "plt.ylabel(\"cost\")\n",
        "plt.title(\"Mini Batch Gradient Descent\")\n",
        "plt.plot(mb_iterasi_list,mb_cost_list, color='red', label='Eror')\n",
        "plt.show()"
      ],
      "execution_count": null,
      "outputs": [
        {
          "output_type": "display_data",
          "data": {
            "image/png": "[encoded data removed]",
            "text/plain": [
              "<Figure size 432x288 with 1 Axes>"
            ]
          },
          "metadata": {
            "needs_background": "light"
          }
        }
      ]
    }
  ]
}